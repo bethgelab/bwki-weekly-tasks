{
 "cells": [
  {
   "cell_type": "markdown",
   "metadata": {},
   "source": [
    "# Lösung zu Aufgabe 3: Tic Tac Toe - KI"
   ]
  },
  {
   "cell_type": "markdown",
   "metadata": {},
   "source": [
    "Willkommen zu unserer Aufgabe der Woche!\n",
    "\n",
    "Der Bundeswettbewerb Künstliche Intelligenz stellt euch jede Woche eine spannende oder kniffelige Programmieraufgabe, in der ihr euer Programmiergeschick auf die Probe stellen könnt.\n",
    "\n",
    "Jede Woche habt ihr die Chance auf einen von zwei Amazon-Gutscheinen im Wert von 25€! Wer jede Aufgabe in einem Monat einschickt, nimmt in der Monatsverlosung teil und kann einen 50€-Amazon-Gutschein gewinnen! Ihr könnt eure Lösung immer bis Sonntag 22 Uhr der gleichen Woche per Mail an **aufgabe-der-woche@bw-ki.de** einreichen.\n",
    "\n",
    "Bitte lade dazu das Notebook unter \"File/Download as/Notebook (.ipynb)\" runter. Verändere den Namen der Datei nicht und **vergiss nicht im ersten Feld deinen Namen und deine E-Mailadresse anzugeben**.\n",
    "\n",
    "Es werden nur korrekte Lösungen berücksichtigt. Voraussetzung für die Teilnahme ist die Registrierung eures vollständigen Accounts im Loginbereich des Bundeswettbewerbs Künstliche Intelligenz. Es gelten die Teilnahmebedingungen (https://bw-ki.de/teilnahmebedingungen/) und Datenschutzrichtlinien (https://bw-ki.de/datenschutz/) des Wettbewerbs.\n",
    "\n",
    "Wir freuen uns auch immer über **Feedback** von euch (siehe ganz unten)!"
   ]
  },
  {
   "cell_type": "markdown",
   "metadata": {},
   "source": [
    "Dein vollständiger Name:\n",
    "\n",
    "Deine E-Mailadresse:"
   ]
  },
  {
   "cell_type": "markdown",
   "metadata": {},
   "source": [
    "## In dieser Aufgabe geht es darum eine einfache KI für Tic Tac Toe zu programmieren."
   ]
  },
  {
   "cell_type": "markdown",
   "metadata": {},
   "source": [
    "Dein Ziel ist, dass du gegen eine KI Tic Tac Toe spielen kannst. Wir werden zwei KIs implementieren: eine zufällige KI, die einfach nur ein freies Feld wählt und eine simple KI, die erkennen kann, ob sie im nächsten Zug gewinnen oder verlieren wird.\n",
    "\n",
    "Du musst den folgenden Code bei \"...\" erweitern."
   ]
  },
  {
   "cell_type": "code",
   "execution_count": null,
   "metadata": {
    "collapsed": true
   },
   "outputs": [],
   "source": [
    "# Wir erstellen das Spielfeld.\n",
    "def init_spielfeld():\n",
    "    spielfeld = [\" \",\n",
    "                 \"1\",\"2\",\"3\",\n",
    "                 \"4\",\"5\",\"6\",\n",
    "                 \"7\",\"8\",\"9\"]\n",
    "    return spielfeld\n",
    "\n",
    "# Da die Indizierung bei 0 beginnt, das aber zu Verwirrung führen kann, bleibt das erste Feld leer."
   ]
  },
  {
   "cell_type": "code",
   "execution_count": null,
   "metadata": {
    "collapsed": false
   },
   "outputs": [],
   "source": [
    "# Das Spielfeld wird ausgegeben\n",
    "\n",
    "def spielfeld_ausgeben(spielfeld):\n",
    "    print (spielfeld[1] + \"|\" + spielfeld[2] + \"|\" + spielfeld[3] )\n",
    "    print (spielfeld[4] + \"|\" + spielfeld[5] + \"|\" + spielfeld[6] )\n",
    "    print (spielfeld[7] + \"|\" + spielfeld[8] + \"|\" + spielfeld[9] )\n",
    "\n",
    "\n",
    "spielfeld = init_spielfeld()\n",
    "spielfeld_ausgeben(spielfeld)"
   ]
  },
  {
   "cell_type": "code",
   "execution_count": null,
   "metadata": {
    "collapsed": true
   },
   "outputs": [],
   "source": [
    "# Menschlicher Spieler gibt gewünschtes Feld (1-9) oder Abbruch (0) ein\n",
    "\n",
    "def eingabe():\n",
    "    while True:\n",
    "        try:\n",
    "            # input() nimmt Eingaben über die Tastatur auf\n",
    "            feld = input(\"Auf welches Feld möchtest du setzen (1-9)? 0 beendet das Spiel.\")\n",
    "            feld = int(feld)\n",
    "            break\n",
    "        # Falls keine Zahl eingegeben wurde, Eingabe wiederholen\n",
    "        except ValueError:\n",
    "            print(\"Bitte eine Zahl eingeben.\")\n",
    "    return feld"
   ]
  },
  {
   "cell_type": "code",
   "execution_count": null,
   "metadata": {
    "collapsed": true
   },
   "outputs": [],
   "source": [
    "# Diese KI soll zufällig ein Feld auf dem Spielplan aussuchen\n",
    "\n",
    "# Verwende dazu die Funktion:  random.randrange(start, stop)\n",
    "# Hinweis: Achte bei Funktionen wie random.randrange(start,stop) darauf, ob die Grenzen (also start und stop)\n",
    "#          eingeschlossen sind oder nicht z.B. range(1,10) gibt eine Zahlenreihe von 1 bis 9 zurück (nicht bis 10)\n",
    "\n",
    "import random\n",
    "\n",
    "def eingabe_ki_zufaellig():\n",
    "    feld = int(random.randrange(1,10))\n",
    "    return feld"
   ]
  },
  {
   "cell_type": "code",
   "execution_count": null,
   "metadata": {
    "collapsed": true
   },
   "outputs": [],
   "source": [
    "# Ist es möglich in einem Zug zu gewinnen oder zu verlieren?\n",
    "# Diese Funktion soll das relevante Feld zurück geben\n",
    "# oder \"False\", falls es nicht möglich ist zu gewinnen oder zu verlieren.\n",
    "\n",
    "def gewonnen_next(spielfeld):\n",
    "    feld=False\n",
    "    #Horizontalen (Zeilen):\n",
    "    for i in range(1,8,3):\n",
    "        if spielfeld[i]==spielfeld[i+1] and not(spielfeld[i+2] in (\"X\",\"O\")):\n",
    "            feld = i+2\n",
    "        elif spielfeld[i]==spielfeld[i+2] and not(spielfeld[i+1] in (\"X\",\"O\")):\n",
    "            feld = i+1\n",
    "        elif spielfeld[i+1]==spielfeld[i+2] and not(spielfeld[i] in (\"X\",\"O\")):\n",
    "            feld = i\n",
    "    #Vertikalen (Spalten):\n",
    "    for i in range(1,4):\n",
    "        if spielfeld[i]==spielfeld[i+3] and not(spielfeld[i+6] in (\"X\",\"O\")):\n",
    "            feld = i+6\n",
    "        elif spielfeld[i]==spielfeld[i+6] and not(spielfeld[i+3] in (\"X\",\"O\")):\n",
    "            feld = i+3\n",
    "        elif spielfeld[i+3]==spielfeld[i+6] and not(spielfeld[i] in (\"X\",\"O\")):\n",
    "            feld = i\n",
    "    #Diagonalen\n",
    "    if spielfeld[1]==spielfeld[5] and not(spielfeld[9] in (\"X\",\"O\")):\n",
    "        feld = 9\n",
    "    elif spielfeld[1]==spielfeld[9] and not(spielfeld[5] in (\"X\",\"O\")):\n",
    "        feld = 5\n",
    "    elif spielfeld[5]==spielfeld[9] and not(spielfeld[1] in (\"X\",\"O\")):\n",
    "        feld = 1\n",
    "        \n",
    "    elif spielfeld[3]==spielfeld[5] and not(spielfeld[7] in (\"X\",\"O\")):\n",
    "        feld = 7\n",
    "    elif spielfeld[3]==spielfeld[7] and not(spielfeld[5] in (\"X\",\"O\")):\n",
    "        feld = 5\n",
    "    elif spielfeld[5]==spielfeld[7] and not(spielfeld[3] in (\"X\",\"O\")):\n",
    "        feld = 3\n",
    "        \n",
    "    return feld"
   ]
  },
  {
   "cell_type": "code",
   "execution_count": null,
   "metadata": {
    "collapsed": true
   },
   "outputs": [],
   "source": [
    "# Diese KI soll erkennen, ob sie im nächsten Zug gewinnen kann\n",
    "# oder den gegnerischen Sieg verhindern kann.\n",
    "# Dazu muss sie überprüfen, ob es möglich ist, drei Felder in einer Reihe, Spalte oder Diagonale zu erreichen\n",
    "\n",
    "# Falls die KI im nächsten Zug weder gewinnen noch verlieren kann, soll sie ein zufälliges Feld wählen.\n",
    "\n",
    "def eingabe_ki_simpel(spielfeld):\n",
    "    win = gewonnen_next(spielfeld)\n",
    "    if win == False:\n",
    "        feld = int(random.randrange(1,10))\n",
    "    else:\n",
    "        feld = win\n",
    "        \n",
    "    return feld"
   ]
  },
  {
   "cell_type": "code",
   "execution_count": null,
   "metadata": {
    "collapsed": true
   },
   "outputs": [],
   "source": [
    "# Funktion, die überprüft, ob ein Spieler gewonnen hat\n",
    "def gewonnen(spielfeld):\n",
    "    \n",
    "    # Horizontalen (Zeilen) überprüfen\n",
    "    for i in range(1,10,3):\n",
    "        if spielfeld[i] == spielfeld[i+1] == spielfeld[i+2]:\n",
    "            return True\n",
    "        \n",
    "    # Vertikalen (Spalten) überprüfen\n",
    "    for i in range(1,4):\n",
    "        if spielfeld[i] == spielfeld[i+3] == spielfeld[i+6]:\n",
    "            return True\n",
    "    \n",
    "    # Diagonalen überprüfen\n",
    "    if spielfeld[1] == spielfeld[5] == spielfeld[9]:\n",
    "        return True\n",
    "    \n",
    "    elif spielfeld[7] == spielfeld[5] == spielfeld[3]:\n",
    "        return True\n",
    "    \n",
    "    else:\n",
    "        return False"
   ]
  },
  {
   "cell_type": "markdown",
   "metadata": {},
   "source": [
    "Damit du gegen eine KI spielen kannst, müssen wir den Code von letzter Woche anpassen."
   ]
  },
  {
   "cell_type": "code",
   "execution_count": null,
   "metadata": {
    "collapsed": false
   },
   "outputs": [],
   "source": [
    "# Es kann 9 mal ein Feld belegt werden\n",
    "counter = 0\n",
    "\n",
    "ki = None\n",
    "while not ki in [\"Mensch\", \"ki_zufaellig\", \"ki_simpel\"]:\n",
    "    ki = input(\"Wer ist dein Gegenspieler? Mensch, ki_zufaellig oder ki_simpel?\")\n",
    "\n",
    "spieler = 1\n",
    "\n",
    "# Spielfeld initialisieren\n",
    "spielfeld = init_spielfeld()\n",
    "\n",
    "while True:\n",
    "    # Eingabe des Zuges\n",
    "    print(\"Es ist Spieler \", spieler, \" am Zug.\")\n",
    "    if spieler == 1:\n",
    "        feld = eingabe()\n",
    "    if spieler == ki:\n",
    "        if ki == \"Mensch\":\n",
    "            feld = eingabe()\n",
    "        elif spieler == \"ki_zufaellig\":\n",
    "            feld = eingabe_ki_zufaellig()\n",
    "        elif spieler == \"ki_simpel\":\n",
    "            feld = eingabe_ki_simpel(spielfeld)\n",
    "            \n",
    "    print(feld, \" wurde gewählt.\")    \n",
    "    if feld == 0:\n",
    "        print(\"Das Spiel wurde beendet.\")\n",
    "        break\n",
    "        \n",
    "    # auf korrekte Eingabe überprüfen und Spielzug ausführen\n",
    "    elif feld >= 1 and feld <= 9 and spielfeld[feld] != 'X' and spielfeld[feld] != 'O':\n",
    "        if spieler == 1:\n",
    "            spielfeld[feld] = 'X'\n",
    "            naechster_spieler = ki\n",
    "        else:\n",
    "            spielfeld[feld] = 'O'\n",
    "            naechster_spieler = 1\n",
    "    else:\n",
    "        print(\"Bitte ein korrektes Feld eingeben.\")\n",
    "        continue\n",
    "    \n",
    "    spielfeld_ausgeben(spielfeld)\n",
    "    \n",
    "    # überprüfe, ob das Spiel gewonnen ist\n",
    "    if gewonnen(spielfeld):\n",
    "        print(\"Spieler {} gewinnt das Spiel!\".format(spieler))\n",
    "        break\n",
    "    else:\n",
    "        spieler = naechster_spieler\n",
    "    \n",
    "    # sind alle Felder belegt?\n",
    "    counter += 1\n",
    "    if counter == 9:\n",
    "        print(\"Das Spiel ist zu Ende.\")\n",
    "        break\n",
    "        \n",
    "    "
   ]
  }
 ],
 "metadata": {
  "anaconda-cloud": {},
  "kernelspec": {
   "display_name": "Python [conda env:bwki_env]",
   "language": "python",
   "name": "conda-env-bwki_env-py"
  },
  "language_info": {
   "codemirror_mode": {
    "name": "ipython",
    "version": 3
   },
   "file_extension": ".py",
   "mimetype": "text/x-python",
   "name": "python",
   "nbconvert_exporter": "python",
   "pygments_lexer": "ipython3",
   "version": "3.8.2"
  }
 },
 "nbformat": 4,
 "nbformat_minor": 2
}
