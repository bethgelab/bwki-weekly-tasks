{
 "cells": [
  {
   "cell_type": "markdown",
   "metadata": {},
   "source": [
    "## April Woche 1: 1-2-Künstliche-4-Intelligenz"
   ]
  },
  {
   "cell_type": "markdown",
   "metadata": {},
   "source": [
    "## In dieser Aufgabe programmieren wir ein Zahlenspiel"
   ]
  },
  {
   "cell_type": "markdown",
   "metadata": {},
   "source": [
    "In dieser Aufgabe sollst du ein Programm schreiben,\n",
    "dass Zahlen von 1 bis 100 ausschreibt und \n",
    "für jede Zahl, die durch 3 teilbar ist, \"Künstliche\" schreibt, \n",
    "für jede Zahl, die durch 5 teilbar ist, \"Intelligenz\" schreibt und\n",
    "für Zahlen, die durch 3 und durch 5 teilbar sind, \"BWKI\" schreibt."
   ]
  },
  {
   "cell_type": "markdown",
   "metadata": {},
   "source": [
    "Für diese Aufgabe kannst du Modulo verwenden. Modulo, \"%\" geschrieben, gibt dir den Rest einer Division aus:"
   ]
  },
  {
   "cell_type": "code",
   "execution_count": null,
   "metadata": {},
   "outputs": [],
   "source": [
    "# Division\n",
    "print(11/ 3)\n",
    "# ganzzahlige Division\n",
    "print(11 // 3)\n",
    "# Rest der Division\n",
    "print(11 % 3)"
   ]
  },
  {
   "cell_type": "markdown",
   "metadata": {},
   "source": [
    "# Häufig gibt es mehrere Möglichkeiten eine Aufgabe richtig zu lösen:"
   ]
  },
  {
   "cell_type": "code",
   "execution_count": null,
   "metadata": {},
   "outputs": [],
   "source": [
    "# verschachtelte if-Abfragen\n",
    "\n",
    "for i in range(1, 101):\n",
    "    if i % 3 == 0:\n",
    "        if i % 5 == 0:\n",
    "            print(\"BWKI\")\n",
    "        else:\n",
    "            print(\"Künstliche\")\n",
    "    elif i % 5 == 0:\n",
    "        print(\"Intelligenz\")\n",
    "    else:\n",
    "        print(i)"
   ]
  },
  {
   "cell_type": "code",
   "execution_count": null,
   "metadata": {},
   "outputs": [],
   "source": [
    "# logische Operatoren\n",
    "\n",
    "for i in range(1, 101):\n",
    "    \n",
    "    if (i % 3 == 0) and (i % 5 == 0):\n",
    "        print(\"BWKI\")\n",
    "    elif i % 3 == 0:\n",
    "        print(\"Künstliche\")\n",
    "    elif i % 5 == 0:\n",
    "        print(\"Intelligenz\")\n",
    "    else:\n",
    "        print(i)"
   ]
  },
  {
   "cell_type": "code",
   "execution_count": null,
   "metadata": {},
   "outputs": [],
   "source": [
    "# while-Schleife\n",
    "\n",
    "i = 1\n",
    "\n",
    "while i < 101:\n",
    "    if i%3 == 0 and i%5 != 0:\n",
    "        print(\"Künstliche\")\n",
    "        i +=1\n",
    "    elif i%5 == 0 and i%3 != 0:\n",
    "        print(\"Intelligenz\")\n",
    "        i += 1\n",
    "    elif i%5 == 0 and i%3 == 0:\n",
    "        print(\"BWKI\")\n",
    "        i += 1\n",
    "    else:\n",
    "        print(i)\n",
    "        i += 1"
   ]
  }
 ],
 "metadata": {
  "kernelspec": {
   "display_name": "Python 3",
   "language": "python",
   "name": "python3"
  },
  "language_info": {
   "codemirror_mode": {
    "name": "ipython",
    "version": 3
   },
   "file_extension": ".py",
   "mimetype": "text/x-python",
   "name": "python",
   "nbconvert_exporter": "python",
   "pygments_lexer": "ipython3",
   "version": "3.7.4"
  }
 },
 "nbformat": 4,
 "nbformat_minor": 2
}
