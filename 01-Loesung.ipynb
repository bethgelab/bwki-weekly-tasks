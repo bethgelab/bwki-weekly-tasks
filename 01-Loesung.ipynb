{
 "cells": [
  {
   "cell_type": "markdown",
   "metadata": {},
   "source": [
    "# Zahlenspiel: 1-2-Künstliche-4-Intelligenz\n",
    "### - Lösung -"
   ]
  },
  {
   "cell_type": "markdown",
   "metadata": {},
   "source": [
    "## In dieser Aufgabe programmieren wir ein Zahlenspiel"
   ]
  },
  {
   "cell_type": "markdown",
   "metadata": {},
   "source": [
    "In dieser Aufgabe sollst du ein Programm schreiben,\n",
    "dass Zahlen von 1 bis 100 ausschreibt und \n",
    "für jede Zahl, die durch 3 teilbar ist, \"Künstliche\" schreibt, \n",
    "für jede Zahl, die durch 5 teilbar ist, \"Intelligenz\" schreibt und\n",
    "für Zahlen, die durch 3 und durch 5 teilbar sind, \"BWKI\" schreibt."
   ]
  },
  {
   "cell_type": "markdown",
   "metadata": {},
   "source": [
    "Für diese Aufgabe kannst du Modulo verwenden. Modulo, \"%\" geschrieben, gibt dir den Rest einer Division aus:"
   ]
  },
  {
   "cell_type": "code",
   "execution_count": null,
   "metadata": {
    "collapsed": true
   },
   "outputs": [],
   "source": [
    "# Division\n",
    "print(11/ 3)\n",
    "# ganzzahlige Division\n",
    "print(11 // 3)\n",
    "# Rest der Division\n",
    "print(11 % 3)"
   ]
  },
  {
   "cell_type": "markdown",
   "metadata": {},
   "source": [
    "## Häufig gibt es mehrere Möglichkeiten eine Aufgabe richtig zu lösen:"
   ]
  },
  {
   "cell_type": "code",
   "execution_count": null,
   "metadata": {
    "collapsed": true
   },
   "outputs": [],
   "source": [
    "# verschachtelte if-Abfragen\n",
    "\n",
    "for i in range(1, 101):\n",
    "    if i % 3 == 0:\n",
    "        if i % 5 == 0:\n",
    "            print(\"BWKI\")\n",
    "        else:\n",
    "            print(\"Künstliche\")\n",
    "    elif i % 5 == 0:\n",
    "        print(\"Intelligenz\")\n",
    "    else:\n",
    "        print(i)"
   ]
  },
  {
   "cell_type": "code",
   "execution_count": null,
   "metadata": {
    "collapsed": true
   },
   "outputs": [],
   "source": [
    "# logische Operatoren\n",
    "\n",
    "for i in range(1, 101):\n",
    "    \n",
    "    if (i % 3 == 0) and (i % 5 == 0):\n",
    "        print(\"BWKI\")\n",
    "    elif i % 3 == 0:\n",
    "        print(\"Künstliche\")\n",
    "    elif i % 5 == 0:\n",
    "        print(\"Intelligenz\")\n",
    "    else:\n",
    "        print(i)"
   ]
  },
  {
   "cell_type": "code",
   "execution_count": null,
   "metadata": {
    "collapsed": true
   },
   "outputs": [],
   "source": [
    "# while-Schleife\n",
    "\n",
    "i = 1\n",
    "\n",
    "while i < 101:\n",
    "    if i%3 == 0 and i%5 != 0:\n",
    "        print(\"Künstliche\")\n",
    "        i +=1\n",
    "    elif i%5 == 0 and i%3 != 0:\n",
    "        print(\"Intelligenz\")\n",
    "        i += 1\n",
    "    elif i%5 == 0 and i%3 == 0:\n",
    "        print(\"BWKI\")\n",
    "        i += 1\n",
    "    else:\n",
    "        print(i)\n",
    "        i += 1"
   ]
  },
  {
   "cell_type": "markdown",
   "metadata": {},
   "source": [
    "## Fragen & Feedback:\n",
    "\n",
    "**Wenn ihr Fragen oder Anregungen zu der Aufgabe (oder Lösung) habt, dann tauscht euch gerne im [Chat](https://spectrum.chat/bwki/aufgabenarchiv/) darüber aus oder schreibt uns eine E-Mail (an info@bw-ki.de).**\n",
    "\n",
    "Wir freuen uns auch immer über **Feedback** (auch unter info@bw-ki.de):\n",
    "\n",
    "- War diese Aufgabe zu leicht, zu schwer oder genau richtig?\n",
    "- Wie lang hast du für diese Aufgabe ungefähr gebraucht?\n",
    "- Welche Art von Aufgaben wünschst du dir in Zukunft?"
   ]
  }
 ],
 "metadata": {
  "anaconda-cloud": {},
  "kernelspec": {
   "display_name": "Python [conda env:bwki_env]",
   "language": "python",
   "name": "conda-env-bwki_env-py"
  },
  "language_info": {
   "codemirror_mode": {
    "name": "ipython",
    "version": 3
   },
   "file_extension": ".py",
   "mimetype": "text/x-python",
   "name": "python",
   "nbconvert_exporter": "python",
   "pygments_lexer": "ipython3",
   "version": "3.8.2"
  }
 },
 "nbformat": 4,
 "nbformat_minor": 2
}
