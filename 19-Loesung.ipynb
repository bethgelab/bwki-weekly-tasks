{
 "cells": [
  {
   "cell_type": "markdown",
   "metadata": {},
   "source": [
    "# **(fast) ein Palindrom**\n",
    "### **- Lösung -**"
   ]
  },
  {
   "cell_type": "markdown",
   "metadata": {},
   "source": [
    "### In dieser Aufgabe soll geprüft werden, ob ein Wort ein Palindrom sein kann, wenn maximal ein Zeichen entfernt werden darf."
   ]
  },
  {
   "cell_type": "markdown",
   "metadata": {},
   "source": [
    "Was ist eigentlich ein Palindrom?"
   ]
  },
  {
   "cell_type": "markdown",
   "metadata": {},
   "source": [
    "In der Informatik lässt sich ein Palindrom rekursiv definieren\n",
    "- Das leere Wort (das Wort der Länge 0) ist ein Palindrom.\n",
    "- Jedes Wort x der Länge 1 ist ein Palindrom.\n",
    "- Ist a ein Symbol und x ein Palindrom, so ist axa ein Palindrom.\n",
    "- Kein anderes Wort ist ein Palindrom."
   ]
  },
  {
   "cell_type": "markdown",
   "metadata": {},
   "source": [
    "Oder etwas umgangssprachlicher:\n",
    "Ein Wort, welches rückwärts wie vorwärts gelesen gleich ist."
   ]
  },
  {
   "cell_type": "markdown",
   "metadata": {},
   "source": [
    "Beispiele:\n",
    "- \"neben\" -> Ist ein Palindrom\n",
    "- \"anabna\" -> Ist ein Palindrom, wenn \"b\" entfernt wird \n",
    "- \"abbaaa\" -> kann nicht durch das entfernen eines Buchstaben zu einen Palindrom werden"
   ]
  },
  {
   "cell_type": "code",
   "execution_count": 4,
   "metadata": {},
   "outputs": [],
   "source": [
    "# Implementiere hier die Funktion, die einen String als Eingabe\n",
    "# bekommt und True ausgibt, wenn der String durch das Entfernen \n",
    "# von maximal einem Buchtsaben zu einen Palindrom wird.\n",
    "\n",
    "def gültigesPalindrome(s: str) -> bool:\n",
    "    # Prüfe, ob das Eingabewort selbst evtl. schon ein Palindrom ist\n",
    "    if s == s[::-1]:\n",
    "        return True\n",
    "    # Prüfe für jedes Zeichen in s, ob s ohne dieses zeichen ein Palindrom ist\n",
    "    for i in range(len(s)):\n",
    "        t = s[0:i] + s[i + 1:]\n",
    "        if t == t[::-1]:\n",
    "            return True\n",
    "    return False"
   ]
  },
  {
   "cell_type": "markdown",
   "metadata": {},
   "source": [
    "Die obige Lösung ist zwar leicht verständlich, aber auch ziemlich umständlich. Im schlechtesten Fall muss für jedes Zeichen des Eingabestrings geprüft werden, ob das Wort ohne dieses Zeichen ein Palindrom ist. "
   ]
  },
  {
   "cell_type": "code",
   "execution_count": 5,
   "metadata": {},
   "outputs": [],
   "source": [
    "# Kannst du dieses Programm verstehen und erkennen warum es effizienter\n",
    "# als das obige ist?\n",
    "def validPalindrome(s: str) -> bool:\n",
    "    l, r = 0, len(s) - 1\n",
    "    while l < r:\n",
    "        if s[l] == s[r]:\n",
    "            l += 1\n",
    "            r -= 1\n",
    "        else:\n",
    "            return s[l:r] == s[l:r][::-1] or s[l + 1:r + 1] == s[l + 1:r + 1][::-1]\n",
    "    return True"
   ]
  }
 ],
 "metadata": {
  "kernelspec": {
   "display_name": "Python 3",
   "language": "python",
   "name": "python3"
  },
  "language_info": {
   "codemirror_mode": {
    "name": "ipython",
    "version": 3
   },
   "file_extension": ".py",
   "mimetype": "text/x-python",
   "name": "python",
   "nbconvert_exporter": "python",
   "pygments_lexer": "ipython3",
   "version": "3.6.9"
  }
 },
 "nbformat": 4,
 "nbformat_minor": 4
}
