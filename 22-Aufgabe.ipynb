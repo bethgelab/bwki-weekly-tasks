{
 "cells": [
  {
   "cell_type": "markdown",
   "metadata": {},
   "source": [
    "# Passwortgenerator\n",
    "\n",
    "### - Aufgabe - "
   ]
  },
  {
   "cell_type": "markdown",
   "metadata": {},
   "source": [
    "Diese Aufgabe befasst sich mit der Sicherheit von Passwörtern und damit wie du dir ganz einfach sichere Passwörter erstellen kannst."
   ]
  },
  {
   "cell_type": "markdown",
   "metadata": {},
   "source": [
    "### Wie sicher ist dein Passwort?"
   ]
  },
  {
   "cell_type": "markdown",
   "metadata": {},
   "source": [
    "Auf den ersten Blick ist es ziemlich einfach zu entscheiden, wie sicher ein bestimmtes Passwort ist. Es kommt zum einen auf die Länge und zum anderen auf die Anzahl von möglichen Zeichen an. Wenn wir alle Groß- und Kleinbuchstaben, sowie die Ziffern 0-9 und als Sonderzeichen \"!$%*\" in Betracht ziehen, dann haben wir 72 verschiedene Zeichen. Bei einer Länge von einem Zeichen gibt es also 72 mögliche Passwörter. Bei einem Passwort der Länge 2 gibt es jedoch schon 72^2 also 5184 mögliche Kombinationen und bei einer Länge von 6 Zeichen sogar 72^6 = 139314069504. Hier gehen wir aber von einer idealen Welt aus, in der jeder sein Passwort zufällig aus einer uniformen Verteilung auf 72 Zeichen auswählt. "
   ]
  },
  {
   "cell_type": "markdown",
   "metadata": {},
   "source": [
    "Die Realität sieht anders aus. Das Speicherunternehmen SplashData veröffentlicht seit 2011 die \"Worst Passwords List\". Eine Liste der 10 häufigsten Passwörter. Die Quellen dafür sind Millionen von Passwörtern aus Datenlecks vor allem aus Nordamerika und Europa. "
   ]
  },
  {
   "cell_type": "markdown",
   "metadata": {},
   "source": [
    "Hier die 10 häufigsten Passwörter des Jahres 2019:\n",
    "- 123456\n",
    "- 123456789\n",
    "- qwerty\n",
    "- password\n",
    "- 1234567\n",
    "- 12345678\n",
    "- 12345\n",
    "- iloveyou\n",
    "- 111111\n",
    "- 123123"
   ]
  },
  {
   "cell_type": "markdown",
   "metadata": {},
   "source": [
    "Allein das Passwort 123456 macht 4% aller Passwörter aus. Die häufigsten 25 Passwörter decken sogar 10% aller Passwörter ab. Du kannst also 10% der Passwörter in unter 25 Versuchen erraten!"
   ]
  },
  {
   "cell_type": "markdown",
   "metadata": {},
   "source": [
    "Falls du dir jetzt denkst: Alles schön und gut, aber mein Passwort ist nicht 123456, kannst du unter https://checkdeinpasswort.de/ prüfen, wie lange ein herkömmlicher Computer brauchen würde um dein Passwort zu knacken."
   ]
  },
  {
   "cell_type": "markdown",
   "metadata": {},
   "source": [
    "### Wie kommen Hacker an dein Passwort? \n",
    "Dass andere an deine Passwörter kommen, kann vor allem zwei Gründe haben:\n",
    "\n",
    "Durch Datenlecks bei großen Online-Unternehmen gelangen immer wieder Millionen Benutzernamen und Passwörter in die Hände von Kriminellen. Das Hasso-Plattner-Institut (HPI) der Uni Potsdam geht längst von Milliarden betroffener Nutzerkonten aus. Die Passwörter und persönlichen Informationen der Inhaber kursieren in langen Listen und können theoretisch von jedem im Netz gefunden werden. Wenn ein Hacker ersteinmal an deine Email gekommen ist, kann er häufig die Nutzerdaten zu zahlreichen weiteren Accounts wie dem Lieblingsonlineshop, Sozialen Netzwerken oder gar der eigenen Cloud ersetzen. \n",
    "\n",
    "Wer davon betroffen ist, sollte dringend seine Passwörter ändern. Ob deine E-Mail-Adresse betroffen ist, kannst du ganz einfach unter https://haveibeenpwned.com/ prüfen.\n",
    "\n",
    "Neben solchen Datenlecks ist ein schlecht gewähltes Passwort nach wie vor die meist genutzte Sicherheitslücke im Internet. Dabei nutzen Hacker häufig sog. Wörterbuchangriffe (Dicitonary Attacks), bei diesen werden systematisch Wörter aus einer langen Liste durchprobiert.\n",
    "Wörterbuchangriffe funktionieren oft, weil viele PC-Anwender und Unternehmen bekannte Wörter für ihre Passwörter verwenden. Sie funktionieren dagegen nur selten bei Systemen, die mit längeren Passwörtern geschützt sind, die aus mehreren Standardwörtern bestehen. Bei Systemen, die eine zufällige Mischung aus großen und kleinen Buchstaben sowie Zahlen nutzen, sind Wörterbuchangriffe dagegen nutzlos. Bei solchen Systemen können dagegen Brute-Force-Angriffe erfolgreich sein, bei denen jede mögliche Buchstaben- und Ziffernkombination durchprobiert wird. Je nach Passwortlänge und Rechenleistung kann dies jedoch sehr lange dauern."
   ]
  },
  {
   "cell_type": "markdown",
   "metadata": {},
   "source": [
    "Die Gefahr durch Passwortangriffe lässt sich auf fast Null reduzieren, wenn die Eingabeversuche pro Zeiteinheit begrenzt werden und das Kennwort sorgfältig ausgewählt wird. Wenn zum Beispiel nur drei Versuche erlaubt sind und danach 15 Minuten vergehen müssen oder wenn ein langes und zufällig generiertes Kennwort aus großen und kleinen Buchstaben sowie Ziffern gewählt wurde, dann ist ein System praktisch unverwundbar gegen Angriffe per Wörterbuch oder Brute-Force."
   ]
  },
  {
   "cell_type": "markdown",
   "metadata": {},
   "source": [
    "### Deine Programmieraufgabe"
   ]
  },
  {
   "cell_type": "markdown",
   "metadata": {},
   "source": [
    "Um dir ein zufälliges Passwort zu generieren, kannst du den folgenden Python Code vervollständigen."
   ]
  },
  {
   "cell_type": "code",
   "execution_count": 15,
   "metadata": {},
   "outputs": [
    {
     "data": {
      "text/plain": [
       "''"
      ]
     },
     "execution_count": 15,
     "metadata": {},
     "output_type": "execute_result"
    }
   ],
   "source": [
    "import random\n",
    "\n",
    "\n",
    "# diese Funktion soll ein zufälliges Passwort der gewünschten\n",
    "# Länge bestehend aus Klein- und Großbuchstaben, sowie Zahlen\n",
    "# und Sonderzeichen ausgeben\n",
    "def generate_PW(length: int) -> str:\n",
    "    \n",
    "    return \"\"\n",
    "\n",
    "\n",
    "generate_PW(10)"
   ]
  },
  {
   "cell_type": "markdown",
   "metadata": {},
   "source": [
    "Na wo solltest du überall deine Passwörter abändern?"
   ]
  },
  {
   "cell_type": "markdown",
   "metadata": {},
   "source": [
    "## Fragen & Feedback:\n",
    "\n",
    "**Wenn ihr Fragen oder Anregungen zu der Aufgabe (oder Lösung) habt, dann tauscht euch gerne im [Chat](https://spectrum.chat/bwki/aufgabenarchiv/) darüber aus oder schreibt uns eine E-Mail (an info@bw-ki.de).**\n",
    "\n",
    "Wir freuen uns auch immer über **Feedback** (auch unter info@bw-ki.de):\n",
    "\n",
    "- War diese Aufgabe zu leicht, zu schwer oder genau richtig?\n",
    "- Wie lang hast du für diese Aufgabe ungefähr gebraucht?\n",
    "- Welche Art von Aufgaben wünschst du dir in Zukunft?"
   ]
  }
 ],
 "metadata": {
  "kernelspec": {
   "display_name": "Python 3",
   "language": "python",
   "name": "python3"
  },
  "language_info": {
   "codemirror_mode": {
    "name": "ipython",
    "version": 3
   },
   "file_extension": ".py",
   "mimetype": "text/x-python",
   "name": "python",
   "nbconvert_exporter": "python",
   "pygments_lexer": "ipython3",
   "version": "3.6.9"
  }
 },
 "nbformat": 4,
 "nbformat_minor": 4
}
