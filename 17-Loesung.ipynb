{
 "cells": [
  {
   "cell_type": "markdown",
   "metadata": {},
   "source": [
    "# **Römische Zahlen**\n",
    "### **- Aufgabe -**"
   ]
  },
  {
   "cell_type": "markdown",
   "metadata": {},
   "source": [
    "### **In dieser Aufgabe sollen römische Zahlen in Integer übersetzt werden.**"
   ]
  },
  {
   "cell_type": "markdown",
   "metadata": {},
   "source": [
    "Die römischen Zahlen haben hauptsächlich bei der Schreibweise von Zahlwörtern eine Rolle gespielt, aber kaum in Rechenoperationen. Hierfür wurden Hilfsmittel wie die Fingerzahlen, das Rechenbrett oder der Abakus herangezogen. Den römischen Zahlen wurden Werte in einem Stellenwertsystem (Anzahl Finger, Rechenmünzen, Kugeln) zugeordnet und anschließend wurden mit diesen die Rechenoperation durchgeführt."
   ]
  },
  {
   "cell_type": "markdown",
   "metadata": {},
   "source": [
    "Eine römische Zahl ist ein String aus den Zeichen:\n",
    "- \"I\" (1)\n",
    "- \"V\" (5)\n",
    "- \"X\" (10)\n",
    "- \"L\" (50)\n",
    "- \"C\" (100)\n",
    "- \"D\" (500)\n",
    "- \"M\" (1000)\n",
    "\n",
    "Die einzelnden Zeichen der jeweiligen römischen Zahl können entweder zu dem Gesamtwert addiert oder\n",
    "davon subtrahiert werden, das hängt von ihrer Position im String ab.\n",
    "\n",
    "- \"I\" kann vor \"V\" und \"X\" stehen, für 4 und 9\n",
    "- \"X\" kann vor \"L\" und \"C\" stehen, für 40 und 90\n",
    "- \"C\" kann vor \"D\" und \"M\" stehen, für 400 und 900] "
   ]
  },
  {
   "cell_type": "markdown",
   "metadata": {},
   "source": [
    "**Beispiele:**\n",
    "- \"LVI\" würde 56 entsprechen, da 50+5+1=56\n",
    "- \"XCD\" würde 390 entsprechen, da 500-10-10 = 390\n"
   ]
  },
  {
   "cell_type": "code",
   "execution_count": 1,
   "metadata": {},
   "outputs": [],
   "source": [
    "# Implementiere hier die Funktion die eine römische Zahl als \n",
    "# String bekommt und den passenden Integer ausgibt\n",
    "def romanToInt(s: str) -> int:\n",
    "    num = 0\n",
    "    # An jedem Index i, hat vorherigerWert den Wert des (i+1)ten index.\n",
    "    # Da wir am ende des Strings beginnen, gibt es keinen rechten Wert und wir initialisieren mit 0\n",
    "    vorherigerWert = 0\n",
    "\n",
    "    charsDict = {\n",
    "        'I': 1,\n",
    "        'V': 5,\n",
    "        'X': 10,\n",
    "        'L': 50,\n",
    "        'C': 100,\n",
    "        'D': 500,\n",
    "        'M': 1000,\n",
    "    }\n",
    "    # Rückwärts durch den Eingabestring loopen\n",
    "    for i in range(len(s) - 1, -1, -1):\n",
    "        # Den Wert des aktuellen index speichern\n",
    "        aktuellerWert = charsDict[s[i]]\n",
    "\n",
    "        # Wenn aktuellerWert < vorherigerWert, dann haben wir einen der 6 möglichen\n",
    "        # Fälle, in welchem wir den Wert des aktuellen Indexes abziehen und nicht addieren müssen\n",
    "        if aktuellerWert < vorherigerWert:\n",
    "            num -= aktuellerWert\n",
    "        else:\n",
    "            num += aktuellerWert\n",
    "        # Wir setzen vorherigerWert auf aktueller Wert, da vorherigerWert in der nächsten\n",
    "        # Iteration aktuellerWert sein wird\n",
    "        vorherigerWert = aktuellerWert\n",
    "\n",
    "    return num"
   ]
  }
 ],
 "metadata": {
  "kernelspec": {
   "display_name": "Python 3",
   "language": "python",
   "name": "python3"
  },
  "language_info": {
   "codemirror_mode": {
    "name": "ipython",
    "version": 3
   },
   "file_extension": ".py",
   "mimetype": "text/x-python",
   "name": "python",
   "nbconvert_exporter": "python",
   "pygments_lexer": "ipython3",
   "version": "3.6.9"
  }
 },
 "nbformat": 4,
 "nbformat_minor": 4
}
