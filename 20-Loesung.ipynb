{
 "cells": [
  {
   "cell_type": "markdown",
   "metadata": {},
   "source": [
    "# **Speer oder Taube**\n",
    "### **- Lösung -**"
   ]
  },
  {
   "cell_type": "markdown",
   "metadata": {},
   "source": [
    "### In dieser Aufgabe soll anhand der Flugbahn eines Objekts entschieden werden, ob es sich um einen Speer oder eine Taube handelt."
   ]
  },
  {
   "cell_type": "markdown",
   "metadata": {},
   "source": [
    "Die Flugbahn eines Speers ist, anders als die einer Taube, vollkommen gerade. Du musst nun\n",
    "herausfinden, ob die gegebenen Punkte auf einer Gerade liegen und alle unterschiedlich sind (Dann handelt es sich um einen Speer) oder sich nicht durch eine Gerade beschreiben lassen (Dann handelt es sich um einen Taube)."
   ]
  },
  {
   "cell_type": "markdown",
   "metadata": {},
   "source": [
    "Input der Funktion:\n",
    "- Eine Liste mit 3 Tupeln, welche jeweils die x und y Koordinate des Flugobjekts zu einem Zeitpunkt enthalten"
   ]
  },
  {
   "cell_type": "markdown",
   "metadata": {},
   "source": [
    "Output der Funktion:\n",
    "- True, wenn es sich um 3 verschiedene Punkte auf einer Linie handelt"
   ]
  },
  {
   "cell_type": "markdown",
   "metadata": {},
   "source": [
    "Beispiele:\n",
    "- [(0,0),(1,0),(2,0)] -> True, es handelt sich um einen Speer\n",
    "- [(0,1),(0,1),(2,0)] -> False, es handelt sich um eine Taube\n",
    "- [(0,0),(1,1),(2,3)] -> False, es handelt sich um eine Taube"
   ]
  },
  {
   "cell_type": "markdown",
   "metadata": {},
   "source": [
    "Tipp: Du solltest mit dem Konzept der linearen Abhängigkeit vertraut sein und ansonsten eine Suchmaschine deiner Wahl zu diesem Thema befragen."
   ]
  },
  {
   "cell_type": "code",
   "execution_count": 1,
   "metadata": {},
   "outputs": [],
   "source": [
    "# Implementiere hier die Funktion, die gegeben eine Liste aus\n",
    "# 3 Tupeln entscheidet, ob die 3 Punkte einzigartig sind und auf einer Linie liegen\n",
    "\n",
    "def istSpeer(points) -> bool:\n",
    "    # bennen der einzelnen Tupel aus points für kürzeren Zugriff\n",
    "    pt1 = points[0]\n",
    "    pt2 = points[1]\n",
    "    pt3 = points[2]\n",
    "\n",
    "    # prüfe mit hilfe von set ob alle Tupel verschieden sind\n",
    "    if len(set(points)) != len(points):\n",
    "        return False\n",
    "\n",
    "\n",
    "    # prüfe, ob die Determinante des 1. und 2. und die des 2. und 3. Punkts jeweils gleich 0 ist\n",
    "    # die Determinate des ersten und dritten Punktes brauchen wir wegen Transitivtät nicht prüfen\n",
    "    if (pt1[0]*pt2[1])-(pt2[0]*pt1[1]) == 0 and (pt2[0]*pt3[1])-(pt3[0]*pt2[1]) == 0:\n",
    "        return True\n",
    "    return False"
   ]
  }
 ],
 "metadata": {
  "kernelspec": {
   "display_name": "Python 3",
   "language": "python",
   "name": "python3"
  },
  "language_info": {
   "codemirror_mode": {
    "name": "ipython",
    "version": 3
   },
   "file_extension": ".py",
   "mimetype": "text/x-python",
   "name": "python",
   "nbconvert_exporter": "python",
   "pygments_lexer": "ipython3",
   "version": "3.6.9"
  }
 },
 "nbformat": 4,
 "nbformat_minor": 4
}
