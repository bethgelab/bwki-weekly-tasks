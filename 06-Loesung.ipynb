{
 "cells": [
  {
   "cell_type": "markdown",
   "metadata": {},
   "source": [
    "# Schere, Stein, Papier - Multiplayer\n",
    "### - Lösung - "
   ]
  },
  {
   "cell_type": "markdown",
   "metadata": {},
   "source": [
    "## Add-On: Mehr als zwei Spieler\n",
    "\n",
    "Wir wollen an den ersten Teil der Aufgabe anknüpfen und uns überlegen wie bei \"Schere-Stein-Papier\" mehr als zwei Spieler gegeneinander antreten können. Für diese Aufgabe verwenden wir wieder die klassische Version des Spiels mit drei Handzeichen.\n",
    "\n",
    "Um das Spiel mit mehr als zwei Spielern zu spielen, gibt es mehrere Möglichkeiten.\n",
    "Wenn die Anzahl der Spieler eine Zweierpotenz ist, dann kann man ein K.-o.-System verwenden, wie es z. B. ab dem Achtelfinale bei großen Fußballturnieren auch verwendet wird. Dabei treten immer nur zwei Spieler gegeneinander an und die Gewinnerin oder der Gewinner jeder Stufe kommen je eine Runde weiter, bis nach dem Finale das Ergebnis feststeht.\n",
    "Im ersten Teil der Aufgabe wollen wir so ein K.o.-System programmieren und für eine bestimmte Anzahl an Spielern einen Tunierplan erstellen.\n",
    "\n",
    "Da es bei so vielen Codeblöcken schnell unübersichtlich werden kann, haben wir eine Checkliste erstellt, was ihr für den ersten Teil implementieren müsst:\n",
    "* Funktion, die testet ob die eingegebene Zahl eine Zweierpotenz ist.\n",
    "* Funktion, die eine Liste mit Spielern in zufällige Paare unterteilt\n",
    "* die Funktion tunierplan_erstellen() vervollständigen, sodass die Spieler in Runden solange gegeneinander spielen,\n",
    "  bis alle außer ein Spieler ausgeschieden sind, welcher das Spiel gewinnt\n",
    "\n",
    "\n",
    "Auf dieser Seite könnt ihr Informationen zu (Zweier)Potenzen finden:\n",
    "\n",
    "https://www.mathematik.de/algebra/177-erste-hilfe/zahlenbereiche/nat%C3%BCrliche-zahlen/2307-potenzen (abgerufen am 01.05.2020)"
   ]
  },
  {
   "cell_type": "code",
   "execution_count": 1,
   "metadata": {
    "collapsed": true
   },
   "outputs": [],
   "source": [
    "# Die folgenden Pakete könnten nützlich für die Aufgaben sein\n",
    "import numpy as np\n",
    "import math"
   ]
  },
  {
   "cell_type": "markdown",
   "metadata": {},
   "source": [
    "Der folgende Codeblock ist größtenteils von letzter Woche übernommen und definiert die Handzeichen, Regeln und zwei Funktionen um ein zufälliges Handzeichen auszuwählen und um zu ermitteln welcher von zwei Spielern eine Runde gewinnt."
   ]
  },
  {
   "cell_type": "code",
   "execution_count": 2,
   "metadata": {
    "collapsed": true
   },
   "outputs": [],
   "source": [
    "# Python 3 kann mit utf-8 Zeichen umgehen, und auch mit Emojis!\n",
    "schere = \"💇 Schere\"\n",
    "stein = \"🗿 Stein\"\n",
    "papier = \"📝 Papier\"\n",
    "\n",
    "# ein dictionary mit den Regeln, d.h. Schere schlägt Papier, Stein schlägt Schere und Papier schlägt Stein\n",
    "regeln = {\n",
    "    schere : papier,\n",
    "    stein : schere,\n",
    "    papier : stein}\n",
    "\n",
    "# Eine Hilfsfunktion, welche zufällig eines der drei möglichen Handzeichen zurückgibt\n",
    "def zufaelliges_handzeichen():\n",
    "    alle_zeichen = [schere, stein, papier]\n",
    "    return np.random.choice(alle_zeichen)\n",
    "\n",
    "# Wer hat gewonnen? Oder war es ein Unentschieden?\n",
    "def spiele(handzeichen_1, handzeichen_2):\n",
    "    if regeln[handzeichen_1] == handzeichen_2:\n",
    "        return 0 # Spieler 1 gewinnt\n",
    "    elif regeln[handzeichen_2] == handzeichen_1:\n",
    "        return 1 # Spieler 2 gewinnt\n",
    "    else:\n",
    "        return None # Unentschieden"
   ]
  },
  {
   "cell_type": "code",
   "execution_count": 3,
   "metadata": {
    "collapsed": true
   },
   "outputs": [],
   "source": [
    "# fordert den User auf eine Spieleranzahl einzugeben und testet, ob eine ganze Zahl eingegeben wurde\n",
    "def eingabe():\n",
    "    while True:\n",
    "        try:\n",
    "            # input() nimmt Eingaben über die Tastatur auf\n",
    "            anzahl = input(\"Bitte die Anzahl der Spieler eingeben: \")\n",
    "            anzahl = int(anzahl)\n",
    "            return anzahl\n",
    "        # Falls keine ganze Zahl eingegeben wurde, Eingabe wiederholen\n",
    "        except ValueError:\n",
    "            print(\"Bitte eine Zahl eingeben.\")"
   ]
  },
  {
   "cell_type": "code",
   "execution_count": 4,
   "metadata": {
    "collapsed": true
   },
   "outputs": [],
   "source": [
    "# testet ob die eingegebene Spieleranzahl mindestens 2 ist und zudem eine Zweierpotenz ist (also 2,4,8 usw.)\n",
    "def zweierpotenz_test(anzahl):\n",
    "    \"\"\"Funktion, die testet ob die eingegebene Spieleranzahl mindestens 2 ist und zudem eine Zweierpotenz ist\n",
    "\n",
    "    Parameters:\n",
    "    anzahl (int): Spieleranzahl\n",
    "\n",
    "    Returns:\n",
    "    bool: True wenn obige Bedingungen erfüllt sind, ansonsten False\n",
    "\n",
    "   \"\"\"  \n",
    "    if (anzahl >= 2) and (anzahl & (anzahl-1) == 0): # alternativ: math.log2(anzahl).is_integer()\n",
    "        return True\n",
    "    else:\n",
    "        return False\n",
    "    \n",
    "# teste deine Funktion\n",
    "# Wenn du einen AssertionError bekommst, dann funktioniert deine Funktion noch nicht richtig\n",
    "assert zweierpotenz_test(8) == True\n",
    "assert zweierpotenz_test(18) == False\n",
    "assert zweierpotenz_test(1) == False"
   ]
  },
  {
   "cell_type": "code",
   "execution_count": 5,
   "metadata": {
    "collapsed": false
   },
   "outputs": [
    {
     "name": "stdout",
     "output_type": "stream",
     "text": [
      "[['Spieler_1 ', 'Spieler_6 '], ['Spieler_5 ', 'Spieler_8 '], ['Spieler_3 ', 'Spieler_4 '], ['Spieler_7 ', 'Spieler_2 ']]\n"
     ]
    }
   ],
   "source": [
    "# Funktion, die eine Liste mit Spielern in zufällige Paare unterteilt\n",
    "# Hier ist es wichtig, dass jeder Spieler nur einmal eingeteilt wird und niemand übrig bleibt\n",
    "def zufaellige_paare(spieler_liste):\n",
    "    \"\"\"Funktion, die eine Liste mit Spielern in zufällige Paare unterteilt\n",
    "\n",
    "    Parameters:\n",
    "    spieler_liste (list): Liste mit den Spielern\n",
    "\n",
    "    Returns:\n",
    "    list: Liste mit den Spielerpaaren (z.B. [[\"Spieler_1\",\"Spieler_3\"],[\"Spieler_4\",\"Spieler_2]])\n",
    "\n",
    "   \"\"\"\n",
    "    \n",
    "    paar_liste = []\n",
    "    \n",
    "    for i in range(len(spieler_liste)//2):\n",
    "        paar = list(np.random.choice(spieler_liste,size=2,replace=False))\n",
    "        paar_liste.append(paar)\n",
    "        spieler_liste.remove(paar[0])\n",
    "        spieler_liste.remove(paar[1])\n",
    "        \n",
    "    return paar_liste\n",
    "\n",
    "# teste deine Funktion\n",
    "spieler = ['Spieler_1 ','Spieler_2 ','Spieler_3 ','Spieler_4 ','Spieler_5 ','Spieler_6 ','Spieler_7 ','Spieler_8 ']\n",
    "print(zufaellige_paare(spieler))"
   ]
  },
  {
   "cell_type": "markdown",
   "metadata": {},
   "source": [
    "Vervollständige die Funktion tunierplan_erstellen(), sodass so viele Runden gespielt werden bis ein endgültiger Gewinner ermittelt ist. Um eine Runde zu spielen, verwende die schon definierte Funktion spiele_runde().\n",
    "\n",
    "\n",
    "Um den Output schöner zu gestalten, gib in jeder Runde die aktuelle Rundennummer aus.\n",
    "Verwende dazu die auskommentierten print-Befehle und kopiere sie an die richtige Stelle in deinem Code:"
   ]
  },
  {
   "cell_type": "code",
   "execution_count": 6,
   "metadata": {
    "collapsed": true
   },
   "outputs": [],
   "source": [
    "#print('\\n')\n",
    "#print('Runde '+str(runde))\n",
    "#print('========')"
   ]
  },
  {
   "cell_type": "markdown",
   "metadata": {},
   "source": [
    "Tipps: es gibt mehrere Möglichkeiten diesen Teil der Aufgabe zu lösen, du kannst z.B.:\n",
    "\n",
    "* eine for-Schleife verwenden und vorher ermitteln wie viele Runden benötigt werden für die gegebene Anzahl an Spielern\n",
    "\n",
    "* eine while-Schleife verwenden, und als Bedingungen setzen, dass es noch mindestens zwei Spieler gibt\n",
    "\n",
    "* die Aufgabe rekursiv lösen"
   ]
  },
  {
   "cell_type": "code",
   "execution_count": 7,
   "metadata": {
    "collapsed": true
   },
   "outputs": [],
   "source": [
    "def spiele_runde(spieler_liste):\n",
    "    \"\"\"Eine Spielrunde läuft wie folgt ab: \n",
    "       - die Spieler werden zufällig in Paare unterteilt\n",
    "       - alle Paare spielen gegeneinander\n",
    "       - die Sieger aller Spieler werden als Rundensieger zurückgegeben\n",
    "\n",
    "    Parameters:\n",
    "    spieler_liste (list): Liste mit den Spielern für diese Runde\n",
    "\n",
    "    Returns:\n",
    "    list: Liste mit den Gewinnern der Spiele (Rundengewinner)\n",
    "\n",
    "   \"\"\"\n",
    "    \n",
    "    # teilt Spieler in zufällige Paare ein\n",
    "    paar_liste = zufaellige_paare(spieler_liste)\n",
    "    \n",
    "    gewinner_liste = []\n",
    "    \n",
    "    # jedes Paar spielt Schere-Stein-Papier gegeneinander, bis einer der beiden gewinnt\n",
    "    for paar in paar_liste:\n",
    "        gewinner = None\n",
    "        \n",
    "        while gewinner == None:\n",
    "            handzeichen_spieler1 = zufaelliges_handzeichen()\n",
    "            handzeichen_spieler2 = zufaelliges_handzeichen()\n",
    "\n",
    "            gewinner = spiele(handzeichen_spieler1,handzeichen_spieler2)\n",
    "            \n",
    "        gewinner_liste.append(paar[gewinner])\n",
    "        \n",
    "        print('{} vs. {}: {} gewinnt die Runde!'.format(paar[0],paar[1],paar[gewinner]))\n",
    "    \n",
    "    # die Liste aller Rundengewinner wird zurückgegeben\n",
    "    return gewinner_liste"
   ]
  },
  {
   "cell_type": "code",
   "execution_count": 8,
   "metadata": {
    "collapsed": true
   },
   "outputs": [],
   "source": [
    "def tunierplan_erstellen():\n",
    "    \n",
    "    anzahl_spieler = eingabe()\n",
    "\n",
    "    # testet ob die eingegebene Spieleranzahl eine Zweierpotenz ist (also 2,4,8 usw.)\n",
    "    while zweierpotenz_test(anzahl_spieler) == False:\n",
    "        print(\"Die eingegebene Spieleranzahl ist leider keine Zweierpotenz (oder ist <2).\")\n",
    "        anzahl_spieler = eingabe()\n",
    "    \n",
    "    # erstellt eine Liste mit allen Spielern\n",
    "    spieler_liste = []\n",
    "    for spieler in range(1,anzahl_spieler+1):\n",
    "        spieler_liste.append('Spieler_{:^2}'.format(spieler))\n",
    "    \n",
    "    anzahl_runden = int(math.log2(anzahl_spieler))\n",
    "\n",
    "    for runde in range(1,anzahl_runden+1):\n",
    "        print('\\n')\n",
    "        print('Runde '+str(runde))\n",
    "        print('========')\n",
    "        spieler_liste = spiele_runde(spieler_liste)\n",
    "        \n",
    "    gewinner = spieler_liste[0]\n",
    "    \n",
    "    print(\"\\n\")\n",
    "    print(\"===================================\")\n",
    "    print(\"{} gewinnt das Spiel!!!\".format(gewinner))\n",
    "    print(\"===================================\")"
   ]
  },
  {
   "cell_type": "code",
   "execution_count": 9,
   "metadata": {
    "collapsed": false
   },
   "outputs": [
    {
     "name": "stdout",
     "output_type": "stream",
     "text": [
      "Bitte die Anzahl der Spieler eingeben: 4\n",
      "\n",
      "\n",
      "Runde 1\n",
      "========\n",
      "Spieler_3  vs. Spieler_4 : Spieler_4  gewinnt die Runde!\n",
      "Spieler_2  vs. Spieler_1 : Spieler_1  gewinnt die Runde!\n",
      "\n",
      "\n",
      "Runde 2\n",
      "========\n",
      "Spieler_1  vs. Spieler_4 : Spieler_4  gewinnt die Runde!\n",
      "\n",
      "\n",
      "===================================\n",
      "Spieler_4  gewinnt das Spiel!!!\n",
      "===================================\n"
     ]
    }
   ],
   "source": [
    "# teste die Funktion tunierplan_erstellen()\n",
    "tunierplan_erstellen()"
   ]
  },
  {
   "cell_type": "markdown",
   "metadata": {
    "collapsed": true
   },
   "source": [
    "## Life is not fair, but life is not fair for everyone; which actually makes it fair. (unbekannt)\n",
    "\n",
    "\n",
    "Ist die Anzahl Spieler keine Zweierpotenz, so wird dieses Verfahren unfair, da dann z. B. Spieler, für die kein Gegenspieler existiert, ohne zu gewinnen eine Runde weiter kommen.\n",
    "\n",
    "Alternativ können auch mehrere Spieler zugleich spielen. Wenn alle Spieler das gleiche Handzeichen spielen, ist das Spiel natürlich unentschieden. Wenn insgesamt nur zwei Handzeichen gespielt werden, gibt es eine Gewinnergruppe und eine Verlierergruppe. Jedoch wird die Auswertung, wer die Runde gewonnen hat, schwieriger, wenn alle drei Handzeichen gespielt werden. Wer gewinnt, wenn bei einem Spiel mit fünf Spielern zweimal Stein, zweimal Papier und einmal Schere gezeigt sind? Man könnte nun über die Anzahl der Spieler, die das selbe Zeichen gespielt haben die Gewinner- und Verlierergruppen ermitteln. Alternativ kann die Regel auch sein, dass sobald alle drei Handzeichen gespielt sind, die Runde unentschieden ist.\n",
    "\n",
    "Diese letzte Möglichkeit wollen wir nun näher betrachten. Insbesondere ist interessant, wie hoch die Wahrscheinlichkeit für ein Unentschieden ist, da das Spiel dann wiederholt werden muss. Die Wahrscheinlichkeit für ein Unentschieden steigt mit der Anzahl der Spieler schnell an. Es kann bei vielen Spielern also sehr lange dauern, bis eine Gewinnergruppe feststeht.\n",
    "\n",
    "Deine Aufgabe ist es nun, viele zufällige Spiele mit einer unterschiedlichen Anzahl von Spielern zu simulieren und dabei zu erfassen, wie oft ein Unentschieden aufgetreten ist. Darauskannst du das Verhältnis zwischen der Anzahl an Unentschieden und Anzahl der Spiele bestimmen und dies in einen Graphen einzeichen."
   ]
  },
  {
   "cell_type": "code",
   "execution_count": 10,
   "metadata": {
    "collapsed": false
   },
   "outputs": [
    {
     "name": "stdout",
     "output_type": "stream",
     "text": [
      "[0.328, 0.4746, 0.6126, 0.7376, 0.8262, 0.882, 0.926, 0.9526, 0.9662, 0.9768, 0.9826, 0.9894, 0.9944, 0.9944, 0.9976, 0.9974, 0.9994, 0.9988, 0.9992, 0.9996, 0.9998, 0.9996]\n"
     ]
    },
    {
     "data": {
      "image/png": "[encoded data removed]",
      "text/plain": [
       "<Figure size 432x288 with 1 Axes>"
      ]
     },
     "metadata": {
      "needs_background": "light"
     },
     "output_type": "display_data"
    }
   ],
   "source": [
    "# Eine Hilfsfunktion, welche zufällig eines der drei möglichen Handzeichen zurückgibt\n",
    "def zufaelliges_handzeichen():\n",
    "    alle_zeichen = [schere, stein, papier]\n",
    "    return np.random.choice(alle_zeichen)\n",
    "\n",
    "# Eine Hilfsfunktion, die alle Duplikate aus der Liste enfernt und die Anzahl der\n",
    "# nun verschiedenen Elemente zurückgibt\n",
    "def anzahl_verschiedener_elemente(liste):\n",
    "    return len(set(liste))\n",
    "\n",
    "# Diese Funktion gibt eine Liste der Handzeichen zurück, die die Spieler (zufällig) gewählt haben.\n",
    "def simuliere_spiel(anzahl_spieler):\n",
    "    dieses_spiel = []\n",
    "    for k in range(anzahl_spieler):\n",
    "        dieses_spiel.append(zufaelliges_handzeichen())\n",
    "    return dieses_spiel\n",
    "\n",
    "# Diese Funktion gibt zurück, ob ein Spiel unentschieden ist,\n",
    "# weil nur eines oder alle drei Handzeichen gezeigt wurden\n",
    "def spiel_ist_unentschieden(spiel):\n",
    "    anzahl_handzeichen = anzahl_verschiedener_elemente(spiel)\n",
    "    return anzahl_handzeichen != 2\n",
    "\n",
    "# In dieser Funktion wird die Wahrscheinlichkeit dafür, dass ein Spiel mit der gegeben\n",
    "# Anzahl an Spielern unentschieden ausgeht ermittelt.\n",
    "def wahrscheinlichkeit_unentschieden(anzahl_spieler):\n",
    "    # Lege fest, wie viele Spiele jeweils gespielt werden sollen\n",
    "    anzahl_zu_spielende = 5000\n",
    "    anzahl_unentschieden = 0\n",
    "    for spiel_nummer in range(anzahl_zu_spielende):\n",
    "        if spiel_ist_unentschieden(simuliere_spiel(anzahl_spieler)):\n",
    "            anzahl_unentschieden += 1\n",
    "    return anzahl_unentschieden / anzahl_zu_spielende\n",
    "\n",
    "# Lege fest, bis zu welcher Anzahl Spieler die Wahrscheinlichkeiten berechnet werden sollen\n",
    "minimale_anzahl_spieler = 3\n",
    "maximale_anzahl_spieler = 25\n",
    "\n",
    "# Führe die Berechnung für verschiedene Anzahlen an Spielern aus\n",
    "wahrscheinlichkeiten = []\n",
    "for i in range(minimale_anzahl_spieler, maximale_anzahl_spieler):\n",
    "    wahrscheinlichkeiten.append(wahrscheinlichkeit_unentschieden(i))\n",
    "\n",
    "    \n",
    "print(wahrscheinlichkeiten)\n",
    "# Zeichne den Graphen\n",
    "import matplotlib.pyplot as plt\n",
    "plt.plot(range(minimale_anzahl_spieler, maximale_anzahl_spieler), wahrscheinlichkeiten)\n",
    "#plt.plot(range(minimale_anzahl_spieler, maximale_anzahl_spieler), wahrscheinlichkeiten_berechnet)\n",
    "plt.xlabel('Anzahl der Spieler im Spiel')\n",
    "plt.ylabel('Wahrscheinlichkeit für Unentschieden')\n",
    "plt.grid()\n",
    "plt.axis([0.0, maximale_anzahl_spieler, 0.0, 1.05])\n",
    "plt.show()"
   ]
  },
  {
   "cell_type": "markdown",
   "metadata": {},
   "source": [
    "## Fragen & Feedback:\n",
    "\n",
    "**Wenn ihr Fragen oder Anregungen zu der Aufgabe (oder Lösung) habt, dann tauscht euch gerne im [Chat](https://spectrum.chat/bwki/aufgabenarchiv/) darüber aus oder schreibt uns eine E-Mail (an info@bw-ki.de).**\n",
    "\n",
    "Wir freuen uns auch immer über **Feedback** (auch unter info@bw-ki.de):\n",
    "\n",
    "- War diese Aufgabe zu leicht, zu schwer oder genau richtig?\n",
    "- Wie lang hast du für diese Aufgabe ungefähr gebraucht?\n",
    "- Welche Art von Aufgaben wünschst du dir in Zukunft?"
   ]
  }
 ],
 "metadata": {
  "anaconda-cloud": {},
  "kernelspec": {
   "display_name": "Python [conda env:bwki_env]",
   "language": "python",
   "name": "conda-env-bwki_env-py"
  },
  "language_info": {
   "codemirror_mode": {
    "name": "ipython",
    "version": 3
   },
   "file_extension": ".py",
   "mimetype": "text/x-python",
   "name": "python",
   "nbconvert_exporter": "python",
   "pygments_lexer": "ipython3",
   "version": "3.8.2"
  }
 },
 "nbformat": 4,
 "nbformat_minor": 1
}
