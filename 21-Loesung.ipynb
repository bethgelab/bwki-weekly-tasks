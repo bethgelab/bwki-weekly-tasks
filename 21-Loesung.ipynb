{
 "cells": [
  {
   "cell_type": "markdown",
   "metadata": {},
   "source": [
    "# **Gewinne, Gewinne, Gewinne**\n",
    "### **- Lösung -**"
   ]
  },
  {
   "cell_type": "markdown",
   "metadata": {},
   "source": [
    "### Gegeben den Preis einer Aktie an verschiedenen Tagen, soll entschieden werden was der Gewinn beim optimalen Kauf und Verkauf der Aktie gewesen wäre."
   ]
  },
  {
   "cell_type": "markdown",
   "metadata": {},
   "source": [
    "Dieser Algorithmus ist natürlich nur bedingt hilfreich, da man im Allgemeinen nicht weiß, wie sich der Kurs einer Aktie entwickelt. Jedoch werden Computerprogramme tatsächlich an den Börsen der Welt zur Beschleunigung des Handels eingesetzt. Zudem werden Modelle entwickelt, um Aktienkurse vorherzusehen.\n"
   ]
  },
  {
   "cell_type": "markdown",
   "metadata": {},
   "source": [
    "Input der Funktion:\n",
    "- Array mit dem Preis einer Aktie an aufeinander folgenden Tagen."
   ]
  },
  {
   "cell_type": "markdown",
   "metadata": {},
   "source": [
    "Output der Funktion:\n",
    "- Der maximal erzielbare Gewinn, wenn die Aktie zum optimalen Zeitpunkt gekauft\n",
    "und auch optimal verkauft worden wäre. (Es darf nur einmal gekauft und verkauft werden)"
   ]
  },
  {
   "cell_type": "markdown",
   "metadata": {},
   "source": [
    "Beispiele:\n",
    "- [7,6,4,3,1] -> 0, da die Aktie nur fiel\n",
    "- [8,9,1,3,4,2,9] -> 8\n",
    "- [1,1,3,4,5] -> 4\n"
   ]
  },
  {
   "cell_type": "code",
   "execution_count": 7,
   "metadata": {},
   "outputs": [],
   "source": [
    "# Implementier hier die Funktion, die gegeben eine Liste von Aktienwerten\n",
    "# den höchsten, bei einmaligen Kauf und Verkauf, möglichen Gewinn ausgibt.\n",
    "\n",
    "def maxProfit(preise: list) -> int:\n",
    "    # Variable um den kleinsten bisher gesehenen Preis zu halten\n",
    "    kleinsterPreis = preise[0]\n",
    "    # Variable um den größten bisher gesehenen Gewinn zu halten\n",
    "    maxDif = 0\n",
    "    # iteriere durch den Array mit den Preisen\n",
    "    for preis in preise:\n",
    "        # Wenn der aktuelle Preis kleiner als der bisherige kleinste Preis ist,\n",
    "        # update bisherigen kleinsten Preis\n",
    "        if preis < kleinsterPreis:\n",
    "            kleinsterPreis = preis\n",
    "\n",
    "        # Berechne den Unterschied zwischen dem bisherig kleinsten Preis und dem aktuellen Preis\n",
    "        # und setze Gegebenenfalls die maximale Differenz auf die aktuelle Differenz\n",
    "        if (preis - kleinsterPreis) > maxDif:\n",
    "            maxDif = (preis- kleinsterPreis)\n",
    "\n",
    "    # gebe Maximale Differenz aus, wenn diese größer 0 ist, sonst 0\n",
    "    if maxDif >= 0:\n",
    "        return maxDif\n",
    "\n",
    "    return 0\n",
    "\n"
   ]
  }
 ],
 "metadata": {
  "kernelspec": {
   "display_name": "Python 3",
   "language": "python",
   "name": "python3"
  },
  "language_info": {
   "codemirror_mode": {
    "name": "ipython",
    "version": 3
   },
   "file_extension": ".py",
   "mimetype": "text/x-python",
   "name": "python",
   "nbconvert_exporter": "python",
   "pygments_lexer": "ipython3",
   "version": "3.6.9"
  }
 },
 "nbformat": 4,
 "nbformat_minor": 4
}
