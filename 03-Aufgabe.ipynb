{
 "cells": [
  {
   "cell_type": "markdown",
   "metadata": {},
   "source": [
    "# Tic Tac Toe gegen KI\n",
    "### - Aufgabe - "
   ]
  },
  {
   "cell_type": "markdown",
   "metadata": {},
   "source": [
    "## In dieser Aufgabe geht es darum eine einfache KI für Tic Tac Toe zu programmieren."
   ]
  },
  {
   "cell_type": "markdown",
   "metadata": {},
   "source": [
    "Dein Ziel ist, dass du gegen eine KI Tic Tac Toe spielen kannst. Wir werden zwei KIs implementieren: eine zufällige KI, die einfach nur ein freies Feld wählt und eine simple KI, die erkennen kann, ob sie im nächsten Zug gewinnen oder verlieren wird.\n",
    "\n",
    "Du musst den folgenden Code bei \"...\" erweitern."
   ]
  },
  {
   "cell_type": "code",
   "execution_count": null,
   "metadata": {
    "collapsed": true
   },
   "outputs": [],
   "source": [
    "# Wir erstellen das Spielfeld.\n",
    "def init_spielfeld():\n",
    "    spielfeld = [\" \",\n",
    "                 \"1\",\"2\",\"3\",\n",
    "                 \"4\",\"5\",\"6\",\n",
    "                 \"7\",\"8\",\"9\"]\n",
    "    return spielfeld\n",
    "\n",
    "# Da die Indizierung bei 0 beginnt, das aber zu Verwirrung führen kann, bleibt das erste Feld leer."
   ]
  },
  {
   "cell_type": "code",
   "execution_count": null,
   "metadata": {
    "collapsed": false
   },
   "outputs": [],
   "source": [
    "# Das Spielfeld wird ausgegeben\n",
    "\n",
    "def spielfeld_ausgeben(spielfeld):\n",
    "    print (spielfeld[1] + \"|\" + spielfeld[2] + \"|\" + spielfeld[3] )\n",
    "    print (spielfeld[4] + \"|\" + spielfeld[5] + \"|\" + spielfeld[6] )\n",
    "    print (spielfeld[7] + \"|\" + spielfeld[8] + \"|\" + spielfeld[9] )\n",
    "\n",
    "\n",
    "spielfeld = init_spielfeld()\n",
    "spielfeld_ausgeben(spielfeld)"
   ]
  },
  {
   "cell_type": "code",
   "execution_count": null,
   "metadata": {
    "collapsed": true
   },
   "outputs": [],
   "source": [
    "# Menschlicher Spieler gibt gewünschtes Feld (1-9) oder Abbruch (0) ein\n",
    "\n",
    "def eingabe():\n",
    "    while True:\n",
    "        try:\n",
    "            # input() nimmt Eingaben über die Tastatur auf\n",
    "            feld = input(\"Auf welches Feld möchtest du setzen (1-9)? 0 beendet das Spiel.\")\n",
    "            feld = int(feld)\n",
    "            break\n",
    "        # Falls keine Zahl eingegeben wurde, Eingabe wiederholen\n",
    "        except ValueError:\n",
    "            print(\"Bitte eine Zahl eingeben.\")\n",
    "    return feld"
   ]
  },
  {
   "cell_type": "code",
   "execution_count": null,
   "metadata": {
    "collapsed": true
   },
   "outputs": [],
   "source": [
    "# Diese KI soll zufällig ein Feld auf dem Spielplan aussuchen\n",
    "\n",
    "# Verwende dazu die Funktion:  random.randrange(start, stop)\n",
    "# Hinweis: Achte bei Funktionen wie random.randrange(start,stop) darauf, ob die Grenzen (also start und stop)\n",
    "#          eingeschlossen sind oder nicht z.B. range(1,10) gibt eine Zahlenreihe von 1 bis 9 zurück (nicht bis 10)\n",
    "\n",
    "import random\n",
    "\n",
    "def eingabe_ki_zufaellig():\n",
    "    feld = ...\n",
    "    \n",
    "    return feld"
   ]
  },
  {
   "cell_type": "code",
   "execution_count": null,
   "metadata": {
    "collapsed": true
   },
   "outputs": [],
   "source": [
    "# Ist es möglich in einem Zug zu gewinnen oder zu verlieren?\n",
    "# Diese Funktion soll das relevante Feld zurück geben\n",
    "# oder \"False\", falls es nicht möglich ist zu gewinnen oder zu verlieren.\n",
    "\n",
    "def gewonnen_next(spielfeld):\n",
    "    ..."
   ]
  },
  {
   "cell_type": "code",
   "execution_count": null,
   "metadata": {
    "collapsed": true
   },
   "outputs": [],
   "source": [
    "# Diese KI soll erkennen, ob sie im nächsten Zug gewinnen kann\n",
    "# oder den gegnerischen Sieg verhindern kann.\n",
    "# Dazu muss sie überprüfen, ob es möglich ist, drei Felder in einer Reihe, Spalte oder Diagonale zu erreichen\n",
    "\n",
    "# Falls die KI im nächsten Zug weder gewinnen noch verlieren kann, soll sie ein zufälliges Feld wählen.\n",
    "\n",
    "def eingabe_ki_simpel(spielfeld):\n",
    "    feld = ...\n",
    "    \n",
    "    return feld"
   ]
  },
  {
   "cell_type": "markdown",
   "metadata": {},
   "source": [
    "Damit du gegen eine KI spielen kannst, müssen wir den Code von letzter Woche anpassen."
   ]
  },
  {
   "cell_type": "code",
   "execution_count": null,
   "metadata": {
    "collapsed": false
   },
   "outputs": [],
   "source": [
    "# Es kann 9 mal ein Feld belegt werden\n",
    "counter = 0\n",
    "\n",
    "ki = None\n",
    "while not ki in [\"Mensch\", \"ki_zufaellig\", \"ki_simpel\"]:\n",
    "    ki = input(\"Wer ist dein Gegenspieler? Mensch, ki_zufaellig oder ki_simpel?\")\n",
    "\n",
    "spieler = 1\n",
    "\n",
    "# Spielfeld initialisieren\n",
    "spielfeld = init_spielfeld()\n",
    "\n",
    "while True:\n",
    "    # Eingabe des Zuges\n",
    "    print(\"Es ist Spieler \", spieler, \" am Zug.\")\n",
    "    if spieler == 1:\n",
    "        feld = eingabe()\n",
    "    if spieler == ki:\n",
    "        if ki == \"Mensch\":\n",
    "            feld = eingabe()\n",
    "        elif spieler == \"ki_zufaellig\":\n",
    "            feld = eingabe_ki_zufaellig()\n",
    "        elif spieler == \"ki_simpel\":\n",
    "            feld = eingabe_ki_simpel(spielfeld)\n",
    "        \n",
    "    if feld == 0:\n",
    "        print(\"Das Spiel wurde beendet.\")\n",
    "        break\n",
    "        \n",
    "    # auf korrekte Eingabe überprüfen und Spielzug ausführen\n",
    "    elif feld >= 1 and feld <= 9 and spielfeld[feld] != 'X' and spielfeld[feld] != 'O':\n",
    "        if spieler == 1:\n",
    "            spielfeld[feld] = 'X'\n",
    "            spieler = ki\n",
    "        else:\n",
    "            spielfeld[feld] = 'O'\n",
    "            spieler = 1\n",
    "    else:\n",
    "        print(\"Bitte ein korrektes Feld eingeben.\")\n",
    "        continue\n",
    "    \n",
    "    spielfeld_ausgeben(spielfeld)\n",
    "    \n",
    "    # sind alle Felder belegt?\n",
    "    counter += 1\n",
    "    if counter == 9:\n",
    "        print(\"Das Spiel ist zu Ende.\")\n",
    "        break\n",
    "        \n",
    "    "
   ]
  },
  {
   "cell_type": "markdown",
   "metadata": {},
   "source": [
    "## Fragen & Feedback:\n",
    "\n",
    "**Wenn ihr Fragen oder Anregungen zu der Aufgabe (oder Lösung) habt, dann tauscht euch gerne im [Chat](https://spectrum.chat/bwki/aufgabenarchiv/) darüber aus oder schreibt uns eine E-Mail (an info@bw-ki.de).**\n",
    "\n",
    "Wir freuen uns auch immer über **Feedback** (auch unter info@bw-ki.de):\n",
    "\n",
    "- War diese Aufgabe zu leicht, zu schwer oder genau richtig?\n",
    "- Wie lang hast du für diese Aufgabe ungefähr gebraucht?\n",
    "- Welche Art von Aufgaben wünschst du dir in Zukunft?"
   ]
  }
 ],
 "metadata": {
  "anaconda-cloud": {},
  "kernelspec": {
   "display_name": "Python [conda env:bwki_env]",
   "language": "python",
   "name": "conda-env-bwki_env-py"
  },
  "language_info": {
   "codemirror_mode": {
    "name": "ipython",
    "version": 3
   },
   "file_extension": ".py",
   "mimetype": "text/x-python",
   "name": "python",
   "nbconvert_exporter": "python",
   "pygments_lexer": "ipython3",
   "version": "3.8.2"
  }
 },
 "nbformat": 4,
 "nbformat_minor": 2
}
