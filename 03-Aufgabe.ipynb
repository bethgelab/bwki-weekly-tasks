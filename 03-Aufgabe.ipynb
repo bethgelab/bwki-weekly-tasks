{
 "cells": [
  {
   "cell_type": "markdown",
   "metadata": {},
   "source": [
    "## April Woche 3: Tic Tac Toe - KI"
   ]
  },
  {
   "cell_type": "markdown",
   "metadata": {},
   "source": [
    "Willkommen zu unserer Aufgabe der Woche!\n",
    "\n",
    "Der Bundeswettbewerb Künstliche Intelligenz stellt euch jede Woche eine spannende oder kniffelige Programmieraufgabe, in der ihr euer Programmiergeschick auf die Probe stellen könnt.\n",
    "\n",
    "Jede Woche habt ihr die Chance auf einen von zwei Amazon-Gutscheinen im Wert von 25€! Wer jede Aufgabe in einem Monat einschickt, nimmt in der Monatsverlosung teil und kann einen 50€-Amazon-Gutschein gewinnen! Ihr könnt eure Lösung immer bis Sonntag 22 Uhr der gleichen Woche per Mail an aufgabe-der-woche@bw-ki.de einreichen.\n",
    "\n",
    "Bitte lade dazu das Notebook unter \"File/Download as/Notebook (.ipynb)\" runter. Verändere den Namen der Datei nicht und vergess nicht im ersten Feld dein Name und E-Mailadresse anzugeben.\n",
    "\n",
    "Es werden nur korrekte Lösungen berücksichtigt. Voraussetzung für die Teilnahme ist die Registrierung eures vollständigen Accounts im Loginbereich des Bundeswettbewerbs Künstliche Intelligenz. Es gelten die Teilnahmebedingungen (https://bw-ki.de/teilnahmebedingungen/ und Datenschuztrichtlinien (https://bw-ki.de/datenschutz/) des Wettbewerbs."
   ]
  },
  {
   "cell_type": "markdown",
   "metadata": {},
   "source": [
    "Dein vollständiger Name:\n",
    "\n",
    "Deine E-Mailadresse:"
   ]
  },
  {
   "cell_type": "markdown",
   "metadata": {},
   "source": [
    "## In dieser Aufgabe geht es darum eine einfache KI für Tic Tac Toe zu programmieren."
   ]
  },
  {
   "cell_type": "markdown",
   "metadata": {},
   "source": [
    "Dein Ziel ist, dass du gegen eine KI Tic Tac Toe spielen kannst. Wir werden zwei KIs implementieren: eine zufällige KI, die einfach nur ein freies Feld wählt und eine simple KI, die erkennen kann, ob sie im nächsten Zug gewinnen oder verlieren wird.\n",
    "\n",
    "Du musst den folgenden Code bei \"...\" erweitern."
   ]
  },
  {
   "cell_type": "code",
   "execution_count": 17,
   "metadata": {},
   "outputs": [],
   "source": [
    "# Wir erstellen das Spielfeld.\n",
    "def init_spielfeld():\n",
    "    spielfeld = [\" \",\n",
    "                 \"1\",\"2\",\"3\",\n",
    "                 \"4\",\"5\",\"6\",\n",
    "                 \"7\",\"8\",\"9\"]\n",
    "    return spielfeld\n",
    "\n",
    "# Da die Indizierung bei 0 beginnt, das aber zu Verwirrung führen kann, bleibt das erste Feld leer."
   ]
  },
  {
   "cell_type": "code",
   "execution_count": 18,
   "metadata": {},
   "outputs": [
    {
     "name": "stdout",
     "output_type": "stream",
     "text": [
      "1|2|3\n",
      "4|5|6\n",
      "7|8|9\n"
     ]
    }
   ],
   "source": [
    "# Das Spielfeld wird ausgegeben\n",
    "\n",
    "def spielfeld_ausgeben(spielfeld):\n",
    "    print (spielfeld[1] + \"|\" + spielfeld[2] + \"|\" + spielfeld[3] )\n",
    "    print (spielfeld[4] + \"|\" + spielfeld[5] + \"|\" + spielfeld[6] )\n",
    "    print (spielfeld[7] + \"|\" + spielfeld[8] + \"|\" + spielfeld[9] )\n",
    "\n",
    "\n",
    "spielfeld = init_spielfeld()\n",
    "spielfeld_ausgeben(spielfeld)"
   ]
  },
  {
   "cell_type": "code",
   "execution_count": 19,
   "metadata": {},
   "outputs": [],
   "source": [
    "# Menschlicher Spieler gibt gewünschtes Feld ein\n",
    "\n",
    "def eingabe():\n",
    "    while True:\n",
    "        feld = input(\"Auf welches Feld möchtest du setzen (1-9)? 0 beendet das Spiel.\")\n",
    "        feld = int(feld)\n",
    "        return feld"
   ]
  },
  {
   "cell_type": "code",
   "execution_count": 20,
   "metadata": {},
   "outputs": [],
   "source": [
    "# Diese KI soll zufällig ein Feld auf dem Spielplan aussuchen\n",
    "# Verwende dazu die Funktion:  random.randrange(start, stop)\n",
    "import random\n",
    "\n",
    "def eingabe_ki_zufaellig():\n",
    "    feld = ...\n",
    "    \n",
    "    return feld"
   ]
  },
  {
   "cell_type": "code",
   "execution_count": 21,
   "metadata": {},
   "outputs": [],
   "source": [
    "# Diese KI soll erkennen, ob sie im nächsten Zug Schluss machen kann\n",
    "# oder den gegnerischen Sieg verhindern kann.\n",
    "# Dazu muss sie überprüfen, ob es möglich ist, drei Felder in einer Reihe, Spalte oder Diagonale zu erreichen\n",
    "\n",
    "# Falls die KI im nächsten Zug weder gewinnen noch verlieren kann, soll sie ein zufälliges Feld wählen.\n",
    "\n",
    "def eingabe_ki_simpel(spielfeld):\n",
    "    feld = ...\n",
    "    \n",
    "    return feld"
   ]
  },
  {
   "cell_type": "code",
   "execution_count": 22,
   "metadata": {},
   "outputs": [],
   "source": [
    "# Ist es möglich in einem Zug zu gewinnen oder zu verlieren?\n",
    "# Diese Funktion soll das relevante Feld zurück geben\n",
    "# oder \"False\", falls es nicht möglich ist zu gewinnen oder zu verlieren.\n",
    "\n",
    "def gewonnen_next(spielfeld):\n",
    "    ..."
   ]
  },
  {
   "cell_type": "markdown",
   "metadata": {},
   "source": [
    "Damit du gegen eine KI spielen kannst, müssen wir den Code von letzter Woche anpassen."
   ]
  },
  {
   "cell_type": "code",
   "execution_count": 24,
   "metadata": {},
   "outputs": [
    {
     "name": "stdout",
     "output_type": "stream",
     "text": [
      "Wer ist dein Gegenspieler? Mensch, ki_zufaellig oder ki_simpel?Mensch\n",
      "Es ist Spieler  1  am Zug.\n",
      "Auf welches Feld möchtest du setzen (1-9)? 0 beendet das Spiel.1\n",
      "X|2|3\n",
      "4|5|6\n",
      "7|8|9\n",
      "Es ist Spieler  Mensch  am Zug.\n",
      "Auf welches Feld möchtest du setzen (1-9)? 0 beendet das Spiel.2\n",
      "X|O|3\n",
      "4|5|6\n",
      "7|8|9\n",
      "Es ist Spieler  1  am Zug.\n",
      "Auf welches Feld möchtest du setzen (1-9)? 0 beendet das Spiel.0\n",
      "Das Spiel wurde beendet.\n"
     ]
    }
   ],
   "source": [
    "# Es kann 9 mal ein Feld belegt werden\n",
    "counter = 0\n",
    "\n",
    "ki = input(\"Wer ist dein Gegenspieler? Mensch, ki_zufaellig oder ki_simpel?\")\n",
    "\n",
    "spieler = 1\n",
    "\n",
    "# Spielfeld initialisieren\n",
    "spielfeld = init_spielfeld()\n",
    "\n",
    "while True:\n",
    "    # Eingabe des Zuges\n",
    "    print(\"Es ist Spieler \", spieler, \" am Zug.\")\n",
    "    if spieler == 1:\n",
    "        feld = eingabe()\n",
    "    if spieler == ki:\n",
    "        if ki == \"Mensch\":\n",
    "            feld = eingabe()\n",
    "        elif spieler == \"ki_zufaellig\":\n",
    "            feld = eingabe_ki_zufaellig()\n",
    "        elif spieler == \"ki_simpel\":\n",
    "            feld = eingabe_ki_simpel(spielfeld)\n",
    "        \n",
    "    if feld == 0:\n",
    "        print(\"Das Spiel wurde beendet.\")\n",
    "        break\n",
    "        \n",
    "    # auf korrekte Eingabe überprüfen und Spielzug ausführen\n",
    "    elif feld >= 1 and feld <= 9 and spielfeld[feld] != 'X' and spielfeld[feld] != 'O':\n",
    "        if spieler == 1:\n",
    "            spielfeld[feld] = 'X'\n",
    "            spieler = ki\n",
    "        else:\n",
    "            spielfeld[feld] = 'O'\n",
    "            spieler = 1\n",
    "    else:\n",
    "        print(\"Bitte ein korrektes Feld eingeben.\")\n",
    "        continue\n",
    "    \n",
    "    spielfeld_ausgeben(spielfeld)\n",
    "    \n",
    "    # sind alle Felder belegt?\n",
    "    counter += 1\n",
    "    if counter == 9:\n",
    "        print(\"Das Spiel ist zu Ende.\")\n",
    "        break\n",
    "        \n",
    "    "
   ]
  },
  {
   "cell_type": "code",
   "execution_count": null,
   "metadata": {},
   "outputs": [],
   "source": []
  },
  {
   "cell_type": "markdown",
   "metadata": {},
   "source": [
    "## Feedback für uns (freiwillig)\n",
    "War diese Aufgabe zu leicht, zu schwer oder genau richtig?\n",
    "\n",
    "Wie lang hast du für diese Aufgabe ungefähr gebraucht?\n",
    "\n",
    "Welche Art von Aufgaben wünschst du dir in Zukunft?"
   ]
  },
  {
   "cell_type": "code",
   "execution_count": null,
   "metadata": {},
   "outputs": [],
   "source": []
  }
 ],
 "metadata": {
  "kernelspec": {
   "display_name": "Python 3",
   "language": "python",
   "name": "python3"
  },
  "language_info": {
   "codemirror_mode": {
    "name": "ipython",
    "version": 3
   },
   "file_extension": ".py",
   "mimetype": "text/x-python",
   "name": "python",
   "nbconvert_exporter": "python",
   "pygments_lexer": "ipython3",
   "version": "3.7.4"
  }
 },
 "nbformat": 4,
 "nbformat_minor": 2
}
