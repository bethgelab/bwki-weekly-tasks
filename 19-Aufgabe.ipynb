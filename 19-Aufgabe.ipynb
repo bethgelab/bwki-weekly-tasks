{
 "cells": [
  {
   "cell_type": "markdown",
   "metadata": {},
   "source": [
    "# **(fast) ein Palindrom**\n",
    "### **- Aufgabe -**"
   ]
  },
  {
   "cell_type": "markdown",
   "metadata": {},
   "source": [
    "### In dieser Aufgabe soll geprüft werden, ob ein Wort ein Palindrom sein kann, wenn maximal ein Zeichen entfernt werden darf."
   ]
  },
  {
   "cell_type": "markdown",
   "metadata": {},
   "source": [
    "Was ist eigentlich ein Palindrom?"
   ]
  },
  {
   "cell_type": "markdown",
   "metadata": {},
   "source": [
    "In der Informatik lässt sich ein Palindrom rekursiv definieren\n",
    "- Das leere Wort (das Wort der Länge 0) ist ein Palindrom.\n",
    "- Jedes Wort x der Länge 1 ist ein Palindrom.\n",
    "- Ist a ein Symbol und x ein Palindrom, so ist axa ein Palindrom.\n",
    "- Kein anderes Wort ist ein Palindrom."
   ]
  },
  {
   "cell_type": "markdown",
   "metadata": {},
   "source": [
    "Oder etwas umgangssprachlicher:\n",
    "Ein Wort, welches rückwärts wie vorwärts gelesen gleich ist."
   ]
  },
  {
   "cell_type": "markdown",
   "metadata": {},
   "source": [
    "Beispiele:\n",
    "- \"neben\" -> Ist ein Palindrom\n",
    "- \"anabna\" -> Ist ein Palindrom, wenn \"b\" entfernt wird \n",
    "- \"abbaaa\" -> kann nicht durch das entfernen eines Buchstaben zu einen Palindrom werden"
   ]
  },
  {
   "cell_type": "code",
   "execution_count": 4,
   "metadata": {},
   "outputs": [],
   "source": [
    "# Implementiere hier die Funktion, die einen String als Eingabe\n",
    "# bekommt und True ausgibt, wenn der String durch das Entfernen \n",
    "# von maximal einem Buchtsaben zu einen Palindrom wird.\n",
    "\n",
    "def gültigesPalindrome(s: str) -> bool:\n",
    "    return False"
   ]
  }
 ],
 "metadata": {
  "kernelspec": {
   "display_name": "Python 3",
   "language": "python",
   "name": "python3"
  },
  "language_info": {
   "codemirror_mode": {
    "name": "ipython",
    "version": 3
   },
   "file_extension": ".py",
   "mimetype": "text/x-python",
   "name": "python",
   "nbconvert_exporter": "python",
   "pygments_lexer": "ipython3",
   "version": "3.6.9"
  }
 },
 "nbformat": 4,
 "nbformat_minor": 4
}
