{
 "cells": [
  {
   "cell_type": "markdown",
   "metadata": {},
   "source": [
    "# Tic Tac Toe - Spiel\n",
    "### - Lösung - "
   ]
  },
  {
   "cell_type": "markdown",
   "metadata": {},
   "source": [
    "## In dieser Aufgabe geht es darum Tic Tac Toe zu programmieren."
   ]
  },
  {
   "cell_type": "markdown",
   "metadata": {},
   "source": [
    "Dein Ziel ist, dass zwei menschliche Spieler gegeneinander Tic Tac Toe spielen können, in dem sie ihr gewünschtes Feld eingeben und dann das neue Spielfeld angezeigt wird.\n",
    "In dem folgenden Code ist das Spiel für zwei menschliche Spieler implementiert:"
   ]
  },
  {
   "cell_type": "code",
   "execution_count": null,
   "metadata": {
    "collapsed": true
   },
   "outputs": [],
   "source": [
    "# Wir erstellen das Spielfeld.\n",
    "def init_spielfeld():\n",
    "    spielfeld = [\" \",\n",
    "                 \"1\",\"2\",\"3\",\n",
    "                 \"4\",\"5\",\"6\",\n",
    "                 \"7\",\"8\",\"9\"]\n",
    "    return spielfeld\n",
    "\n",
    "# Da die Indizierung bei 0 beginnt, das aber zu Verwirrung führen kann, bleibt das erste Feld leer."
   ]
  },
  {
   "cell_type": "markdown",
   "metadata": {},
   "source": [
    "**Anmerkung:**\n",
    "\n",
    "Das Spielfeld besteht aus einem **3x3 Feld**. Das Spielfeld soll so dargestellt werden, dass die **Zahlen 1 bis 9** darauf sichtbar sind. Beachte, dass wir die Zahlen in der Liste 'spielfeld' als Strings darstellen. Im Spiel kann man dann die Zahl (als Integer) eingeben, auf deren Feld man setzen möchte. Damit die Zahlen auf dem Spielfeld mit der eingegebenen Zahl übereinstimmen, lassen wir in der Liste 'spielfeld' die erste Position leer. In Python beginnt die Indizierung bei Listen bei 0."
   ]
  },
  {
   "cell_type": "code",
   "execution_count": null,
   "metadata": {
    "collapsed": false
   },
   "outputs": [],
   "source": [
    "# Das Spielfeld wird als 3x3 Feld ausgegeben\n",
    "\n",
    "def spielfeld_ausgeben(spielfeld):\n",
    "    print(spielfeld[1] + \"|\" + spielfeld[2] + \"|\" + spielfeld[3])\n",
    "    print(spielfeld[4] + \"|\" + spielfeld[5] + \"|\" + spielfeld[6])\n",
    "    print(spielfeld[7] + \"|\" + spielfeld[8] + \"|\" + spielfeld[9])\n",
    "    \n",
    "# Alternative Darstellung des Spielfelds: \n",
    "\n",
    "# def spielfeld_ausgeben(spielfeld):\n",
    "#     for i in range(1, 10, 3):\n",
    "#         print('-------------')\n",
    "#         print(f'| {spielfeld[i]} | {spielfeld[i+1]} | {spielfeld[i+2]} |')\n",
    "#     print('-------------')\n",
    "\n",
    "\n",
    "spielfeld = init_spielfeld()\n",
    "spielfeld_ausgeben(spielfeld)"
   ]
  },
  {
   "cell_type": "markdown",
   "metadata": {},
   "source": [
    "Wir überprüfen, ob eine Zahl eingegeben wurde. Es ist zum Beispiel nicht möglich, einen Buchstaben in einen Integer mit int() zu verwandeln. Das Programm würde in diesem Fall einen Fehler werfen und abbrechen. Wir nutzen eine Ausnahmebehandlung, die Fehler auffängt."
   ]
  },
  {
   "cell_type": "code",
   "execution_count": null,
   "metadata": {
    "collapsed": true
   },
   "outputs": [],
   "source": [
    "# Spieler gibt gewünschtes Feld (1-9) oder Abbruch (0) ein\n",
    "\n",
    "def eingabe():\n",
    "    while True:\n",
    "        try:\n",
    "            # input() nimmt Eingaben über die Tastatur auf\n",
    "            feld = input(\"Auf welches Feld möchtest du setzen (1-9)? 0 beendet das Spiel.\")\n",
    "            feld = int(feld)\n",
    "            break\n",
    "        # Falls keine Zahl eingegeben wurde, Eingabe wiederholen\n",
    "        except ValueError:\n",
    "            print(\"Bitte eine Zahl eingeben.\")\n",
    "            \n",
    "    return feld"
   ]
  },
  {
   "cell_type": "code",
   "execution_count": null,
   "metadata": {
    "collapsed": true
   },
   "outputs": [],
   "source": [
    "# Korrekte Eingabe überprüfen\n",
    "\n",
    "# Die Funktion bekommt das gewünschte Feld und das Spielfeld übergeben. Wenn das Feld eine Zahl zwischen 1 und 9 ist\n",
    "# und dieses Feld noch frei ist, soll die Funktion \"True\" zurück geben, ansonsten \"False\".\n",
    "\n",
    "def korrekt(feld, spielfeld):\n",
    "    if feld >= 1 and feld <= 9 and spielfeld[feld] != 'X' and spielfeld[feld] != 'O':\n",
    "        print(\"Das Feld ist frei!\")\n",
    "        return True\n",
    "    else:\n",
    "        print(\"Belegt!\")\n",
    "        return False"
   ]
  },
  {
   "cell_type": "code",
   "execution_count": null,
   "metadata": {
    "collapsed": false
   },
   "outputs": [],
   "source": [
    "# Spieler 1 beginnt\n",
    "spieler = 1\n",
    "\n",
    "# Es kann 9 mal ein Feld belegt werden\n",
    "counter = 0\n",
    "\n",
    "# Spielfeld initialisieren\n",
    "spielfeld = init_spielfeld()\n",
    "\n",
    "while True:\n",
    "    # Eingabe des Zuges\n",
    "    print(\"Es ist Spieler \", spieler, \" am Zug.\")\n",
    "    feld = eingabe()\n",
    "    if feld == 0:\n",
    "        print(\"Das Spiel wurde beendet.\")\n",
    "        break\n",
    "        \n",
    "    # auf korrekte Eingabe überprüfen und Spielzug ausführen\n",
    "    if korrekt(feld, spielfeld):\n",
    "        if spieler == 1:\n",
    "            spielfeld[feld] = 'X'\n",
    "            naechster_spieler = 2\n",
    "        else:\n",
    "            spielfeld[feld] = 'O'\n",
    "            naechster_spieler = 1\n",
    "    else:\n",
    "        print(\"Bitte ein korrektes Feld eingeben.\")\n",
    "        continue\n",
    "    \n",
    "    spielfeld_ausgeben(spielfeld)\n",
    "    \n",
    "    if gewonnen(spielfeld):\n",
    "        print(\"Spieler {} gewinnt das Spiel!\".format(spieler))\n",
    "        break\n",
    "    else:\n",
    "        spieler = naechster_spieler\n",
    "    \n",
    "    # sind alle Felder belegt?\n",
    "    counter += 1\n",
    "    if counter == 9:\n",
    "        print(\"Das Spiel ist zu Ende.\")\n",
    "        break    "
   ]
  },
  {
   "cell_type": "markdown",
   "metadata": {},
   "source": [
    "Super! Jetzt kannst du Tic Tac Toe gegen einen menschlichen Mitspieler spielen!"
   ]
  },
  {
   "cell_type": "markdown",
   "metadata": {},
   "source": [
    "## Zusatzaufgabe:"
   ]
  },
  {
   "cell_type": "markdown",
   "metadata": {},
   "source": [
    "Schreibe eine Funktion, die erkennt, ob ein Spieler gewonnen hat!"
   ]
  },
  {
   "cell_type": "code",
   "execution_count": null,
   "metadata": {
    "collapsed": true
   },
   "outputs": [],
   "source": [
    "# Funktion, die überprüft, ob ein Spieler gewonnen hat\n",
    "def gewonnen(spielfeld):\n",
    "    \n",
    "    # Horizontalen (Zeilen) überprüfen\n",
    "    for i in range(1,10,3):\n",
    "        if spielfeld[i] == spielfeld[i+1] == spielfeld[i+2]:\n",
    "            return True\n",
    "        \n",
    "    # Vertikalen (Spalten) überprüfen\n",
    "    for i in range(1,4):\n",
    "        if spielfeld[i] == spielfeld[i+3] == spielfeld[i+6]:\n",
    "            return True\n",
    "    \n",
    "    # Diagonalen überprüfen\n",
    "    if spielfeld[1] == spielfeld[5] == spielfeld[9]:\n",
    "        return True\n",
    "    \n",
    "    elif spielfeld[7] == spielfeld[5] == spielfeld[3]:\n",
    "        return True\n",
    "    \n",
    "    else:\n",
    "        return False\n",
    "    "
   ]
  },
  {
   "cell_type": "markdown",
   "metadata": {},
   "source": [
    "## Fragen & Feedback:\n",
    "\n",
    "**Wenn ihr Fragen oder Anregungen zu der Aufgabe (oder Lösung) habt, dann tauscht euch gerne im [Chat](https://spectrum.chat/bwki/aufgabenarchiv/) darüber aus oder schreibt uns eine E-Mail (an info@bw-ki.de). **\n",
    "\n",
    "Wir freuen uns auch immer über **Feedback** (auch unter info@bw-ki.de):\n",
    "\n",
    "- War diese Aufgabe zu leicht, zu schwer oder genau richtig?\n",
    "- Wie lang hast du für diese Aufgabe ungefähr gebraucht?\n",
    "- Welche Art von Aufgaben wünschst du dir in Zukunft?"
   ]
  }
 ],
 "metadata": {
  "anaconda-cloud": {},
  "kernelspec": {
   "display_name": "Python [conda env:hiwi_env]",
   "language": "python",
   "name": "conda-env-hiwi_env-py"
  },
  "language_info": {
   "codemirror_mode": {
    "name": "ipython",
    "version": 3
   },
   "file_extension": ".py",
   "mimetype": "text/x-python",
   "name": "python",
   "nbconvert_exporter": "python",
   "pygments_lexer": "ipython3",
   "version": "3.6.8"
  }
 },
 "nbformat": 4,
 "nbformat_minor": 2
}
