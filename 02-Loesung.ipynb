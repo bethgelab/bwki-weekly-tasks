{
 "cells": [
  {
   "cell_type": "markdown",
   "metadata": {},
   "source": [
    "## April Woche 2: Tic Tac Toe"
   ]
  },
  {
   "cell_type": "markdown",
   "metadata": {},
   "source": [
    "## In dieser Aufgabe geht es darum eine einfache KI für Tic Tac Toe zu programmieren."
   ]
  },
  {
   "cell_type": "markdown",
   "metadata": {},
   "source": [
    "In dem folgenden Code ist das Spiel für zwei menschliche Spieler implementiert:"
   ]
  },
  {
   "cell_type": "code",
   "execution_count": 24,
   "metadata": {},
   "outputs": [],
   "source": [
    "# Wir erstellen das Spielfeld.\n",
    "def init_spielfeld():\n",
    "    spielfeld = [\" \",\n",
    "                 \"1\",\"2\",\"3\",\n",
    "                 \"4\",\"5\",\"6\",\n",
    "                 \"7\",\"8\",\"9\"]\n",
    "    return spielfeld\n",
    "\n",
    "# Da die Indizierung bei 0 beginnt, das aber zu Verwirrung führen kann, bleibt das erste Feld leer."
   ]
  },
  {
   "cell_type": "code",
   "execution_count": 27,
   "metadata": {},
   "outputs": [
    {
     "name": "stdout",
     "output_type": "stream",
     "text": [
      "1|2|3\n",
      "4|5|6\n",
      "7|8|9\n"
     ]
    }
   ],
   "source": [
    "# Das Spielfeld wird ausgegeben\n",
    "\n",
    "def spielfeld_ausgeben(spielfeld):\n",
    "    print (spielfeld[1] + \"|\" + spielfeld[2] + \"|\" + spielfeld[3] )\n",
    "    print (spielfeld[4] + \"|\" + spielfeld[5] + \"|\" + spielfeld[6] )\n",
    "    print (spielfeld[7] + \"|\" + spielfeld[8] + \"|\" + spielfeld[9] )\n",
    "\n",
    "\n",
    "spielfeld = init_spielfeld()\n",
    "spielfeld_ausgeben(spielfeld)"
   ]
  },
  {
   "cell_type": "markdown",
   "metadata": {},
   "source": [
    "Wir überprüfen, ob eine Zahl eingegeben wurde. Es ist zum Beispiel nicht möglich, ein Buchstabe in ein Integer mit int() zu verwandelen. Das Programm würde in diesem Fall einen Fehler werfen und abbrechen. Wir nutzen eine Ausnahmebehandlung, die Fehler auffängt."
   ]
  },
  {
   "cell_type": "code",
   "execution_count": 13,
   "metadata": {},
   "outputs": [],
   "source": [
    "# Spieler gibt gewünschtes Feld (1-9) oder Abbruch (0) ein\n",
    "\n",
    "def eingabe():\n",
    "    while True:\n",
    "        try:\n",
    "            # input() nimmt Eingaben über die Tastatur auf\n",
    "            feld = input(\"Auf welches Feld möchtest du setzen (1-9)? 0 beendet das Spiel.\")\n",
    "            feld = int(feld)\n",
    "            break\n",
    "        # Falls keine Zahl eingegeben wurde, Eingabe wiederholen\n",
    "        except ValueError:\n",
    "            print(\"Bitte eine Zahl eingeben.\")"
   ]
  },
  {
   "cell_type": "code",
   "execution_count": 16,
   "metadata": {},
   "outputs": [],
   "source": [
    "# Korrekte Eingabe überprüfen\n",
    "\n",
    "def korrekt(feld, spielfeld):\n",
    "    if feld >= 1 and feld <= 9 and spielfeld[feld] != 'X' and spielfeld[feld] != 'O':\n",
    "        print(\"Das Feld ist frei!\")\n",
    "        return True\n",
    "    else:\n",
    "        print(\"Belegt!\")\n",
    "        return False"
   ]
  },
  {
   "cell_type": "code",
   "execution_count": 29,
   "metadata": {},
   "outputs": [
    {
     "name": "stdout",
     "output_type": "stream",
     "text": [
      "Es ist Spieler  1  am Zug.\n",
      "Auf welches Feld möchtest du setzen (1-9)? 0 beendet das Spiel.1\n",
      "Das Feld ist frei\n",
      "1\n",
      "X|2|3\n",
      "4|5|6\n",
      "7|8|9\n",
      "Es ist Spieler  2  am Zug.\n",
      "Auf welches Feld möchtest du setzen (1-9)? 0 beendet das Spiel.5\n",
      "Das Feld ist frei\n",
      "2\n",
      "X|2|3\n",
      "4|O|6\n",
      "7|8|9\n",
      "Es ist Spieler  1  am Zug.\n",
      "Auf welches Feld möchtest du setzen (1-9)? 0 beendet das Spiel.0\n",
      "Das Spiel wurde beendet.\n"
     ]
    }
   ],
   "source": [
    "# Spieler 1 beginnt\n",
    "spieler = 1\n",
    "\n",
    "# Es kann 9 mal ein Feld belegt werden\n",
    "counter = 0\n",
    "\n",
    "# Spielfeld initialisieren\n",
    "spielfeld = init_spielfeld()\n",
    "\n",
    "while True:\n",
    "    # Eingabe des Zuges\n",
    "    print(\"Es ist Spieler \", spieler, \" am Zug.\")\n",
    "    feld = eingabe()\n",
    "    if feld == 0:\n",
    "        print(\"Das Spiel wurde beendet.\")\n",
    "        break\n",
    "        \n",
    "    # auf korrekte Eingabe überprüfen und Spielzug ausführen\n",
    "    if korrekt(feld, spielfeld):\n",
    "        if spieler == 1:\n",
    "            spielfeld[feld] = 'X'\n",
    "            spieler = 2\n",
    "        else:\n",
    "            spielfeld[feld] = 'O'\n",
    "            spieler = 1\n",
    "    else:\n",
    "        print(\"Bitte ein korrektes Feld eingeben.\")\n",
    "        continue\n",
    "    \n",
    "    spielfeld_ausgeben(spielfeld)\n",
    "    \n",
    "    # sind alle Felder belegt?\n",
    "    counter += 1\n",
    "    if counter == 9:\n",
    "        print(\"Das Spiel ist zu Ende.\")\n",
    "        break    "
   ]
  },
  {
   "cell_type": "markdown",
   "metadata": {},
   "source": [
    "Jetzt kannst du Tic Tac Toe gegen einen menschlichen Mitspieler spielen."
   ]
  }
 ],
 "metadata": {
  "kernelspec": {
   "display_name": "Python 3",
   "language": "python",
   "name": "python3"
  },
  "language_info": {
   "codemirror_mode": {
    "name": "ipython",
    "version": 3
   },
   "file_extension": ".py",
   "mimetype": "text/x-python",
   "name": "python",
   "nbconvert_exporter": "python",
   "pygments_lexer": "ipython3",
   "version": "3.7.4"
  }
 },
 "nbformat": 4,
 "nbformat_minor": 2
}
