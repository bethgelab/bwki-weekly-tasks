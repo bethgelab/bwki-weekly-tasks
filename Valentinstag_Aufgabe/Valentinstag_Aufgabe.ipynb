{
 "cells": [
  {
   "cell_type": "markdown",
   "metadata": {},
   "source": [
    "# Aufgabe zum Valentinstag"
   ]
  },
  {
   "cell_type": "markdown",
   "metadata": {},
   "source": [
    "Der Bundeswettbewerb Künstliche Intelligenz stellt dir eine spannende und kniffelige Programmieraufgabe, in der du dein Programmiergeschick auf die Probe stellen kannst. **Vervollständige den Code an den Stellen, die mit '...' markiert sind und lade dann dieses Notebook herunter. Du kannst deine Lösung bis zum XX.YY.ZZZZ 23:59 Uhr per Mail an aufgabe-der-woche@bw-ki.de einreichen.**\n",
    "\n",
    "Voraussetzung für die Teilnahme ist die Registrierung eines vollständigen Accounts im Loginbereich des Bundeswettbewerbs Künstliche Intelligenz. Es gelten die Teilnahmebedingungen (https://bw-ki.de/teilnahmebedingungen/) und Datenschutzrichtlinien (https://bw-ki.de/datenschutz/) des Wettbewerbs."
   ]
  },
  {
   "cell_type": "markdown",
   "metadata": {},
   "source": [
    "## Eine Grußkarte an die:den Liebste:n\n",
    "Ihr wollt an euer special other eine Grußkarte versenden, aber seid wie immer zu spät dran. Der Kopierladen hat schon geschlossen und eure Textverarbeitungsprogramm startet mal wieder nicht. Da ist guter Rat teuer. Was darf auf einer Valentinstags-Grußkarte nicht fehlen: richtig, das Herz! Ihr startet also eure Python Umgebung und gestaltet ein Herz für eure Grußkarte."
   ]
  },
  {
   "cell_type": "code",
   "execution_count": 1,
   "metadata": {},
   "outputs": [
    {
     "data": {
      "image/png": "[encoded data removed]",
      "text/plain": [
       "<Figure size 432x288 with 1 Axes>"
      ]
     },
     "metadata": {
      "needs_background": "light"
     },
     "output_type": "display_data"
    }
   ],
   "source": [
    "# wir zeichnen das Herz mit matplotlib\n",
    "# außerdem brauchen wir math, numpy und scipy\n",
    "import matplotlib\n",
    "import matplotlib.pyplot as plt\n",
    "from matplotlib import collections\n",
    "import math\n",
    "import numpy as np\n",
    "from scipy.spatial import ConvexHull\n",
    "\n",
    "# vorgegeben ist eine Klasse für ein Rechteck\n",
    "class Rechteck:\n",
    "    \"\"\"Rechteck\"\"\"\n",
    "    eckpunkte = []\n",
    "    def __init__(self, mittelpunktX, mittelpunktY, breite, höhe, rotationswinkel):\n",
    "        a = (-breite/2, -höhe/2)\n",
    "        b = (breite/2, -höhe/2)\n",
    "        c = (breite/2, höhe/2)\n",
    "        d = (-breite/2, höhe/2)\n",
    "        a = self.rotiereUmUrsprung(a, rotationswinkel)\n",
    "        b = self.rotiereUmUrsprung(b, rotationswinkel)\n",
    "        c = self.rotiereUmUrsprung(c, rotationswinkel)\n",
    "        d = self.rotiereUmUrsprung(d, rotationswinkel)\n",
    "        a = (a[0] + mittelpunktX, a[1] + mittelpunktY)\n",
    "        b = (b[0] + mittelpunktX, b[1] + mittelpunktY)\n",
    "        c = (c[0] + mittelpunktX, c[1] + mittelpunktY)\n",
    "        d = (d[0] + mittelpunktX, d[1] + mittelpunktY)\n",
    "        self.eckpunkte = [a, b, c, d]\n",
    "    def rotiereUmUrsprung(self, punkt, winkel):\n",
    "        winkel = 2 * math.pi * winkel / 360\n",
    "        x = punkt[0] * math.cos(winkel) - punkt[1] * math.sin(winkel)\n",
    "        y = punkt[0] * math.sin(winkel) + punkt[1] * math.cos(winkel)\n",
    "        return (x, y)\n",
    "\n",
    "# und eine Klasse für einen Kreis\n",
    "class Kreis:\n",
    "    \"\"\"Kreis\"\"\"\n",
    "    mittelpunktX = 0\n",
    "    mittelpunktY = 0\n",
    "    radius = 1\n",
    "    def __init__(self, mittelpunktX, mittelpunktY, radius):\n",
    "        self.mittelpunktX = mittelpunktX\n",
    "        self.mittelpunktY = mittelpunktY\n",
    "        self.radius = radius\n",
    "\n",
    "# außerdem geben wir eine Funktion vor, die Kreise und Rechtecke zeichnet\n",
    "def zeichne(listeVonKreisen, listeVonRechtecken):\n",
    "    def convexhull(p):\n",
    "        p = np.array(p)\n",
    "        hull = ConvexHull(p)\n",
    "        return p[hull.vertices,:]\n",
    "    figure, axes = plt.subplots()\n",
    "    for k in listeVonKreisen:\n",
    "        circle = plt.Circle((k.mittelpunktX, k.mittelpunktY), k.radius, color=\"red\")\n",
    "        axes.add_artist(circle)\n",
    "    rechtecke = []\n",
    "    for r in listeVonRechtecken:\n",
    "        rechtecke.append(convexhull(r.eckpunkte))\n",
    "    polyCollection = collections.PolyCollection(rechtecke, color=\"red\")\n",
    "    axes.add_collection(polyCollection)\n",
    "    axes.set_xlim([-10, 10])\n",
    "    axes.set_ylim([-10, 10])\n",
    "    axes.set_aspect(1)\n",
    "    plt.show()\n",
    "\n",
    "# füge testweise einige Kreise und Rechtecke hinzu\n",
    "kreisListeTest = []\n",
    "kreisListeTest.append(Kreis(0, 0, 3))\n",
    "kreisListeTest.append(Kreis(-5, -5, 2))\n",
    "rechteckListeTest = []\n",
    "rechteckListeTest.append(Rechteck(5, 5, 1, 5, 0))\n",
    "rechteckListeTest.append(Rechteck(-7, 7, 1, 2, 30))\n",
    "\n",
    "# und zeichne diese\n",
    "zeichne(kreisListeTest, rechteckListeTest)"
   ]
  },
  {
   "cell_type": "markdown",
   "metadata": {},
   "source": [
    "## Jetzt bist du an der Reihe\n",
    "Verwende die vorgegebene Funktion, um ein Herz zu zeichnen. Die Position und Orientierung des Herzes ist dabei egal, du kannst also kreativ werden. Beachte: die vorgegebene Zeichenfläche geht von (-10, -10) bis (10, 10)."
   ]
  },
  {
   "cell_type": "code",
   "execution_count": null,
   "metadata": {},
   "outputs": [],
   "source": [
    "# zeichne ein Herz\n",
    "kreisListe = []\n",
    "kreisListe.append(...)\n",
    "\n",
    "rechteckListe = []\n",
    "...\n",
    "\n",
    "zeichne(kreisListe, rechteckListe)"
   ]
  },
  {
   "cell_type": "markdown",
   "metadata": {},
   "source": [
    "## Fragen & Feedback:\n",
    "\n",
    "**Wenn ihr Fragen oder Anregungen zu der Aufgabe (oder Lösung) habt, dann tauscht euch gerne im [Chat](https://spectrum.chat/bwki/aufgabenarchiv/) darüber aus oder schreibt uns eine E-Mail (an info@bw-ki.de).**\n",
    "\n",
    "Wir freuen uns auch immer über **Feedback** (auch unter info@bw-ki.de)!"
   ]
  }
 ],
 "metadata": {
  "anaconda-cloud": {},
  "kernelspec": {
   "display_name": "Python 3",
   "language": "python",
   "name": "python3"
  },
  "language_info": {
   "codemirror_mode": {
    "name": "ipython",
    "version": 3
   },
   "file_extension": ".py",
   "mimetype": "text/x-python",
   "name": "python",
   "nbconvert_exporter": "python",
   "pygments_lexer": "ipython3",
   "version": "3.8.5"
  }
 },
 "nbformat": 4,
 "nbformat_minor": 2
}
