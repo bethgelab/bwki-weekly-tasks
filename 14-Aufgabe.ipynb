{
 "cells": [
  {
   "cell_type": "markdown",
   "metadata": {},
   "source": [
    "# Aufgabe 14 : Labyrinthgenerator"
   ]
  },
  {
   "cell_type": "markdown",
   "metadata": {},
   "source": [
    "Willkommen zu unserer Aufgabe der Woche!\n",
    "\n",
    "Der Bundeswettbewerb Künstliche Intelligenz stellt euch jede Woche eine spannende oder kniffelige Programmieraufgabe, in der ihr euer Programmiergeschick auf die Probe stellen könnt.\n",
    "\n",
    "Jede Woche habt ihr die Chance auf einen Amazon-Gutschein im Wert von 25€! Wer jede Aufgabe in einem Monat einschickt, nimmt in der Monatsverlosung teil und kann einen 50€-Amazon-Gutschein gewinnen! Ihr könnt eure Lösung immer bis Sonntag 22 Uhr der gleichen Woche per Mail an **aufgabe-der-woche@bw-ki.de** einreichen.\n",
    "\n",
    "Bitte lade dazu das Notebook unter \"File/Download as/Notebook (.ipynb)\" runter. Verändere den Namen der Datei nicht und **vergiss nicht im ersten Feld deinen Namen und deine E-Mailadresse anzugeben**.\n",
    "\n",
    "Es werden nur korrekte Lösungen berücksichtigt. Voraussetzung für die Teilnahme ist die Registrierung eures vollständigen Accounts im Loginbereich des Bundeswettbewerbs Künstliche Intelligenz. Es gelten die Teilnahmebedingungen (https://bw-ki.de/teilnahmebedingungen/) und Datenschutzrichtlinien (https://bw-ki.de/datenschutz/) des Wettbewerbs.\n",
    "\n",
    "Wir freuen uns auch immer über **Feedback** von euch (siehe ganz unten)!"
   ]
  },
  {
   "cell_type": "markdown",
   "metadata": {},
   "source": [
    "Dein vollständiger Name:\n",
    "\n",
    "Deine E-Mailadresse:"
   ]
  },
  {
   "cell_type": "markdown",
   "metadata": {},
   "source": [
    "## Links, rechts, geradeaus, du kommst hier nicht mehr raus, ...\n",
    "aus Oomph! - Labyrinth\n",
    "\n",
    "Diese Woche ist es die Aufgabe, einen Labyrinthgenerator zu schreiben. Aber zunächst zu unserer Motivation, bevor du dich noch im Labyrinth verlierst...\n",
    "\n",
    "### Labyrinth als Graph\n",
    "Ein Labyrinth kann auch als sogenannter Graph betrachtet werden. Graphen kann man wie Netze veranschaulichen; sie haben Kanten (Linien) und Knoten (Punkte). An Knoten können sich mehrere Kanten treffen. Wenn man die Pfade eines Labyrinths als Kanten versteht und die Kreuzungen und Kurven als Knoten, wird aus dem Labyrinth (in schwarz-weiß) ein Graph (in rot). Das folgende Bild veranschaulicht diese Idee:\n",
    "\n",
    "<img src=\"http://caeze.bplaced.net/bwki/labyrinth1.png\" alt=\"labyrinth_1\" width=\"300\"/>\n",
    "\n",
    "An Graphen wird schon lange geforscht, daher gibt es eine Vielzahl an Verfahren und Algorithmen um verschiedenste Werte und Eigenschaften in einem Graphen zu bestimmen. Nächste Woche wollen wir uns einen der klassichen Graphen-Algorithmen anschauen, aber dazu benötigen wir Testgraphen, um die Implementierung zu validieren.\n",
    "\n",
    "Daher ist die Aufgabe heute, einen Labyrinthgenerator zu entwickeln. Dazu sollst du Prim's Algorithmus implementieren. Wie dieser Algorithmus funktioniert, ist weiter unten in der Aufgabe beschrieben.\n",
    "\n",
    "Zunächst geben wir eine Funktion vor, mit der sich Labyrinthe (als Liste von Listen, die Zellen enthalten) als Bild anzeigen lassen."
   ]
  },
  {
   "cell_type": "code",
   "execution_count": 1,
   "metadata": {
    "collapsed": true
   },
   "outputs": [],
   "source": [
    "# importiere die nötigen Module, um Labyrinthe anzeigen zu können\n",
    "import matplotlib.pyplot as plt\n",
    "import matplotlib.cm as cm\n",
    "import numpy as np\n",
    "\n",
    "# mit dieser Funktion kannst du ein Labyrinth als Bild anzeigen\n",
    "def zeige_labyrinth_an(feld, breite=10, höhe=10):\n",
    "    labyrinth = np.zeros([len(feld), len(feld[0])])\n",
    "    for y in range(len(feld)):\n",
    "        for x in range(len(feld[y])):\n",
    "            if labyrinth[x, y] == 0:\n",
    "                zelle = feld[x][y]\n",
    "                # die verschiedenen Typen von Zellen werden weiter\n",
    "                # unten definiert\n",
    "                if zelle.typ == 'p':\n",
    "                    labyrinth[x, y] = 1.0\n",
    "                if zelle.typ == 'w':\n",
    "                    labyrinth[x, y] = 0.0\n",
    "                if zelle.typ == 's':\n",
    "                    labyrinth[x, y] = 1.0\n",
    "                    labyrinth[x - 1, y] = 0.75\n",
    "                if zelle.typ == 'z':\n",
    "                    labyrinth[x, y] = 1.0\n",
    "                    labyrinth[x + 1, y] = 0.75\n",
    "    \n",
    "    fig = plt.figure(figsize = (breite, höhe)) \n",
    "    ax = fig.add_subplot(111)\n",
    "    ax.imshow(labyrinth, cmap='gray', clim=(0, 1))\n",
    "    ax.axis('off')"
   ]
  },
  {
   "cell_type": "markdown",
   "metadata": {},
   "source": [
    "Zudem geben wir eine Funktion vor, die ein Labyrinth-Feld generiert, bei dem alle Zwischenwände noch \"zugemauert\" sind. Durch geeignetes Entfernen dieser Zwischenwände können wir ein Labyrinth erzeugen. Das ist die Idee von Prim's Algorithmus.\n",
    "\n",
    "Schau dir an wie die Datenstruktur für das Labyrinth implementiert ist.\n",
    "\n",
    "Der Start unserer Labyrinthe ist immer am oberen und das Ziel am unteren Rand."
   ]
  },
  {
   "cell_type": "code",
   "execution_count": 2,
   "metadata": {
    "collapsed": false,
    "scrolled": true
   },
   "outputs": [
    {
     "data": {
      "image/png": "[encoded data removed]",
      "text/plain": [
       "<Figure size 360x360 with 1 Axes>"
      ]
     },
     "metadata": {
      "needs_background": "light"
     },
     "output_type": "display_data"
    }
   ],
   "source": [
    "# importiere das Modul \"random\", da der Start und das Ziel im Labyrinth\n",
    "# zufällig festgelegt werden sollen\n",
    "import random\n",
    "\n",
    "# um die Wände und Wege im Labyrinth darzustellen, verwenden wir Objekte\n",
    "# der folgenden Klassen\n",
    "class Wand():\n",
    "    def __init__(self, x, y):\n",
    "        self.x = x\n",
    "        self.y = y\n",
    "        self.typ = 'w'\n",
    "    def __str__(self):\n",
    "        return self.typ + ': ' + str(self.x) + '|' + str(self.y)\n",
    "\n",
    "class Pfad():\n",
    "    def __init__(self, x, y):\n",
    "        self.x = x\n",
    "        self.y = y\n",
    "        self.ist_in_labyrinth = False\n",
    "        self.typ = 'p'\n",
    "    def __str__(self):\n",
    "        return self.typ + ': ' + str(self.x) + '|' + str(self.y)\n",
    "\n",
    "class Start():\n",
    "    def __init__(self, x, y):\n",
    "        self.x = x\n",
    "        self.y = y\n",
    "        self.ist_in_labyrinth = True\n",
    "        self.typ = 's'\n",
    "    def __str__(self):\n",
    "        return self.typ + ': ' + str(self.x) + '|' + str(self.y)\n",
    "\n",
    "class Ziel():\n",
    "    def __init__(self, x, y):\n",
    "        self.x = x\n",
    "        self.y = y\n",
    "        self.ist_in_labyrinth = False\n",
    "        self.typ = 'z'\n",
    "    def __str__(self):\n",
    "        return self.typ + ': ' + str(self.x) + '|' + str(self.y)\n",
    "\n",
    "# In dieser Funktion wird ein Labyrinth-Feld erzeugt, das einen zufälligen\n",
    "# Startpunkt und ein zufälliges Ziel hat. Der Start ist immer am oberen\n",
    "# und das Ziel am unteren Rand.\n",
    "# Dieses Labyrinth-Feld hat noch keine Wege, da diese erst vom Algorithmus\n",
    "# hinzugefügt werden sollen.\n",
    "def erstelle_feld(größe):\n",
    "    # zu kleine Labyrinthe sind nicht zulässig\n",
    "    größe = max(5, größe)\n",
    "    \n",
    "    # ein Labyrinth muss immer eine ungerade Anzahl an Wegen und Wänden haben,\n",
    "    # da es rundum umrandet ist\n",
    "    if größe % 2 == 0:\n",
    "        größe += 1\n",
    "    \n",
    "    höhe = größe\n",
    "    breite = größe\n",
    "    \n",
    "    # erzeuge das Labyrinth-Feld, gebe auch das Start- und Zielfeld zurück\n",
    "    feld = []\n",
    "    for y in range(höhe):\n",
    "        zeile = []\n",
    "        for x in range(breite):\n",
    "            if x % 2 == 0 or y % 2 == 0:\n",
    "                zeile.append(Wand(x, y))\n",
    "            else:\n",
    "                zeile.append(Pfad(x, y))\n",
    "        feld.append(zeile)\n",
    "    \n",
    "    # setze den Start und das Ziel zufällig fest\n",
    "    start_index = random.randint(0, (breite - 3) / 2) * 2 + 1\n",
    "    ziel_index = random.randint(0, (breite - 3) / 2) * 2 + 1\n",
    "    start = Start(start_index, 1)\n",
    "    ziel = Ziel(ziel_index, höhe - 2)\n",
    "    feld[1][start_index] = start\n",
    "    feld[höhe - 2][ziel_index] = ziel\n",
    "    return feld, start, ziel\n",
    "\n",
    "# erstelle testweise ein Labyrinth und zeige es an\n",
    "feld, start, ziel = erstelle_feld(30)\n",
    "zeige_labyrinth_an(feld, 5, 5)"
   ]
  },
  {
   "cell_type": "markdown",
   "metadata": {},
   "source": [
    "### Prim's Algorithmus\n",
    "\n",
    "Der folgende Pseudocode ist dieser Wikipedia-Seite entnommen (übersetzt und etwas angepasst):\n",
    "\n",
    "https://en.wikipedia.org/wiki/Maze_generation_algorithm#Randomized_Prim's_algorithm\n",
    "\n",
    "Hier kannst du dir auch eine Animation anschauen, wie der Algorithmus arbeitet;\n",
    "\n",
    "https://upload.wikimedia.org/wikipedia/commons/b/b1/MAZE_30x20_Prim.ogv\n",
    "\n",
    "Der Algorithmus funktioniert folgendermaßen:\n",
    "\n",
    "<code>1. erzeuge das Labyrinth-Feld, auf dem alle Zwischenwände noch zugemauert sind</code>  \n",
    "<code>2. finde die Zwischenwände der Start-Zelle und schreibe diese in die Liste der Zwischenwände</code>  \n",
    "<code>3. WHILE die Liste der Zwischenwände ist nicht leer:</code>  \n",
    "<code>    3.1 wähle eine zufällige Zwischenwand aus der Liste der Zwischenwände.</code>  \n",
    "<code>    3.2 WENN nur eine der beiden Nachbar-Pfad-Zellen dieser Zwischenwand Teil des Labyrinths ist:</code>  \n",
    "<code>        3.2.1 entferne die Zwischenwand</code>  \n",
    "<code>        3.2.2 markiere die dadurch neu verbundene Zelle als Teil des Labyrinths</code>  \n",
    "<code>        3.2.3 füge die anderen Zwischenwände der neu verbundenen Zelle zur Liste der Zwischenwände hinzu</code>  \n",
    "<code>    3.3 entferne die zufällige Zwischenwand aus der Liste der Zwischenwände.</code>\n",
    "\n",
    "Diesen Pseudocode sollst du im nächsten Codeblock implementieren.\n",
    "\n",
    "Von Prim's Algorithmus werden Labyrinthe zufällig generiert. Dein Labyrinth sollte in etwa so aussehen (Darstellung verkleinert):\n",
    "\n",
    "<img src=\"http://caeze.bplaced.net/bwki/labyrinth2.png\" alt=\"labyrinth_2\" width=\"300\"/>"
   ]
  },
  {
   "cell_type": "code",
   "execution_count": 3,
   "metadata": {
    "collapsed": false
   },
   "outputs": [
    {
     "data": {
      "image/png": "[encoded data removed]",
      "text/plain": [
       "<Figure size 720x720 with 1 Axes>"
      ]
     },
     "metadata": {
      "needs_background": "light"
     },
     "output_type": "display_data"
    }
   ],
   "source": [
    "# Diese Funktion sucht im Feld nach der Zelle an Position (x, y) und gibt diese zurück.\n",
    "# Wenn die Zelle nicht gefunden wurde, weil (x, y) außerhalb des Felds ist, wird \"None\"\n",
    "# zurückgegeben.\n",
    "def finde_zelle(feld, x, y):\n",
    "    return ...\n",
    "\n",
    "# Diese Funktion gibt alle Wände (schwarz) zurück, die zu der Zelle \"pfad_zelle\" gehören.\n",
    "# Die Zelle \"pfad_zelle\" muss ein Pfad sein (weiß)!\n",
    "def finde_wände_des_pfads(feld, pfad_zelle):\n",
    "    x = pfad_zelle.x\n",
    "    y = pfad_zelle.y\n",
    "    return ...\n",
    "\n",
    "# Diese Funktion gibt die zwei Pfad-Zellen (weiß) auf den beiden Seiten einer Zwischenwand (schwarz) zurück.\n",
    "# Eine Zwischenwand-Zelle hat immer nur maximal zwei Pfad-Zellen als Nachbarn!\n",
    "def finde_pfade_der_wand(feld, wand_zelle):\n",
    "    x = wand_zelle.x\n",
    "    y = wand_zelle.y\n",
    "    return ...\n",
    "\n",
    "# In dieser Funktion wird das Labyrinth erstellt.\n",
    "# Dazu sollst du Prim's Algorithmus implementieren.\n",
    "def prims_algorithmus(größe):\n",
    "    feld, start, ziel = erstelle_feld(größe)\n",
    "    wände = finde_wände_des_pfads(feld, start)\n",
    "    while len(wände) != 0:\n",
    "        ...\n",
    "    return feld\n",
    "\n",
    "labyrinth = prims_algorithmus(100)\n",
    "zeige_labyrinth_an(labyrinth)"
   ]
  },
  {
   "cell_type": "markdown",
   "metadata": {},
   "source": [
    "Wunderbar! Nun haben wir endlos viele Testmöglichkeiten für die Aufgabe der nächsten Woche. In dieser Aufgabe werden wir Graphen aus den Labyrinthen machen und dann den Weg vom Start zum Ziel suchen."
   ]
  },
  {
   "cell_type": "markdown",
   "metadata": {},
   "source": [
    "## Feedback für uns (freiwillig)\n",
    "War diese Aufgabe zu leicht, zu schwer oder genau richtig?\n",
    "\n",
    "Wie lang hast du für diese Aufgabe ungefähr gebraucht?\n",
    "\n",
    "Welche Art von Aufgaben wünschst du dir in Zukunft?"
   ]
  }
 ],
 "metadata": {
  "anaconda-cloud": {},
  "kernelspec": {
   "display_name": "Python [conda env:bwki_env]",
   "language": "python",
   "name": "conda-env-bwki_env-py"
  },
  "language_info": {
   "codemirror_mode": {
    "name": "ipython",
    "version": 3
   },
   "file_extension": ".py",
   "mimetype": "text/x-python",
   "name": "python",
   "nbconvert_exporter": "python",
   "pygments_lexer": "ipython3",
   "version": "3.8.2"
  }
 },
 "nbformat": 4,
 "nbformat_minor": 1
}
