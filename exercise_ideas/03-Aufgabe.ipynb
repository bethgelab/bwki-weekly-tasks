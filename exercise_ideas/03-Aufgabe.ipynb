{
 "cells": [
  {
   "cell_type": "markdown",
   "metadata": {},
   "source": [
    "## April Woche 3: Würfel"
   ]
  },
  {
   "cell_type": "markdown",
   "metadata": {},
   "source": [
    "Willkommen zu unserer Aufgabe der Woche!\n",
    "\n",
    "Der Bundeswettbewerb Künstliche Intelligenz stellt euch jede Woche eine spannende oder kniffelige Programmieraufgabe, in der ihr euer Programmiergeschick auf die Probe stellen könnt.\n",
    "\n",
    "Jede Woche habt ihr die Chance auf einen von zwei Amazon-Gutscheinen im Wert von 25€! Wer jede Aufgabe in einem Monat einschickt, nimmt in der Monatsverlosung teil und kann einen 50€-Amazon-Gutschein gewinnen! Ihr könnt eure Lösung immer bis Sonntag 22 Uhr der gleichen Woche per Mail an aufgabe-der-woche@bw-ki.de einreichen.\n",
    "\n",
    "Bitte lade dazu das Notebook unter \"File/Download as/Notebook (.ipynb)\" runter. Verändere den Namen der Datei nicht und vergess nicht im ersten Feld dein Name und E-Mailadresse anzugeben.\n",
    "\n",
    "Es werden nur korrekte Lösungen berücksichtigt. Voraussetzung für die Teilnahme ist die Registrierung eures vollständigen Accounts im Loginbereich des Bundeswettbewerbs Künstliche Intelligenz. Es gelten die Teilnahmebedingungen (https://bw-ki.de/teilnahmebedingungen/ und Datenschuztrichtlinien (https://bw-ki.de/datenschutz/) des Wettbewerbs."
   ]
  },
  {
   "cell_type": "markdown",
   "metadata": {},
   "source": [
    "Dein vollständiger Name:\n",
    "\n",
    "Deine E-Mailadresse:"
   ]
  },
  {
   "cell_type": "markdown",
   "metadata": {},
   "source": [
    "## Die Würfel sind gefallen!"
   ]
  },
  {
   "cell_type": "markdown",
   "metadata": {},
   "source": [
    "Die Aufgabe dieser Woche ist es, eine Würfelsimulation zu entwickeln. Oben zeigt der Würfel ein bis sechs Augen an, die den Wert des Wurfs angeben. Von schräg oben kann man jedoch drei Flächen des Würfels sehen, auf denen auch Augen sichtbar sind. Allerdings sind das, je nach dem wie der Würfel gefallen ist, nicht immer die selben Flächen.\n",
    "\n",
    "Die Würfelsimulation soll folgende Anforderungen erfüllen:\n",
    "* der Würfel soll zufällig generierte Augenzahlen anzeigen\n",
    "* auch die seitlichen Flächen sollen zufällige Augenzahlen anzeigen\n",
    "* alle Flächen des Würfels sollen korrekt und plausibel angezeigt werden, genau so wie sich ein echter Würfel verhält \n",
    "\n",
    "Du kannst mit einem echten Würfel testen, welche Flächen bei welchen Augenzahlen sichtbar sind.\n",
    "\n",
    "Du musst den folgenden Code bei \"...\" erweitern."
   ]
  },
  {
   "cell_type": "code",
   "execution_count": null,
   "metadata": {},
   "outputs": [],
   "source": [
    "# Würfel ASCII Art Rohling\n",
    "\n",
    "def get_die_template():\n",
    "    return \"\"\"\n",
    "                       ######\n",
    "                   ###        ##\n",
    "               ####      333     ##\n",
    "            ###          333       ##\n",
    "        ###     222                  ###\n",
    "     ###        222             666     ###\n",
    "  ##                            666       ##\n",
    " ##     111                                 ###\n",
    " ####   111            555              999   ##\n",
    " ##  ##                555              999     ##\n",
    " ##    ##     444                            #####\n",
    " ## aa   ##   444              888       ###    ##\n",
    " ##        ##                  888    ###   ll  ##\n",
    " ##          ##                    ###          ##\n",
    " ## dd         ##     777       ###             ##\n",
    " ##        bb    ##   777    ###    kk          ##\n",
    " ##                ##     ###               oo  ##\n",
    " ##                  ####                       ##\n",
    " ## gg     ee     cc  ##  jj                    ##\n",
    "  ##                  ##            nn      rr  ##\n",
    "    ##                ##                        ##\n",
    "      ##   hh         ##                     ###\n",
    "        ##        ff  ##  mm        qq    ###\n",
    "          ##          ##              ###\n",
    "            ##        ##           ###\n",
    "              ##  ii  ##  pp    ###\n",
    "                ##    ##     ###\n",
    "                  ##  ##  ###\n",
    "                    ######\"\"\""
   ]
  },
  {
   "cell_type": "markdown",
   "metadata": {},
   "source": [
    "Mit diesem Rohling hast du alles was du brauchst, um einen simulierten Würfel zu fräsen. Aber achte darauf, dass der Würfel fair ist; Falschspielen ist nicht erlaubt!"
   ]
  },
  {
   "cell_type": "code",
   "execution_count": null,
   "metadata": {
    "scrolled": false
   },
   "outputs": [],
   "source": [
    "# Augen oben auf dem Würfel\n",
    "\n",
    "# In dieser Funktion sollen die Augen oben auf dem Würfel abhängig von der Augenzahl\n",
    "# richtig dargestellt werden. Schwarze ('ausgefüllte') Augen kannst du mit dem Buchstaben\n",
    "# 'X' darstellen, weiße Augen mit Leerzeichen.\n",
    "\n",
    "# Du kannst dazu string-Operationen verwenden (z. B. 'replace()').\n",
    "\n",
    "def fill_die_top(number_top):\n",
    "    die = get_die_template()\n",
    "    return ...\n",
    "\n",
    "# überprüfe deine Funktion\n",
    "print(fill_die_top(1))\n",
    "print(fill_die_top(4))"
   ]
  },
  {
   "cell_type": "markdown",
   "metadata": {},
   "source": [
    "Im Prinzip ist der Würfel nun schon funktional, aber die Darstellung kann noch verbessert werden."
   ]
  },
  {
   "cell_type": "code",
   "execution_count": null,
   "metadata": {},
   "outputs": [],
   "source": [
    "# Augen an den Seiten des Würfels\n",
    "\n",
    "# In dieser Funktion sollen nun zusätzlich die Augen an den Seiten des Würfels\n",
    "# abhängig von der Augenzahl oben richtig dargestellt werden.\n",
    "# Schwarze ('ausgefüllte') Augen kannst du mit dem Buchstaben # 'X' darstellen,\n",
    "# weiße Augen mit Leerzeichen.\n",
    "\n",
    "# Du kannst dazu string-Operationen verwenden (z. B. 'replace()').\n",
    "\n",
    "# Implementiere außerdem, dass die Funktion als Eingabewerte nur Ganzzahlen\n",
    "# von einschließlich 1 bis 6 akzeptiert.\n",
    "\n",
    "def create_die(number_top):\n",
    "    die_with_top_filled = fill_die_top(number_top)\n",
    "    return ...\n",
    "\n",
    "# überprüfe deine Funktion\n",
    "print(create_die(2))\n",
    "print(create_die(6))"
   ]
  },
  {
   "cell_type": "markdown",
   "metadata": {},
   "source": [
    "Das Wort 'Pasch' entstammt dem Französischen und ist von 'passe-dix' abgeleitet. Wörtlich bedeutet das 'überschreite zehn'. Nun soll es möglich sein, dass zwei Würfel unabhängig voneinander geworfen werden und diese nebeneinander dargestellt werden."
   ]
  },
  {
   "cell_type": "code",
   "execution_count": null,
   "metadata": {},
   "outputs": [],
   "source": [
    "# Zwei Würfel nebeneinander\n",
    "\n",
    "# In der Funktion werden zwei Zufallszahlen zwischen 1 und 6 generiert und damit\n",
    "# die Zeichenketten von zwei Würfeln mit den bereits implementierten Funktionen erzeugt.\n",
    "\n",
    "# Dann werden die beiden Zeichenketten so kombiniert, dass die Würfel nebeneinander angezeigt werden,\n",
    "# ohne dass die Würfel verzerrt oder falsch angezeigt werden.\n",
    "\n",
    "def two_dice_besides_each_other():\n",
    "    random_number_die_1 = ...\n",
    "    random_number_die_2 = ...\n",
    "    die_1 = create_die(random_number_die_1)\n",
    "    die_2 = create_die(random_number_die_2)\n",
    "    \n",
    "    return ...\n",
    "    \n",
    "# überprüfe deine Funktion\n",
    "print(two_dice_besides_each_other())"
   ]
  },
  {
   "cell_type": "markdown",
   "metadata": {},
   "source": [
    "Super! Jetzt brauchst du nicht immer einen Würfel mitzunehmen, sondern kannst diese Simulation verwenden!"
   ]
  },
  {
   "cell_type": "markdown",
   "metadata": {},
   "source": [
    "## Feedback für uns (freiwillig)\n",
    "War diese Aufgabe zu leicht, zu schwer oder genau richtig?\n",
    "\n",
    "Wie lang hast du für diese Aufgabe ungefähr gebraucht?\n",
    "\n",
    "Welche Art von Aufgaben wünschst du dir in Zukunft?"
   ]
  }
 ],
 "metadata": {
  "kernelspec": {
   "display_name": "Python 3",
   "language": "python",
   "name": "python3"
  },
  "language_info": {
   "codemirror_mode": {
    "name": "ipython",
    "version": 3
   },
   "file_extension": ".py",
   "mimetype": "text/x-python",
   "name": "python",
   "nbconvert_exporter": "python",
   "pygments_lexer": "ipython3",
   "version": "3.7.5"
  }
 },
 "nbformat": 4,
 "nbformat_minor": 2
}
