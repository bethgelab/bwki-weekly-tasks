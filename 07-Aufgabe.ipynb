{
 "cells": [
  {
   "cell_type": "markdown",
   "metadata": {},
   "source": [
    "# Aufgabe 7: Chatten mit der KI"
   ]
  },
  {
   "cell_type": "markdown",
   "metadata": {},
   "source": [
    "Willkommen zu unserer Aufgabe der Woche!\n",
    "\n",
    "Der Bundeswettbewerb Künstliche Intelligenz stellt euch jede Woche eine spannende oder kniffelige Programmieraufgabe, in der ihr euer Programmiergeschick auf die Probe stellen könnt.\n",
    "\n",
    "Jede Woche habt ihr die Chance auf einen von zwei Amazon-Gutscheinen im Wert von 25€! Wer jede Aufgabe in einem Monat einschickt, nimmt in der Monatsverlosung teil und kann einen 50€-Amazon-Gutschein gewinnen! Ihr könnt eure Lösung immer bis Sonntag 22 Uhr der gleichen Woche per Mail an **aufgabe-der-woche@bw-ki.de** einreichen.\n",
    "\n",
    "Bitte lade dazu das Notebook unter \"File/Download as/Notebook (.ipynb)\" runter. Verändere den Namen der Datei nicht und **vergiss nicht im ersten Feld deinen Namen und deine E-Mailadresse anzugeben**.\n",
    "\n",
    "Es werden nur korrekte Lösungen berücksichtigt. Voraussetzung für die Teilnahme ist die Registrierung eures vollständigen Accounts im Loginbereich des Bundeswettbewerbs Künstliche Intelligenz. Es gelten die Teilnahmebedingungen (https://bw-ki.de/teilnahmebedingungen/ und Datenschuztrichtlinien (https://bw-ki.de/datenschutz/) des Wettbewerbs.\n",
    "\n",
    "Wir freuen uns auch immer über **Feedback** von euch (siehe ganz unten)!\n"
   ]
  },
  {
   "cell_type": "markdown",
   "metadata": {},
   "source": [
    "\n",
    "Dein vollständiger Name:\n",
    "\n",
    "Deine E-Mailadresse:"
   ]
  },
  {
   "cell_type": "markdown",
   "metadata": {},
   "source": [
    "### Unterhalten mit dem Roboter\n",
    "\n",
    "Mit Freunden chatten, am Smartphone oder am Computer, das ist doch ganz normal. \n",
    "Aber mit dem Computer chatten auch?\n",
    "Bei vielen Smartphones kannst du heute schon einfach nach dem Wetter fragen - oder nach der Höhe des Eiffelturms. Du kannst es auch bitten, den Abgabetermin der Aufgabe der Woche in den Kalender einzutragen. \n",
    "Dabei redest du nicht mit einem Freund oder einem Mensch - sondern mit einer KI. \n",
    "Diese Woche bauen wir unsere eigene KI zum unterhalten, den Chatbot. Wie intelligent die Antworten des Chatbot sind? Das hängt (auch) an dir!\n",
    "\n",
    "Übrigens: Das Wort *Chatbot* setzt sich aus den englischen Wörtern für *Unterhaltung* (*chat*) und *Roboter* (*robot*) zusammen.\n",
    "\n",
    "\n",
    "\n"
   ]
  },
  {
   "cell_type": "markdown",
   "metadata": {},
   "source": [
    "### 'Hello Robot'\n",
    "\n",
    "Unser Chatbot soll verschiedene Befehle verstehen und darauf antworten. Jeder dieser Befehle ist nachher eine Instanz von *BotFunktion*. Jede *BotFunktion* kennt einige Schlüsselwörter und Antwortmöglichkeiten. \n",
    "Ist ein Schlüsselwort im Eingabesatz, so wird eine zufällige Antwort zurückgegeben, ansonsten `None`.\n",
    "Ignoriere Groß-/Kleinschreibung wenn du das Schlüsselwort überprüfst."
   ]
  },
  {
   "cell_type": "code",
   "execution_count": null,
   "metadata": {
    "collapsed": false
   },
   "outputs": [],
   "source": [
    "# Das hier hilft dir vielleicht bei deiner Aufgabe:\n",
    "import random\n",
    "\n",
    "if 'im' in 'Mitten im Satz':\n",
    "    print(\"Das Wort 'im' ist in 'Drinnen im Satz'\")\n",
    "    \n",
    "print('DaS sInD kLeInE bUcHsTaBeN'.lower())\n",
    "\n",
    "print(random.choice(['Eins', 'Zwei', 'Drei']))\n",
    "print(random.choice(['Eins', 'Zwei', 'Drei']))\n",
    "print(random.choice(['Eins', 'Zwei', 'Drei']))"
   ]
  },
  {
   "cell_type": "code",
   "execution_count": null,
   "metadata": {
    "collapsed": false
   },
   "outputs": [],
   "source": [
    "import random\n",
    "\n",
    "\n",
    "class BotFunktion:\n",
    "    def __init__(self, schluesselwoerter, antworten):\n",
    "        self.schluesselwoerter = schluesselwoerter\n",
    "        self.antworten = antworten\n",
    "\n",
    "    def antworte(self, eingabe):\n",
    "        ...  # HIER DEIN CODE \n",
    "\n",
    "        return None\n",
    "\n",
    "\n",
    "\n",
    "\n",
    "einfache_begruessung = BotFunktion(['Hallo'], ['Guten Tag!'])\n",
    "print(einfache_begruessung.antworte('Hallo!'))  # 'Guten Tag!'\n",
    "print(einfache_begruessung.antworte('Hallihallo!'))  # 'Guten Tag!'\n",
    "print(einfache_begruessung.antworte('Tschüss!'))  # None\n",
    "\n",
    "bessere_begruessung = BotFunktion(['Hallo', 'Hi'], ['Guten Tag!', 'Tagchen!'])\n",
    "print(bessere_begruessung.antworte('Hi ;)'))  # Entweder 'Guten Tag!' oder 'Tagchen!'"
   ]
  },
  {
   "cell_type": "markdown",
   "metadata": {},
   "source": [
    "### 'Hallo', 'Tschüss' und 'Wie bitte?'\n",
    "\n",
    "Super! Jetzt kannst du einige Funktionen bauen zu Begrüßung und Verabschiedung. \n",
    "Dazu noch eine *nicht_verstanden* Funktion, die bei beliebiger Eingabe antwortet, dass sie es nicht verstanden hat."
   ]
  },
  {
   "cell_type": "code",
   "execution_count": null,
   "metadata": {
    "collapsed": true
   },
   "outputs": [],
   "source": [
    "begruessung = BotFunktion(..., ...)\n",
    "verabschiedung = BotFunktion(..., ...)\n",
    "nicht_verstanden = BotFunktion(..., ...)"
   ]
  },
  {
   "cell_type": "markdown",
   "metadata": {},
   "source": [
    "### Das Ganze ist mehr als seine Teile\n",
    "\n",
    "Wenn wir die Funktionen richtig zusammensetzen, haben wir schon einen einfachen Chatbot. Der kann uns begrüßen, sich verabschieden und uns sagen, falls er etwas nicht versteht."
   ]
  },
  {
   "cell_type": "code",
   "execution_count": null,
   "metadata": {
    "collapsed": false
   },
   "outputs": [],
   "source": [
    "class Chatbot:\n",
    "    def __init__(self, name, funktionen, abschied):\n",
    "        self.name = name\n",
    "        self.funktionen = funktionen\n",
    "        self.abschied = abschied\n",
    "        self.soll_beenden = False\n",
    "\n",
    "    def antworte(self, eingabe_satz):\n",
    "        # Überprüfe mit der BotFunktion self.abschied, ob 'eingabe_satz' eine Verabschiedung ist.\n",
    "        # Vergiss dann nicht, 'self.soll_beenden = True' zu setzen, damit der Chat sich beendet.\n",
    "        ...\n",
    "\n",
    "        \n",
    "        # Überprüfe, ob eine der anderen BotFunktionen passend ist.\n",
    "        ...\n",
    "\n",
    "        return 'FEHLER'\n",
    "            \n",
    "    def chatte(self, name_mensch):\n",
    "        self.soll_beenden = False\n",
    "        while not self.soll_beenden:\n",
    "            eingabe_satz = input(f\"{name_mensch}: \")\n",
    "            antwort_satz = self.antworte(eingabe_satz)\n",
    "            print(f\"{self.name}Bot: {antwort_satz}\")\n",
    "\n",
    "\n",
    "bot = Chatbot('Kim', [begruessung, nicht_verstanden], verabschiedung)\n",
    "\n",
    "print(bot.antworte('Hallo!'))  # Begrüßung \n",
    "print(bot.soll_beenden)  # False\n",
    "print(bot.antworte('bliblablu'))  # Nicht verstanden\n",
    "print(bot.soll_beenden)  # False\n",
    "print(bot.antworte('Tschüss!'))  # Verabschiedung \n",
    "print(bot.soll_beenden)  # True"
   ]
  },
  {
   "cell_type": "markdown",
   "metadata": {},
   "source": [
    "### 1, 2, 3 Chat!\n",
    "\n",
    "Jetzt kannst du endlich mit deinem Bot chatten!\n",
    "\n",
    "Falls dein Chatbot sich nach der Verabschiedung nicht beendet, kannst du die Ausführung mit dem schwarzen Quadrat $\\blacksquare$ in der Symbolleiste des Notebooks abbrechen."
   ]
  },
  {
   "cell_type": "code",
   "execution_count": null,
   "metadata": {
    "collapsed": false
   },
   "outputs": [],
   "source": [
    "bot.chatte('Mensch')"
   ]
  },
  {
   "cell_type": "markdown",
   "metadata": {},
   "source": [
    "## Zusatzaufgabe:\n",
    "Diese Aufgabe ist nicht relevant für das Gewinnspiel.\n",
    "\n",
    "Verbessere deinen Chatbot, so wie du willst, indem du zusätzliche *BotFunktionen* einbaust. \n",
    "\n",
    "Der Chatbot könnte zum Beispiel einen Witz erzählen, fragen wie es dir geht - und angemessen antworten, oder vieles mehr. "
   ]
  },
  {
   "cell_type": "markdown",
   "metadata": {},
   "source": [
    "## Feedback für uns (freiwillig)\n",
    "War diese Aufgabe zu leicht, zu schwer oder genau richtig?\n",
    "\n",
    "Wie lang hast du für diese Aufgabe ungefähr gebraucht?\n",
    "\n",
    "Welche Art von Aufgaben wünschst du dir in Zukunft?\n",
    "\n",
    "\n"
   ]
  }
 ],
 "metadata": {
  "anaconda-cloud": {},
  "kernelspec": {
   "display_name": "Python [conda env:bwki_env]",
   "language": "python",
   "name": "conda-env-bwki_env-py"
  },
  "language_info": {
   "codemirror_mode": {
    "name": "ipython",
    "version": 3
   },
   "file_extension": ".py",
   "mimetype": "text/x-python",
   "name": "python",
   "nbconvert_exporter": "python",
   "pygments_lexer": "ipython3",
   "version": "3.8.2"
  }
 },
 "nbformat": 4,
 "nbformat_minor": 2
}
