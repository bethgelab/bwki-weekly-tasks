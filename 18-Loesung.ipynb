{
 "cells": [
  {
   "cell_type": "markdown",
   "metadata": {},
   "source": [
    "# **Luhn-Algorithmus**\n",
    "### **- Lösung -**"
   ]
  },
  {
   "cell_type": "markdown",
   "metadata": {},
   "source": [
    "### In dieser Aufgabe sollen Kreditkartennummern mithilfe des Luhn-Algorithmus auf ihre Gültigkeit geprüft werden."
   ]
  },
  {
   "cell_type": "markdown",
   "metadata": {},
   "source": [
    "Der deutsch-amerikanischen Informatiker Hans Peter Luhn, entwickelte in den 1950er Jahren\n",
    "den Luhn Algorithmus. Heute ist er eine verbreitete Methode zur Verifizierung von Kreditkartennummern, Sozialversicherungsnummern und vielem mehr."
   ]
  },
  {
   "cell_type": "markdown",
   "metadata": {},
   "source": [
    "Der Luhn-Algorithmus erkennt jeden Fehler an einzelnen Ziffern, ebenso in den meisten Fällen Vertauschungen von benachbarten Ziffern und ist daher sehr gut geeignet um Tippfehler beim Übermitteln von Zahlen zu erkennen. So kann zum Beispiel bei der Eingabe einer Kreditkartennummer direkt festgestellt werden, ob es einen Typo gibt.\n",
    "Der Luhn-Algorithmus verhindert also in diesem Fall, dass du Geld an ein nicht existierendes Konto sendest. Dies ist möglich durch das Anhängen einer Prüfstelle an die eigentliche Nummer um eine neue Nummer zu generieren, wird nun in dieser neuen Nummer ein Typo gemacht, passt die Prüfstelle nicht mehr zur Nummer."
   ]
  },
  {
   "cell_type": "markdown",
   "metadata": {},
   "source": [
    "Beschreibung des Luhn-Algorithmus:\n",
    "- 1. Die ganz rechte Ziffer der Kreditkartennummer wird entfernt \n",
    "- 2. Mit der rechten Ziffer der Nummer aus 1. beginnend wird jede zweite Ziffer der verdoppelt \n",
    "- 3. Ersetze die Ergebnisse von Schritt 2 jeweils mit ihrer Quersumme\n",
    "- 4. Bilde die Summe aller entstandenen Ziffern\n",
    "- 5. Wenn die in Schritt 1 entfernte Ziffer gleich (10 - (Summe modulo 10)) ist, ist der Luhn-Check bestanden"
   ]
  },
  {
   "cell_type": "markdown",
   "metadata": {},
   "source": [
    "Beispiel:\n",
    "- 5701351420038927 -> True, der Test wird bestanden und es handelt sich um eine gültige Nummer\n",
    "- 5701351420038922 -> False, der Test wird nicht bestanden und die Nummer ist nicht gültig"
   ]
  },
  {
   "cell_type": "code",
   "execution_count": 4,
   "metadata": {},
   "outputs": [],
   "source": [
    "# Implementiere hier die Funktion, die eine Zahl als Eingabe\n",
    "# bekommt und True ausgibt, wenn der Luhn Algorithmus diese Zahl als gültig akzeptiert\n",
    "\n",
    "def luhnCheck(number:int) -> bool:\n",
    "    sum = 0\n",
    "    # Eingabenummer in String Umwandeln um sie leichter auf zu teilen\n",
    "    num_string = str(number)\n",
    "    # ganz rechte Ziffer abtrennen\n",
    "    checkBit = int(num_string[-1])\n",
    "    num_string = num_string[:-1]\n",
    "\n",
    "    # mithilfe von enumerate und reversed von rechts durch den String loopen\n",
    "    # i ist dabei der index der aktuellen Ziffer\n",
    "    for i, digit in enumerate(int(x) for x in reversed(num_string)):\n",
    "        # i % 2 == 0, dann müssen wir die Ziffer verdoppeln und die Quersumme bilden\n",
    "        if i % 2 == 0:\n",
    "            digit *= 2\n",
    "            # anstatt die beiden Ziffern zu addieren kann man auch einfach im Fall >9 Neun abziehen\n",
    "            if digit > 9:\n",
    "                digit -= 9\n",
    "            sum += digit\n",
    "        else:\n",
    "            sum += digit\n",
    "\n",
    "    # letzer Schritt des Luhn Algorithmus\n",
    "    return 10-(sum%10) == checkBit\n",
    "    "
   ]
  },
  {
   "cell_type": "markdown",
   "metadata": {},
   "source": [
    "Alternativ sind natürlich auch deutlich kürzere - aber evtl. unverständlichere - Lösungen möglich:"
   ]
  },
  {
   "cell_type": "code",
   "execution_count": 6,
   "metadata": {},
   "outputs": [],
   "source": [
    "def luhnCheckAlt(number:int)-> bool:\n",
    "    digits = list(map(int, str(number)))\n",
    "    return 0 == sum(digits + [ d + (d > 4) for d in digits[-2::-2] ]) % 10"
   ]
  },
  {
   "cell_type": "code",
   "execution_count": null,
   "metadata": {},
   "outputs": [],
   "source": []
  }
 ],
 "metadata": {
  "kernelspec": {
   "display_name": "Python 3",
   "language": "python",
   "name": "python3"
  },
  "language_info": {
   "codemirror_mode": {
    "name": "ipython",
    "version": 3
   },
   "file_extension": ".py",
   "mimetype": "text/x-python",
   "name": "python",
   "nbconvert_exporter": "python",
   "pygments_lexer": "ipython3",
   "version": "3.6.9"
  }
 },
 "nbformat": 4,
 "nbformat_minor": 4
}
