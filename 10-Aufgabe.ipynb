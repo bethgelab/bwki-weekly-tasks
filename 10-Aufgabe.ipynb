{
 "cells": [
  {
   "cell_type": "markdown",
   "metadata": {},
   "source": [
    "# Aufgabe 10: Die KI, die lernt dich zu verstehen."
   ]
  },
  {
   "cell_type": "markdown",
   "metadata": {},
   "source": [
    "Willkommen zu unserer Aufgabe der Woche!\n",
    "\n",
    "Der Bundeswettbewerb Künstliche Intelligenz stellt euch jede Woche eine spannende oder kniffelige Programmieraufgabe, in der ihr euer Programmiergeschick auf die Probe stellen könnt.\n",
    "\n",
    "Jede Woche habt ihr die Chance auf einen Amazon-Gutschein im Wert von 25€! Wer jede Aufgabe in einem Monat einschickt, nimmt in der Monatsverlosung teil und kann einen 50€-Amazon-Gutschein gewinnen! Ihr könnt eure Lösung immer bis Sonntag 22 Uhr der gleichen Woche per Mail an **aufgabe-der-woche@bw-ki.de** einreichen.\n",
    "\n",
    "Bitte lade dazu das Notebook unter \"File/Download as/Notebook (.ipynb)\" runter. Verändere den Namen der Datei nicht und **vergiss nicht im ersten Feld deinen Namen und deine E-Mailadresse anzugeben**.\n",
    "\n",
    "Es werden nur korrekte Lösungen berücksichtigt. Voraussetzung für die Teilnahme ist die Registrierung eures vollständigen Accounts im Loginbereich des Bundeswettbewerbs Künstliche Intelligenz. Es gelten die Teilnahmebedingungen (https://bw-ki.de/teilnahmebedingungen/) und Datenschuztrichtlinien (https://bw-ki.de/datenschutz/) des Wettbewerbs.\n",
    "\n",
    "Wir freuen uns auch immer über **Feedback** von euch (siehe ganz unten)!\n"
   ]
  },
  {
   "cell_type": "markdown",
   "metadata": {},
   "source": [
    "\n",
    "Dein vollständiger Name:\n",
    "\n",
    "Deine E-Mailadresse:"
   ]
  },
  {
   "cell_type": "markdown",
   "metadata": {},
   "source": [
    "### Lernen und verstehen\n",
    "\n",
    "Etwas neues zu lernen ist für uns Menschen oft ganz einfach und wir machen es jeden Tag.\n",
    "Möchtest du endlich lernen zu unterscheiden, ob ein Hund ein\n",
    " [Yorkshire Terrier](https://www.ecosia.org/images?q=yorkshire+terrier) oder eher ein\n",
    " [Jack Russel Terrier](https://www.ecosia.org/images?q=jack+russel+terrier) ist,\n",
    "kannst du dir einfach *Beispielbilder* beider Rassen im Internet anschauen.\n",
    "Nach etwas Übung erkennst du vermutlich auch einen Yorkshire Terrier beim Spazierengehen,\n",
    "obwohl genau dieser Hund auf keinem der Bilder war.\n",
    "\n",
    "Neue KIs zu entwickeln, die von *Beispielen* etwas lernen, damit beschäftigen sich Forscher im Bereich\n",
    "des *Maschinellen Lernens*. Falls du mehr über Maschinelles Lernen lernen möchtest,\n",
    "kannst du dir dazu eine [Youtube-Vorlesung](https://www.youtube.com/watch?v=4QsZkPhNA-A) der\n",
    "Tübinger Professorin Ulrike von Luxburg anschauen (nicht notwendig zur Lösung der Aufgabe der Woche).\n",
    "\n",
    "\n",
    "### Von Sätzen lernen \n",
    "Falls du eine E-Mailadresse hast, bist du so einer lernenden KI schon begegnet - vermutlich ohne es zu merken.\n",
    "Fast jedes E-Mailkonto hat einen *Spamfilter* integriert, der erkennt ob es etwas eine normale E-Mail oder nervige\n",
    "Werbemail (Spam) ist. Die Werbemails werden dann für dich automatisch markiert oder direkt gelöscht.\n",
    "Der Spamfilter verwendet Methoden aus dem Maschinellen Lernen und lernt dazu,\n",
    "wenn du eine E-Mail als Spam markierst oder seine Markierung korrigierst.\n",
    "\n",
    "In dieser Aufgabe der Woche sollst du selbst ein lernendes Programm schreiben.\n",
    "Dem Programm sollst du mit einem Satz beschreiben können, wie du einen Film fandest, und es soll erkennen\n",
    "ob es wohl ein guter oder ein schlechter Film war.\n",
    "Einen guten Film beschreibt man mit anderen Wörtern, als einen schlechten Film: `toll, super, spitze, …`\n",
    "anstatt `langweilig, furchtbar, schrecklich, …`.\n",
    "Deshalb vergleicht dein Programm ob die Wörter aus deinem Satz häufiger in Beispielsätzen vorkommen\n",
    "die einen guten Film beschreiben, oder häufiger in Beispielsätzen die einen schlechten Film beschreiben.\n",
    "Ganz nebenbei lernst du dabei, wie man in Python *Texte bearbeitet* und wie man *Wörterbücher* verwendet.\n",
    "\n",
    "Wir haben einige Beispielsätze vorbereitet, **füge noch welche hinzu**:"
   ]
  },
  {
   "cell_type": "code",
   "execution_count": null,
   "metadata": {
    "collapsed": true,
    "pycharm": {
     "name": "#%%\n"
    }
   },
   "outputs": [],
   "source": [
    "# Sätze, die einen guten Film beschreiben\n",
    "gut_saetze = [\n",
    "    'Toller Film! Krasse Schauspieler, klasse Kamera.',\n",
    "    'Fantastische Schauspieler und viel Action :)',\n",
    "    'Wunderbare Vorstellung. Einfach klasse Stimmung.',\n",
    "    'Toll, toller, dieser Film.',\n",
    "    'Der beste Film, den ich seit langem gesehen habe!',\n",
    "    'Einfach eine super Sache!',\n",
    "    # DEINE SAETZE HIER\n",
    "]\n",
    "\n",
    "# Sätze, die einen schlechten Film beschreiben\n",
    "schlecht_saetze = [\n",
    "    'Furchtbar. Einfach nur schlecht.',\n",
    "    'Katastrophal. Einfach katastrophal schlecht.',\n",
    "    'Schlechtester Film, den ich seit langem gesehen habe.',\n",
    "    'Das sollen Schauspieler sein? Amateure!',\n",
    "    'Langweiligste Vorstellung die ich seit langem gesehen habe.',\n",
    "    'Und das soll ein Film sein? Das war einfach mies!',\n",
    "    # DEINE SAETZE HIER\n",
    "]\n",
    "\n",
    "alle_saetze = gut_saetze + schlecht_saetze"
   ]
  },
  {
   "cell_type": "markdown",
   "metadata": {},
   "source": [
    "### Wörter putzen und zählen\n",
    "\n",
    "Die Sätze oben werden in Python Zeichenketten (Englisch: string) genannt.\n",
    "Darin die Wörter zu zählen ist vermutlich einfach für dich, aber schwierig für einen Computer.\n",
    "Python kennt nur einzelne Zeichen, weiß aber nicht was ein Wort ist.\n",
    "Deshalb müssen wir die Sätze etwas vorbereiten und \"putzen\".\n",
    "Was das heißt, wird gleich erklärt.\n",
    "\n",
    "Zuerst versuche zu verstehen, wie man Zeichenketten mit `.lower`, `.replace` und `.split` ändern kann.\n",
    "Das wird dir für diese Aufgabe weiterhelfen."
   ]
  },
  {
   "cell_type": "code",
   "execution_count": null,
   "metadata": {
    "collapsed": true,
    "pycharm": {
     "name": "#%%\n"
    }
   },
   "outputs": [],
   "source": [
    "print('EiN kLeInEr SaTz'.lower())\n",
    "print('1E1i1n1 1s1a1u1b1e1r1e1r1 1S1a1t1z1'.replace('1', ''))\n",
    "print('Ein#Wort#steht#selten#allein'.split('#'))\n"
   ]
  },
  {
   "cell_type": "markdown",
   "metadata": {
    "pycharm": {
     "name": "#%% md\n"
    }
   },
   "source": [
    "Um Wörter zu erkennen ist uns egal, ob ein Wort groß oder klein geschrieben wird.\n",
    "Auch Satzzeichen können wir ignorieren.\n",
    "Vervollständige die Funktion `reinige_saetze`,\n",
    " sodass die übergebenen Sätze in Kleinschreibung und ohne die Satzzeichen `.,!?:()` zurückgegeben werden."
   ]
  },
  {
   "cell_type": "code",
   "execution_count": null,
   "metadata": {
    "collapsed": true,
    "pycharm": {
     "name": "#%%\n"
    }
   },
   "outputs": [],
   "source": [
    "satzzeichen = ...  # HIER DIE SATZZEICHEN\n",
    "\n",
    "\n",
    "def reinige_saetze(saetze):\n",
    "    saubere_saetze = []\n",
    "    \n",
    "    # HIER DEIN CODE \n",
    "    ... \n",
    "    \n",
    "    return saubere_saetze\n",
    "\n",
    "\n",
    "test_saetze = [ 'Hallo hallo! :)', 'Wie geht es dir? Super! Und dir?' ]\n",
    "saubere_test_saetze = ['hallo hallo ', 'wie geht es dir super und dir']\n",
    "print(\"Testsätze:      \", test_saetze)\n",
    "print(\"So soll es sein:\", saubere_test_saetze)\n",
    "print(\"So ist es:      \", reinige_saetze(test_saetze))"
   ]
  },
  {
   "cell_type": "markdown",
   "metadata": {
    "pycharm": {
     "name": "#%% md\n"
    }
   },
   "source": [
    "Jetzt sind wir soweit, dass wir die Wörter aus der langen Zeichenkette \"ausschneiden\" können.\n",
    "Zerteile dazu die Satz-Zeichenkette an den Leerzeichen `' ' ` um eine Liste von Wort-Zeichenketten zu bekommen.\n",
    "Füge dann die Wort-Zeichenketten aller Sätze zu einer langen Liste and Wort-Zeichenketten zusammen."
   ]
  },
  {
   "cell_type": "code",
   "execution_count": null,
   "metadata": {
    "collapsed": true,
    "pycharm": {
     "name": "#%%\n"
    }
   },
   "outputs": [],
   "source": [
    "def saetze_zu_woerter(saetze):\n",
    "    woerter = []\n",
    "    \n",
    "    # HIER DEIN CODE \n",
    "    ...\n",
    "    \n",
    "    return woerter\n",
    "\n",
    "\n",
    "test_woerter = ['hallo', 'hallo', 'wie', 'geht', 'es', 'dir', 'super', 'und', 'dir']\n",
    "print(\"Testsätze:      \", saubere_test_saetze)\n",
    "print(\"So soll es sein:\", test_woerter)\n",
    "print(\"So ist es:      \", saetze_zu_woerter(saubere_test_saetze))"
   ]
  },
  {
   "cell_type": "markdown",
   "metadata": {
    "pycharm": {
     "name": "#%% md\n"
    }
   },
   "source": [
    "Nun haben wir endlich eine Liste an Wörtern alles Sätze.\n",
    "Einige Wörter kommen mehrmals in einem Satz vor.\n",
    "Deshalb wollen wir die unterschiedlichen Wörter zählen.\n",
    "Wenn wir ein *Wörterbuch* (englisch Dictionary) benutzen,\n",
    "in Python `dict` oder einfach `{}` abgekürzt, ist das ganz einfach.\n",
    "In einem Wörterbuch kann man zu einem bestimmten Wort ein weiteres Objekt, zum Beispiel seine Anzahl,\n",
    "ablegen und einfach abrufen.\n",
    "\n",
    "Schau dir am besten das Beispiel an und vervollständige danach die `zaehle_woerter`-Funktion."
   ]
  },
  {
   "cell_type": "code",
   "execution_count": null,
   "metadata": {
    "collapsed": true,
    "pycharm": {
     "name": "#%%\n"
    }
   },
   "outputs": [],
   "source": [
    "woerterbuch = {}\n",
    "print(\"Ein leeres Wörterbuch:\", woerterbuch)\n",
    "\n",
    "# so fügt man etwas hinzu:\n",
    "woerterbuch['Socken'] = 2\n",
    "woerterbuch['Schuhe'] = 1\n",
    "print(\"Ein gefülltes Wörterbuch:\", woerterbuch)\n",
    "\n",
    "# so liest man etwas nach\n",
    "print(\"'Schuhe' im Wörterbuch:\", woerterbuch['Schuhe'])\n",
    "\n",
    "# so testet man, ob ein Wort schon im Wörterbuch ist\n",
    "print(\"Ist 'Schuhe' im Wörterbuch?\", 'Schuhe' in woerterbuch)\n",
    "print(\"Ist 'Hosen' im Wörterbuch? \", 'Hosen' in woerterbuch)\n",
    "\n",
    "# das geht auch mit Variablen\n",
    "kleidung = 'Schuhe'\n",
    "print(\"'Schuhe' im Wörterbuch:\", woerterbuch[kleidung])\n",
    "\n",
    "# und auch ändern kann man den Wert:\n",
    "woerterbuch[kleidung] = woerterbuch[kleidung] + 1\n",
    "print(\"Mehr 'Schuhe' im Wörterbuch:\", woerterbuch[kleidung])\n",
    "\n"
   ]
  },
  {
   "cell_type": "markdown",
   "metadata": {},
   "source": [
    "Die `zaehle_woerter`-Funktion bekommt eine Liste mit Wörtern übergeben und soll ein Wörterbuch zurückgeben, in dem steht, wie oft welches Wort in der Liste vorkam."
   ]
  },
  {
   "cell_type": "code",
   "execution_count": null,
   "metadata": {
    "collapsed": true,
    "pycharm": {
     "name": "#%%\n"
    }
   },
   "outputs": [],
   "source": [
    "def zaehle_woerter(woerter):\n",
    "    wort_anzahl = {}\n",
    "    \n",
    "    # HIER DEIN CODE \n",
    "    ...\n",
    "    \n",
    "    return wort_anzahl\n",
    "\n",
    "\n",
    "test_anzahlen = {'hallo': 2, 'wie': 1, 'geht': 1, 'es': 1, 'dir': 2, 'super': 1, 'und': 1}\n",
    "print(\"Testwörter:      \", test_woerter)\n",
    "print(\"So soll es sein: \", test_anzahlen)\n",
    "print(\"So ist es:       \", zaehle_woerter(test_woerter))"
   ]
  },
  {
   "cell_type": "markdown",
   "metadata": {
    "pycharm": {
     "name": "#%% md\n"
    }
   },
   "source": [
    "Fast geschafft! Jetzt können wir alles zusammenfügen.\n",
    "Die Funktion `zaehle_in_saetzen` soll eine Liste an Sätzen übergeben bekommen, diese Sätze reinigen,\n",
    "in Wörter unterteilen und diese Wörter zählen.\n",
    "Benutze dazu die Funktionen, die du gerade vervollständigt hast."
   ]
  },
  {
   "cell_type": "code",
   "execution_count": null,
   "metadata": {
    "collapsed": true,
    "pycharm": {
     "name": "#%%\n"
    }
   },
   "outputs": [],
   "source": [
    "def zaehle_in_saetzen(saetze):\n",
    "    wort_anzahl = ...\n",
    "    \n",
    "    # HIER DEIN CODE \n",
    "    ...\n",
    "    \n",
    "    return wort_anzahl\n",
    "\n",
    "\n",
    "print(\"Testsätze:      \", test_saetze)\n",
    "print(\"So soll es sein:\", test_anzahlen)\n",
    "print(\"So ist es:      \", zaehle_in_saetzen(test_woerter))"
   ]
  },
  {
   "cell_type": "markdown",
   "metadata": {
    "pycharm": {
     "name": "#%% md\n"
    }
   },
   "source": [
    "### Vom Zählen zum Erkennen\n",
    "\n",
    "Nun haben wir alles für unsere Satzerkennungs-KI vorbereitet. \n",
    "Vervollständige die Funktion `erkenne_guten_film`.\n",
    "Die Funktion bekommt einen Satz übergeben und soll `True` zurückgeben, wenn die Wörter des Satzes häufiger in Beispielsätzen zu guten Filmen ('Gut'-Sätze) als in den Beispielsätzen zu schlechten Filmen ('Schlecht'-Sätze) vorkommen.  \n",
    "\n",
    "Die Wortanzahlen in den Beispielsätzen sind bereits vorbereitet als Wörterbücher `schlecht_woerterbuch` und `schlecht_woerterbuch`."
   ]
  },
  {
   "cell_type": "code",
   "execution_count": null,
   "metadata": {
    "collapsed": true,
    "pycharm": {
     "name": "#%%\n"
    }
   },
   "outputs": [],
   "source": [
    "# Wörterbücher mit den Anzahlen der Wörter \n",
    "# in Sätzen zu guten und schlechten Filmen.\n",
    "gut_woerterbuch = zaehle_in_saetzen(gut_saetze)\n",
    "schlecht_woerterbuch = zaehle_in_saetzen(schlecht_saetze)\n",
    "\n",
    "\n",
    "def erkenne_guten_film(satz):\n",
    "    gut_anzahl = 0\n",
    "    schlecht_anzahl = 0\n",
    "    satz_woerterbuch = zaehle_in_saetzen([satz])\n",
    "    for wort in satz_woerterbuch:\n",
    "        wort_anzahl = satz_woerterbuch[wort]\n",
    "        \n",
    "        # HIER DEIN CODE \n",
    "        ...\n",
    "        \n",
    "    return gut_anzahl >= schlecht_anzahl\n"
   ]
  },
  {
   "cell_type": "markdown",
   "metadata": {},
   "source": [
    "Jetzt testen wir, ob die Beispielsätze auch richtig wieder als 'Gut'-Sätze und 'Schlecht'-Sätze erkannt werden. Es ist in Ordnung, wenn nicht alle richtig erkannt werden - jede KI macht auch Fehler. "
   ]
  },
  {
   "cell_type": "code",
   "execution_count": null,
   "metadata": {
    "collapsed": true
   },
   "outputs": [],
   "source": [
    "gut_erkannt = 0\n",
    "for satz in gut_saetze:\n",
    "    if erkenne_guten_film(satz):\n",
    "        gut_erkannt += 1  \n",
    "    else:\n",
    "        print(satz)\n",
    "        \n",
    "schlecht_erkannt = 0\n",
    "for satz in schlecht_saetze:\n",
    "    if not erkenne_guten_film(satz):\n",
    "        schlecht_erkannt += 1  \n",
    "        \n",
    "print(gut_erkannt, \"von\", len(gut_saetze), \"'gut'-Sätzen richtig erkannt.\")\n",
    "print(schlecht_erkannt, \"von\", len(schlecht_saetze), \"'schlecht'-Sätzen richtig erkannt.\")"
   ]
  },
  {
   "cell_type": "markdown",
   "metadata": {},
   "source": [
    "Nun probier doch deine KI mit einem neuen Satz aus, der in keinem deiner Beispielsätze vorkommt:"
   ]
  },
  {
   "cell_type": "code",
   "execution_count": null,
   "metadata": {
    "collapsed": true
   },
   "outputs": [],
   "source": [
    "print(\"Wie fandest du den letzten Kinofilm, den du gesehen hast?\")\n",
    "test_satz = input(\"  \")\n",
    "if erkenne_guten_film(test_satz):\n",
    "    print(\"Du fandest ihn gut!\")\n",
    "else:\n",
    "    print(\"Du fandest ihn schlecht!\")"
   ]
  },
  {
   "cell_type": "markdown",
   "metadata": {
    "pycharm": {
     "name": "#%% md\n"
    }
   },
   "source": [
    "## Zusatzaufgabe:\n",
    "Diese Aufgabe ist nicht relevant für das Gewinnspiel.\n",
    "\n",
    "Wenn wir $1.000$ neue Beispielsätze für gute Filme hinzufügen, aber keine weiteren für schlechte Filme\n",
    "haben, funktioniert unsere KI nicht mehr richtig.\n",
    "\n",
    "- Was denkst du, warum sie jede Filmbewertung dann als `gut` bewertet?\n",
    "\n",
    "    *HIER DEINE ANTWORT*\n",
    "- Hast du eine Idee, wie man ganz einfach das Problem beheben kann?\n",
    "\n",
    "    *HIER DEINE ANTWORT*"
   ]
  },
  {
   "cell_type": "markdown",
   "metadata": {},
   "source": [
    "## Feedback für uns (freiwillig)\n",
    "War diese Aufgabe zu leicht, zu schwer oder genau richtig?\n",
    "\n",
    "Wie lang hast du für diese Aufgabe ungefähr gebraucht?\n",
    "\n",
    "Welche Art von Aufgaben wünschst du dir in Zukunft?\n",
    "\n",
    "\n"
   ]
  }
 ],
 "metadata": {
  "anaconda-cloud": {},
  "kernelspec": {
   "display_name": "Python [conda env:bwki_env]",
   "language": "python",
   "name": "conda-env-bwki_env-py"
  },
  "language_info": {
   "codemirror_mode": {
    "name": "ipython",
    "version": 3
   },
   "file_extension": ".py",
   "mimetype": "text/x-python",
   "name": "python",
   "nbconvert_exporter": "python",
   "pygments_lexer": "ipython3",
   "version": "3.8.2"
  }
 },
 "nbformat": 4,
 "nbformat_minor": 2
}
