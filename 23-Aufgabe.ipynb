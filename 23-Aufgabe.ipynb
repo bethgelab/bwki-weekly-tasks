{
 "cells": [
  {
   "cell_type": "markdown",
   "metadata": {},
   "source": [
    "# Clusterbildung mit K-means\n",
    "\n",
    "### - Aufgabe - \n"
   ]
  },
  {
   "cell_type": "markdown",
   "metadata": {},
   "source": [
    "Diese Aufgabe befasst sich mit einem sehr beliebten Algorithmus zur Aufteilung eines Datensatzes in sog. Datencluster."
   ]
  },
  {
   "cell_type": "markdown",
   "metadata": {},
   "source": [
    "### Was ist Clustering?"
   ]
  },
  {
   "cell_type": "markdown",
   "metadata": {},
   "source": [
    "Clustering ist eine der gebräuchlichsten Techniken der explorativen Datenanalyse, die verwendet wird, um eine Intuition über die Struktur der Daten zu erhalten. Mit Hilfe von Clustering könnnen Untergruppen in den Daten so identifiziert werden, dass Datenpunkte derselben Untergruppe (Cluster) sehr ähnlich sind, während Datenpunkte in verschiedenen Clustern sehr unterschiedlich sind. Mit anderen Worten, wir versuchen, homogene Untergruppen innerhalb der Daten zu finden, sodass Datenpunkte in jedem Cluster gemäß einem Ähnlichkeitsmaß wie der Distanz zueinander so ähnlich wie möglich sind."
   ]
  },
  {
   "cell_type": "markdown",
   "metadata": {},
   "source": [
    "![EinFarbigesCluster.png](https://raw.githubusercontent.com/bethgelab/bwki-weekly-tasks/master/ImagesAndDataForExercises/EinfarbigesCluster.png)"
   ]
  },
  {
   "cell_type": "markdown",
   "metadata": {},
   "source": [
    "Das obige Streudiagramm enthält Informationen über die Streckenlänge und die Anzahl der Haltestellen von verschiedenen Zügen (die Achsen normalisiert). Wenn du die Punkte in drei Arten von Zügen aufteilen solltest, welche drei Gruppen würdest du bilden?"
   ]
  },
  {
   "cell_type": "markdown",
   "metadata": {},
   "source": [
    "![FarbigesCluster.png](https://raw.githubusercontent.com/bethgelab/bwki-weekly-tasks/master/ImagesAndDataForExercises/FarbigesCluster.png)"
   ]
  },
  {
   "cell_type": "markdown",
   "metadata": {},
   "source": [
    "Vermutlich hast du intuitiv die Einteilung, welche in der obigen Graphik zu sehen ist, für Sinnvoll gehalten und damit natürlich auch absolut recht.\n",
    "Diese Aufgabe war für dich sehr einfach und du hast nicht sonderlich viel überlegen müssen, aber wenn du einem Computer erklären solltest, was genau er machen muss um das gleiche Ergebnis zu erhalten, ist die Antwort nicht offensichtlich.\n",
    "Klar, er muss sich irgendwie an den Abständen der Punkte zu einander orientieren und nähere Punkte zusammenfassen, aber was passiert genau?"
   ]
  },
  {
   "cell_type": "markdown",
   "metadata": {},
   "source": [
    "### Wie lassen sich sinnvolle Cluster bilden?"
   ]
  },
  {
   "cell_type": "markdown",
   "metadata": {},
   "source": [
    "Das Einteilen von Datenpunkte in sog. Cluster (Gruppen/Bündel) lässt sich mit dem K-means-clustering Algorithmus vornehmen."
   ]
  },
  {
   "cell_type": "markdown",
   "metadata": {},
   "source": [
    "Der Kmeans-Algorithmus ist ein iterativer Algorithmus, der versucht, den Datensatz in k vordefinierte, unterschiedliche, sich nicht überlappende Untergruppen (Cluster) zu unterteilen, wobei jeder Datenpunkt nur zu einer Gruppe gehören darf. Es versucht, die Datenpunkte innerhalbt eines Clusters so ähnlich wie möglich zu machen und gleichzeitig die Cluster so unterschiedlich (weit entfernt) wie möglich zu halten. Er weist einem Cluster Datenpunkte so zu, dass die Summe des quadrierten Abstands zwischen den Datenpunkten und dem Schwerpunkt des Clusters (Mittelwert aller Datenpunkte, die zu diesem Cluster gehören) minimal ist. Je weniger Variation wir innerhalb von Clustern haben, desto homogener (ähnlicher) sind die Datenpunkte innerhalb desselben Clusters. "
   ]
  },
  {
   "cell_type": "markdown",
   "metadata": {},
   "source": [
    "Es werden also anfangs k Punkte ausgewählt und dann iterativ so verschoben, dass der Abstand zwischen jedem der k Punkte und\n",
    "den ihm zugeordneten Datenpunkten (die die am nächsten an diesem Punkt sind) möglichst gering ist."
   ]
  },
  {
   "cell_type": "markdown",
   "metadata": {},
   "source": [
    "Sehen wir uns nun den Ausführungsprozess an, dieser lässt sich in 4 Schritte einteilen:\n",
    "    \n",
    "    "
   ]
  },
  {
   "cell_type": "markdown",
   "metadata": {},
   "source": [
    "### Schritt 1: Initialisieren\n",
    "Lege zunächst k zufälligen Punkte fest, diese werden als Schwerpunkte des Clusters bezeichnet. "
   ]
  },
  {
   "cell_type": "markdown",
   "metadata": {},
   "source": [
    "### Schritt 2: Clusterzuweisung\n",
    "Nach der Initialisierung werden alle Datenpunkte durchlaufen und der Abstand zwischen allen Schwerpunkten und den Datenpunkten berechnet. Die Datenpunkte werden dem Schwerpunkt zugeordnet zu dem sie den kleinsten Abstand haben."
   ]
  },
  {
   "cell_type": "markdown",
   "metadata": {},
   "source": [
    "### Schritt 3: Schwerpunkte verschieben\n",
    "Da die im obigen Schritt gebildeten Cluster nicht optimiert sind, müssen wir optimierte Cluster bilden.Dafür muss die durchschnittliche Position der Datenpunkte eines Clusters berechnet werden und der Schwerpunkt auf diese Position gesetzt werden."
   ]
  },
  {
   "cell_type": "markdown",
   "metadata": {},
   "source": [
    "### Schritt 4: Optimierung\n",
    "Die obigen beiden Schritte werden wiederholt, bis die Schwerpunkte sich nichtmehr bewegen oder (in unserem Fall) bis eine gewisse Anzahl an Iterationen erreicht wurde."
   ]
  },
  {
   "cell_type": "code",
   "execution_count": 5,
   "metadata": {},
   "outputs": [],
   "source": [
    "# Laden der benötigten Module\n",
    "\n",
    "import numpy as np\n",
    "from scipy.spatial.distance import cdist\n",
    "from sklearn.datasets import load_digits\n",
    "from sklearn.decomposition import PCA\n",
    "from sklearn.cluster import KMeans\n",
    "import matplotlib.pyplot as plt"
   ]
  },
  {
   "cell_type": "code",
   "execution_count": 2,
   "metadata": {},
   "outputs": [],
   "source": [
    "# Implementier hier die vier gegeben Schritte\n",
    "# arr : ein Array mit Koordinaten der Datenpunkte \n",
    "# k : Anzahl der zu bildenden Cluster\n",
    "# no_of_iterations : Anzahl der Durchläufe\n",
    "\n",
    "def kmeans(arr, k, no_of_iterations):\n",
    "    # Zufällige Auswahl von k Schwerpunkten aus der Menge\n",
    "    # der Datenpunkte \n",
    "    centroids = ... # Schritt 1\n",
    "\n",
    "    \n",
    "    # bestimme die euklidische Distanzen zwischen den Schwerpunkten \n",
    "    # und allen Datenpunkten\n",
    "    # Tipp: du kannst cdist benutzen\n",
    "    distances = ... # Schritt 2\n",
    "\n",
    "    # finde für jeden Datenpunkt den Schwerpunkt, der am nächsten ist\n",
    "    # dafür sollst du für jeden Datenpunkt ausgeben an welcher Position\n",
    "    # in seinem Abstandsarray der kleinste Wert ist    \n",
    "    points = ...  # Schritt 3\n",
    "\n",
    "    \n",
    "    # Wiederhole die obigen Schritte für die Anzahl an Iterationen\n",
    "    # Schritt 4\n",
    "    for _ in range(no_of_iterations):\n",
    "        centroids = []\n",
    "        for idx in range(k):\n",
    "            # Aktualisiere die Schwerpunkte indem du ihre Position\n",
    "            # auf die Durchschnittliche Position der ihnen Zugeordeneten Datenpunkte setzt\n",
    "            temp_cent = ...\n",
    "            centroids.append(temp_cent)\n",
    "\n",
    "        centroids = np.vstack(centroids)  # Aktualisierte Schwerpunkte\n",
    "        # berechne genau wie oben die Distanzen und die nächsten Schwerpunkte für die Datenpunkte\n",
    "        distances = ...\n",
    "        points = ...\n",
    "\n",
    "    return points\n"
   ]
  },
  {
   "cell_type": "markdown",
   "metadata": {},
   "source": [
    "In dem unteren Fenster kannst du testen, wie deine kmeans Funktion sich auf unserem Streudiagramm schlägt. Du musst sie nurnoch aufrufen und die Datenpunkte klassifizieren."
   ]
  },
  {
   "cell_type": "markdown",
   "metadata": {},
   "source": [
    "Da die Schwerpunkte anfangs zufällig gewählt werden, kann nicht garantiert werden, dass immer die optimale Lösung gefunden wird. Jedoch wird immer mindestens ein lokales Optimum gefunden (also eine Lösung, von der aus jede kleinere Veränderung nicht zu einer Verbesserung führt). Da unser Datensatz relativ klein ist, ist es jedoch ziemlich wahrscheinlich das globale Optimum zu finden und daher sollte beim mehrmaligem Ausführen des Programms auch die obige Lösung auftauchen. "
   ]
  },
  {
   "cell_type": "code",
   "execution_count": 21,
   "metadata": {},
   "outputs": [
    {
     "data": {
      "image/png": "[encoded data removed]",
      "text/plain": [
       "<Figure size 432x288 with 1 Axes>"
      ]
     },
     "metadata": {
      "needs_background": "light"
     },
     "output_type": "display_data"
    }
   ],
   "source": [
    "\n",
    "\n",
    "# die Koordinaten der Datenpunkte um das Streudiagramm zeichnen zu können\n",
    "data_points = np.array([[0.0418059341609478, 0.8823529411764706],\n",
    "                       [0.03865043446421623, 0.8823529411764706],\n",
    "                       [0.06913211941719055, 0.8235294117647058],\n",
    "                       [0.08081770688295364, 0.8235294117647058],\n",
    "                       [0.026132041588425636, 0.7647058823529412],\n",
    "                       [0.026132041588425636, 0.7647058823529412],\n",
    "                       [0.026132041588425636, 0.7647058823529412],\n",
    "                       [0.09365499764680862, 0.8235294117647058],\n",
    "                       [0.0802222266793251, 0.9411764705882352],\n",
    "                       [0.0, 0.7647058823529412],\n",
    "                       [0.05030515417456627, 1.0],\n",
    "                       [0.05030515417456627, 1.0],\n",
    "                       [0.18185654282569885, 0.3529411764705882],\n",
    "                       [0.18185654282569885, 0.3529411764705882],\n",
    "                       [0.1615954488515854, 0.2941176470588235],\n",
    "                       [0.20047201216220856, 0.2941176470588235],\n",
    "                       [0.13671165704727173, 0.2941176470588235],\n",
    "                       [0.1900033801794052, 0.4705882352941176],\n",
    "                       [0.10838034003973007, 0.4117647058823529],\n",
    "                       [0.1640133410692215, 0.2352941176470588],\n",
    "                       [0.15027260780334473, 0.2352941176470588],\n",
    "                       [0.15027260780334473, 0.2352941176470588],\n",
    "                       [0.08914268016815186, 0.4117647058823529],\n",
    "                       [0.09186362475156784, 0.2941176470588235],\n",
    "                       [0.8996241688728333, 0.2352941176470588],\n",
    "                       [0.8015787601470947, 0.2941176470588235],\n",
    "                       [0.8428218364715576, 0.0588235294117647],\n",
    "                       [0.7590007781982422, 0.1176470588235294],\n",
    "                       [0.7277239561080933, 0.1764705882352941],\n",
    "                       [0.72503662109375, 0.1764705882352941],\n",
    "                       [0.7115687131881714, 0.2352941176470588],\n",
    "                       [0.867732584476471, 0.0],\n",
    "                       [1.0, 0.2941176470588235],\n",
    "                       [0.9983829259872437, 0.1764705882352941],\n",
    "                       [0.7218253016471863, 0.0588235294117647],\n",
    "                       [0.695572018623352, 0.0588235294117647]])\n",
    "\n",
    "# Führe hier deinen k-means-clustering Algorithmus aus\n",
    "label = ...\n",
    "\n",
    "# Visualisierung des Resultats\n",
    "u_labels = np.unique(label)\n",
    "for i in u_labels:\n",
    "    plt.scatter(data_points[label == i, 0], data_points[label == i, 1], label=i)\n",
    "\n",
    "plt.xlabel('Anzahl der Halte')\n",
    "plt.ylabel('Streckenlänge')\n",
    "plt.legend()\n",
    "plt.show()"
   ]
  },
  {
   "cell_type": "markdown",
   "metadata": {},
   "source": [
    "Klasse gemacht, jetzt kannst du mit Hilfe des kmeans Algorithmus die verschiedensten Datensätze ganz einfach sortieren. "
   ]
  },
  {
   "cell_type": "markdown",
   "metadata": {},
   "source": [
    "## Fragen & Feedback:\n",
    "\n",
    "**Wenn ihr Fragen oder Anregungen zu der Aufgabe (oder Lösung) habt, dann tauscht euch gerne im [Chat](https://spectrum.chat/bwki/aufgabenarchiv/) darüber aus oder schreibt uns eine E-Mail (an info@bw-ki.de).**\n",
    "\n",
    "Wir freuen uns auch immer über **Feedback** (auch unter info@bw-ki.de):\n",
    "\n",
    "- War diese Aufgabe zu leicht, zu schwer oder genau richtig?\n",
    "- Wie lang hast du für diese Aufgabe ungefähr gebraucht?\n",
    "- Welche Art von Aufgaben wünschst du dir in Zukunft?"
   ]
  }
 ],
 "metadata": {
  "kernelspec": {
   "display_name": "Python 3",
   "language": "python",
   "name": "python3"
  },
  "language_info": {
   "codemirror_mode": {
    "name": "ipython",
    "version": 3
   },
   "file_extension": ".py",
   "mimetype": "text/x-python",
   "name": "python",
   "nbconvert_exporter": "python",
   "pygments_lexer": "ipython3",
   "version": "3.6.9"
  }
 },
 "nbformat": 4,
 "nbformat_minor": 4
}
