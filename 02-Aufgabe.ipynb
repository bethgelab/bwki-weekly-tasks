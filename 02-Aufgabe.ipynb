{
 "cells": [
  {
   "cell_type": "markdown",
   "metadata": {},
   "source": [
    "## April Woche 2: Tic Tac Toe"
   ]
  },
  {
   "cell_type": "markdown",
   "metadata": {},
   "source": [
    "Willkommen zu unserer Aufgabe der Woche!\n",
    "\n",
    "Der Bundeswettbewerb Künstliche Intelligenz stellt euch jede Woche eine spannende oder kniffelige Programmieraufgabe, in der ihr euer Programmiergeschick auf die Probe stellen könnt.\n",
    "\n",
    "Jede Woche habt ihr die Chance auf einen von zwei Amazon-Gutscheinen im Wert von 25€! Wer jede Aufgabe in einem Monat einschickt, nimmt in der Monatsverlosung teil und kann einen 50€-Amazon-Gutschein gewinnen! Ihr könnt eure Lösung immer bis Sonntag 22 Uhr der gleichen Woche per Mail an aufgabe-der-woche@bw-ki.de einreichen.\n",
    "\n",
    "Bitte lade dazu das Notebook unter \"File/Download as/Notebook (.ipynb)\" runter. Verändere den Namen der Datei nicht und vergess nicht im ersten Feld dein Name und E-Mailadresse anzugeben.\n",
    "\n",
    "Es werden nur korrekte Lösungen berücksichtigt. Voraussetzung für die Teilnahme ist die Registrierung eures vollständigen Accounts im Loginbereich des Bundeswettbewerbs Künstliche Intelligenz. Es gelten die Teilnahmebedingungen (https://bw-ki.de/teilnahmebedingungen/ und Datenschuztrichtlinien (https://bw-ki.de/datenschutz/) des Wettbewerbs."
   ]
  },
  {
   "cell_type": "markdown",
   "metadata": {},
   "source": [
    "Dein vollständiger Name:\n",
    "\n",
    "Deine E-Mailadresse:"
   ]
  },
  {
   "cell_type": "markdown",
   "metadata": {},
   "source": [
    "## In dieser Aufgabe geht es darum Tic Tac Toe zu programmieren."
   ]
  },
  {
   "cell_type": "markdown",
   "metadata": {},
   "source": [
    "Dein Ziel ist, dass zwei menschliche Spieler gegeneinander Tic Tac Toe spielen können, in dem sie ihr gewünschtes Feld eingeben und dann das neue Spielfeld angezeigt wird.\n",
    "\n",
    "Du musst den folgenden Code bei \"...\" erweitern."
   ]
  },
  {
   "cell_type": "code",
   "execution_count": 2,
   "metadata": {},
   "outputs": [],
   "source": [
    "# Spielfeld erstellen\n",
    "def init_spielfeld():\n",
    "    spielfeld = [\" \",\n",
    "                 \"1\",\"2\",\"3\",\n",
    "                 \"4\",\"5\",\"6\",\n",
    "                 \"7\",\"8\",\"9\"]\n",
    "    return spielfeld"
   ]
  },
  {
   "cell_type": "markdown",
   "metadata": {},
   "source": [
    "Anmerkung:\n",
    "\n",
    "Das Spielfeld besteht aus einem 3x3 Feld. Das Spielfeld soll so dargestellt werden, dass die Zahlen 1 bis 9 darauf sichtbar sind. Beachte, dass wir die Zahlen in der Liste 'spielfeld' als Strings darstellen. Im Spiel kann man dann die Zahl (als Integer) eingeben, auf deren Feld man setzen möchte. Damit die Zahlen auf dem Spielfeld mit der eingegebenen Zahl übereinstimmen, lassen wir in der Liste 'spielfeld' die erste Position leer. Die Indizierung beginnt bei Listen bei 0."
   ]
  },
  {
   "cell_type": "code",
   "execution_count": 1,
   "metadata": {},
   "outputs": [],
   "source": [
    "# Spielfeld ausgegeben\n",
    "# Das Spielfeld besteht aus den Zahlen 1 bis 9 auf einem drei mal drei Feld.\n",
    "\n",
    "def spielfeld_ausgeben(spielfeld):\n",
    "    print(...)\n",
    "\n",
    "# überprüfe deine Funktion\n",
    "spielfeld = init_spielfeld()\n",
    "spielfeld_ausgeben(spielfeld)"
   ]
  },
  {
   "cell_type": "markdown",
   "metadata": {},
   "source": [
    "Wir überprüfen, ob eine Zahl eingegeben wurde. Es ist zum Beispiel nicht möglich, ein Buchstabe in ein Integer mit int() zu verwandelen. Das Programm würde in diesem Fall einen Fehler werfen und abbrechen. Wir nutzen eine Ausnahmebehandlung, die Fehler auffängt."
   ]
  },
  {
   "cell_type": "code",
   "execution_count": 4,
   "metadata": {},
   "outputs": [],
   "source": [
    "# Spieler gibt gewünschtes Feld (1-9) oder Abbruch (0) ein\n",
    "\n",
    "def eingabe():\n",
    "    while True:\n",
    "        try:\n",
    "            # input() nimmt Eingaben über die Tastatur auf\n",
    "            feld = input(\"Auf welches Feld möchtest du setzen (1-9)? 0 beendet das Spiel.\")\n",
    "            feld = int(feld)\n",
    "            return(feld)\n",
    "            break\n",
    "        # Falls keine Zahl eingegeben wurde, Eingabe wiederholen\n",
    "        except ValueError:\n",
    "            print(\"Bitte eine Zahl eingeben.\")"
   ]
  },
  {
   "cell_type": "code",
   "execution_count": null,
   "metadata": {},
   "outputs": [],
   "source": [
    "# Korrekte Eingabe überprüfen\n",
    "\n",
    "# Die Funktion bekommt das gewünschte Feld und das Spielfeld übergeben. Wenn das Feld eine Zahl zwischen 1 und 9 ist\n",
    "# und dieses Feld noch frei ist, soll die Funktion \"True\" zurück geben, ansonsten \"False\".\n",
    "\n",
    "def korrekt(feld, spielfeld):\n",
    "    if ...: # Zahl zwischen 0 und 9 und nicht mit X oder O belegt\n",
    "        print(\"Das Feld ist frei!\")\n",
    "        ...\n",
    "    else:\n",
    "        print(\"Feld belegt oder Zahl nicht zwischen 0 und 9!\")\n",
    "        ..."
   ]
  },
  {
   "cell_type": "code",
   "execution_count": null,
   "metadata": {},
   "outputs": [],
   "source": [
    "# Spieler 1 beginnt\n",
    "spieler = 1\n",
    "\n",
    "# Es kann 9 mal ein Feld belegt werden\n",
    "counter = 0\n",
    "\n",
    "\n",
    "while True:\n",
    "    # Eingabe des Zuges\n",
    "    print(\"Es ist Spieler \", spieler, \" am Zug.\")\n",
    "    feld = eingabe()\n",
    "    \n",
    "    # Spiel beenden, wenn die Eingabe 0 ist\n",
    "    ...\n",
    "    \n",
    "    \n",
    "    # Bei korrekter Eingabe Spielzug ausführen\n",
    "    if korrekt(feld, spielfeld):\n",
    "        if spieler == 1:\n",
    "            spielfeld[feld] = 'X'\n",
    "            spieler = 2\n",
    "        else:\n",
    "            spielfeld[feld] = 'O'\n",
    "            spieler = 1\n",
    "            \n",
    "    # ansonsten nochmals Eingabe einfordern\n",
    "    # Hinweis: https://www.codeflow.site/de/article/how-to-use-break-continue-and-pass-statements-when-working-with-loops-in-python-3\n",
    "    else:\n",
    "        print(\"Bitte ein korrektes Feld eingeben.\")\n",
    "        ...        \n",
    "    \n",
    "    spielfeld_ausgeben(spielfeld)\n",
    "    \n",
    "    # Counter für Spielrunden hochzählen.\n",
    "    # Wenn alle Felder belegt sind, soll das Spiel beendet werden\n",
    "    ...    \n",
    "    ...\n",
    "        \n",
    "   "
   ]
  },
  {
   "cell_type": "markdown",
   "metadata": {},
   "source": [
    "Super! Jetzt kannst du Tic Tac Toe gegen einen menschlichen Mitspieler spielen!"
   ]
  },
  {
   "cell_type": "markdown",
   "metadata": {},
   "source": [
    "Zusatzaufgabe:\n",
    "\n",
    "Schreibe eine Funktion, die erkennt, ob ein Spieler gewonnen hat!\n",
    "\n",
    "Diese Aufgabe ist nicht relevant für das Gewinnspiel."
   ]
  },
  {
   "cell_type": "markdown",
   "metadata": {},
   "source": [
    "## Feedback für uns (freiwillig)\n",
    "War diese Aufgabe zu leicht, zu schwer oder genau richtig?\n",
    "\n",
    "Wie lang hast du für diese Aufgabe ungefähr gebraucht?\n",
    "\n",
    "Welche Art von Aufgaben wünschst du dir in Zukunft?"
   ]
  }
 ],
 "metadata": {
  "kernelspec": {
   "display_name": "Python 3",
   "language": "python",
   "name": "python3"
  },
  "language_info": {
   "codemirror_mode": {
    "name": "ipython",
    "version": 3
   },
   "file_extension": ".py",
   "mimetype": "text/x-python",
   "name": "python",
   "nbconvert_exporter": "python",
   "pygments_lexer": "ipython3",
   "version": "3.7.4"
  }
 },
 "nbformat": 4,
 "nbformat_minor": 2
}
