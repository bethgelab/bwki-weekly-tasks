{
 "cells": [
  {
   "cell_type": "markdown",
   "metadata": {},
   "source": [
    "# Tic Tac Toe\n",
    "### - Aufgabe - "
   ]
  },
  {
   "cell_type": "markdown",
   "metadata": {},
   "source": [
    "## In dieser Aufgabe geht es darum Tic Tac Toe zu programmieren."
   ]
  },
  {
   "cell_type": "markdown",
   "metadata": {},
   "source": [
    "Dein Ziel ist, dass zwei menschliche Spieler gegeneinander Tic Tac Toe spielen können, in dem sie ihr gewünschtes Feld eingeben und dann das neue Spielfeld angezeigt wird.\n",
    "\n",
    "Du musst den folgenden Code bei \"...\" erweitern."
   ]
  },
  {
   "cell_type": "code",
   "execution_count": null,
   "metadata": {
    "collapsed": true
   },
   "outputs": [],
   "source": [
    "# Spielfeld erstellen\n",
    "def init_spielfeld():\n",
    "    spielfeld = [\" \",\n",
    "                 \"1\",\"2\",\"3\",\n",
    "                 \"4\",\"5\",\"6\",\n",
    "                 \"7\",\"8\",\"9\"]\n",
    "    return spielfeld\n",
    "\n",
    "# Da die Indizierung bei 0 beginnt, das aber zu Verwirrung führen kann, bleibt das erste Feld leer."
   ]
  },
  {
   "cell_type": "markdown",
   "metadata": {},
   "source": [
    "**Anmerkung:**\n",
    "\n",
    "Das Spielfeld besteht aus einem **3x3 Feld**. Das Spielfeld soll so dargestellt werden, dass die **Zahlen 1 bis 9** darauf sichtbar sind. Beachte, dass wir die Zahlen in der Liste 'spielfeld' als Strings darstellen. Im Spiel kann man dann die Zahl (als Integer) eingeben, auf deren Feld man setzen möchte. Damit die Zahlen auf dem Spielfeld mit der eingegebenen Zahl übereinstimmen, lassen wir in der Liste 'spielfeld' die erste Position leer. In Python beginnt die Indizierung bei Listen bei 0."
   ]
  },
  {
   "cell_type": "code",
   "execution_count": null,
   "metadata": {},
   "outputs": [],
   "source": [
    "# Spielfeld ausgegeben\n",
    "# Das Spielfeld besteht aus den Zahlen 1 bis 9 auf einem drei mal drei Feld.\n",
    "\n",
    "def spielfeld_ausgeben(spielfeld):\n",
    "    print(...)\n",
    "\n",
    "# überprüfe deine Funktion\n",
    "spielfeld = init_spielfeld()\n",
    "spielfeld_ausgeben(spielfeld)"
   ]
  },
  {
   "cell_type": "markdown",
   "metadata": {},
   "source": [
    "Wir überprüfen, ob eine Zahl eingegeben wurde. Es ist zum Beispiel nicht möglich, einen Buchstaben in einen Integer mit int() zu verwandeln. Das Programm würde in diesem Fall einen Fehler werfen und abbrechen. Wir nutzen eine Ausnahmebehandlung, die Fehler auffängt."
   ]
  },
  {
   "cell_type": "code",
   "execution_count": null,
   "metadata": {
    "collapsed": true
   },
   "outputs": [],
   "source": [
    "# Spieler gibt gewünschtes Feld (1-9) oder Abbruch (0) ein\n",
    "\n",
    "def eingabe():\n",
    "    while True:\n",
    "        try:\n",
    "            # input() nimmt Eingaben über die Tastatur auf\n",
    "            feld = input(\"Auf welches Feld möchtest du setzen (1-9)? 0 beendet das Spiel.\")\n",
    "            feld = int(feld)\n",
    "            break\n",
    "        # Falls keine Zahl eingegeben wurde, Eingabe wiederholen\n",
    "        except ValueError:\n",
    "            print(\"Bitte eine Zahl eingeben.\")\n",
    "            \n",
    "    return feld"
   ]
  },
  {
   "cell_type": "code",
   "execution_count": null,
   "metadata": {
    "collapsed": true
   },
   "outputs": [],
   "source": [
    "# Korrekte Eingabe überprüfen\n",
    "\n",
    "# Die Funktion bekommt das gewünschte Feld und das Spielfeld übergeben. Wenn das Feld eine Zahl zwischen 1 und 9 ist\n",
    "# und dieses Feld noch frei ist, soll die Funktion \"True\" zurück geben, ansonsten \"False\".\n",
    "\n",
    "def korrekt(feld, spielfeld):\n",
    "    if ...: # Zahl zwischen 0 und 9 und nicht belegt\n",
    "        print(\"Das Feld ist frei!\")\n",
    "        ...\n",
    "    else:\n",
    "        print(\"Feld belegt oder Zahl nicht zwischen 0 und 9!\")\n",
    "        ..."
   ]
  },
  {
   "cell_type": "code",
   "execution_count": null,
   "metadata": {
    "collapsed": true
   },
   "outputs": [],
   "source": [
    "# Spieler 1 beginnt\n",
    "spieler = 1\n",
    "\n",
    "# Es kann 9 mal ein Feld belegt werden\n",
    "counter = 0\n",
    "\n",
    "\n",
    "while True:\n",
    "    # Eingabe des Zuges\n",
    "    print(\"Es ist Spieler \", spieler, \" am Zug.\")\n",
    "    feld = eingabe()\n",
    "    \n",
    "    # Spiel beenden, wenn die Eingabe 0 ist\n",
    "    ...\n",
    "    \n",
    "    \n",
    "    # Bei korrekter Eingabe Spielzug ausführen\n",
    "    if korrekt(feld, spielfeld):\n",
    "        if spieler == 1:\n",
    "            spielfeld[feld] = 'X'\n",
    "            spieler = 2\n",
    "        else:\n",
    "            spielfeld[feld] = '0'\n",
    "            spieler = 1\n",
    "            \n",
    "    # ansonsten nochmals Eingabe einfordern\n",
    "    # Hinweis: https://www.codeflow.site/de/article/how-to-use-break-continue-and-pass-statements-when-working-with-loops-in-python-3\n",
    "    else:\n",
    "        print(\"Bitte ein korrektes Feld eingeben.\")\n",
    "        ...        \n",
    "    \n",
    "    spielfeld_ausgeben()\n",
    "    \n",
    "    # Counter für Spielrunden hochzählen.\n",
    "    # Wenn alle Felder belegt sind, soll das Spiel beendet werden\n",
    "    ...    \n",
    "   "
   ]
  },
  {
   "cell_type": "markdown",
   "metadata": {},
   "source": [
    "Super! Jetzt kannst du Tic Tac Toe gegen einen menschlichen Mitspieler spielen!"
   ]
  },
  {
   "cell_type": "markdown",
   "metadata": {},
   "source": [
    "## Zusatzaufgabe:"
   ]
  },
  {
   "cell_type": "markdown",
   "metadata": {},
   "source": [
    "Schreibe eine Funktion, die erkennt, ob ein Spieler gewonnen hat!"
   ]
  },
  {
   "cell_type": "code",
   "execution_count": null,
   "metadata": {
    "collapsed": true
   },
   "outputs": [],
   "source": []
  },
  {
   "cell_type": "markdown",
   "metadata": {},
   "source": [
    "## Fragen & Feedback:\n",
    "\n",
    "**Wenn ihr Fragen oder Anregungen zu der Aufgabe (oder Lösung) habt, dann tauscht euch gerne im [Chat](https://spectrum.chat/bwki/aufgabenarchiv/) darüber aus oder schreibt uns eine E-Mail (an info@bw-ki.de).**\n",
    "\n",
    "Wir freuen uns auch immer über **Feedback** (auch unter info@bw-ki.de):\n",
    "\n",
    "- War diese Aufgabe zu leicht, zu schwer oder genau richtig?\n",
    "- Wie lang hast du für diese Aufgabe ungefähr gebraucht?\n",
    "- Welche Art von Aufgaben wünschst du dir in Zukunft?"
   ]
  }
 ],
 "metadata": {
  "anaconda-cloud": {},
  "kernelspec": {
   "display_name": "Python 3",
   "language": "python",
   "name": "python3"
  },
  "language_info": {
   "codemirror_mode": {
    "name": "ipython",
    "version": 3
   },
   "file_extension": ".py",
   "mimetype": "text/x-python",
   "name": "python",
   "nbconvert_exporter": "python",
   "pygments_lexer": "ipython3",
   "version": "3.8.5"
  }
 },
 "nbformat": 4,
 "nbformat_minor": 2
}
