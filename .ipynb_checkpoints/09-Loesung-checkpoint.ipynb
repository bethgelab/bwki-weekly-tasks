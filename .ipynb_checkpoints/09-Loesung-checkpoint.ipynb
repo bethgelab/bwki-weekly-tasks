{
 "cells": [
  {
   "cell_type": "markdown",
   "metadata": {},
   "source": [
    "# Klassifikation mit k-nächste-Nachbarn\n",
    "### - Lösung - "
   ]
  },
  {
   "cell_type": "markdown",
   "metadata": {
    "collapsed": true
   },
   "source": [
    "### Auf gute Nachbarschaft!\n",
    "\n",
    "Diese Aufgabe befasst sich mit einem Standardverfahren der Klassifikation, dem k-nächste-Nachbarn Verfahren. Hier siehst du ein Bild, welches das Verfahren beschreibt:\n",
    "\n",
    "![kNN.png](http://caeze.bplaced.net/bwki/kNN.png)\n",
    "\n",
    "Du siehst in rot eingezeichnet Datenpunkte, die zu einer Klasse A gehören und in blau Datenpunkte, die zu einer Klasse B gehören. Nun bekommst du einen neuen Datenpunkt (in grün) und willst bestimmen, zu welcher Klasse dieser Punkt gehören soll.\n",
    "Die Idee des k-nächste-Nachbarn Verfahren ist, dass Datenpunkte, die in räumlicher Nähe sind, auch zu der selben Klasse gehören. In diesem Fall würde man den grünen Punkt also zu der Klasse B zuordnen, da mehr blaue Punkte in der Nachbarschaft sind.\n",
    "\n",
    "Das Verfahren nennt man k-nächste-Nachbarn, da man nun auswählen kann, wie viele der nächsten Nachbarn in diese Betrachtung einbezogen werden sollen. Der Parameter, der die Anzahl der betrachteten Nachbarn beschreibt, heißt \"k\".\n",
    "\n",
    "In dem Beispiel oben sind die k = 5 nächsten Nachbarn zum grünen Punkt folgende: blau, blau, rot, blau, blau.\n",
    "Würde man den Parameter k = 1 wählen, so würde nur der nächste blaue Punkt berücksichtigt. Wäre der Parameter k = 4, so würden die Nachbarn blau, blau, rot, blau betrachtet. In allen Fällen überwiegen die blauen Nachbarn aus Klasse B, und so würde der neue Punkt zu Klasse B zugeordnet.\n",
    "\n",
    "Weitere Informationen zu dem Verfahren kannst du z. B. hier finden: https://de.wikipedia.org/wiki/N%C3%A4chste-Nachbarn-Klassifikation.\n",
    "\n",
    "Wir benötigen für das Verfahren also auf jeden Fall eine Funktion, die die Distanz zwischen zwei Punkten in der Ebene zurückgibt. Diese Funktion kannst du schon einmal implementieren. Wir verwenden hier die euklidische Distanz, es sind dafür aber noch andere Distanzfunktionen möglich.\n",
    "\n",
    "Wenn du AssertionErrors bekommst, ist deine Funktion noch nicht richtig."
   ]
  },
  {
   "cell_type": "code",
   "execution_count": 1,
   "metadata": {
    "collapsed": true
   },
   "outputs": [],
   "source": [
    "# wir brauchen das Modul \"math\" für u. a. die Wurzelfunktion \"sqrt()\"\n",
    "import math\n",
    "\n",
    "# diese Funktion gibt die Distanz zwischen zwei Punkten zurück\n",
    "# du kannst dazu den Satz des Pythagoras verwenden\n",
    "# https://de.wikipedia.org/wiki/Satz_des_Pythagoras\n",
    "def distanz(punkt_1, punkt_2):\n",
    "    distanz_x = abs(punkt_1[0] - punkt_2[0])\n",
    "    distanz_y = abs(punkt_1[1] - punkt_2[1])\n",
    "    return math.sqrt(distanz_x * distanz_x + distanz_y * distanz_y)\n",
    "\n",
    "# teste die Funktion auf Korrektheit\n",
    "assert distanz([0, 0], [1, 0]) == 1\n",
    "assert distanz([1, 0], [0, 0]) == 1\n",
    "assert distanz([0, 0], [0, 1]) == 1\n",
    "assert distanz([0, 1], [0, 0]) == 1\n",
    "assert distanz([0, 0], [3, 5]) == math.sqrt(34)\n",
    "assert distanz([4, 13], [3, 5]) == math.sqrt(65)"
   ]
  },
  {
   "cell_type": "markdown",
   "metadata": {},
   "source": [
    "### Größe zeigt sich im Kleinen\n",
    "\n",
    "Nun wollen wir an einem aufgenommenen Datensatz das k-nächste-Nachbarn Verfahren implementieren.\n",
    "Schau dir dazu zunächst den Datensatz als Text an: http://caeze.bplaced.net/bwki/GroessenMaennerFrauenDatensatzBereinigtTraining.txt. Der Datensatz enthält Körper- und Schuhgrößen von Personen und deren Geschlecht; wir nennen ihn Trainingsdatensatz.\n",
    "\n",
    "Die Quelle für diesen Datensatz ist https://osf.io/ja9dw/, erstellt wurde er von Sebastian Sauer. Daraufhin wurde der Datensatz noch etwas bereinigt, um ihn einfacher verwendbar zu machen. (Die Lizenz für diesen Datensatz ist eine CC-By Attribution 4.0 Lizenz.)\n",
    "\n",
    "Die Daten enthalten also drei Spalten, jeweils durch Komma getrennt: Geschlecht (Frau/Mann), Körpergröße (in Zentimetern) und Schuhgröße (nach europäischem Maß).\n",
    "\n",
    "Nun wollen wir den Datensatz zunächst graphisch darstellen, dazu verwenden wir die Module \"pandas\" und \"matplotlib\". Die Daten werden in einem sog. Streudiagramm (engl. \"Scatterplot\") dargestellt, auf der x-Achse wird die Körpergröße aufgetragen und auf der y-Achse die Schuhgröße. Das Geschlecht der Personen, zu denen die Daten gehören wird mit den Farben Rot (weiblich) und Blau (männlich) dargestellt. "
   ]
  },
  {
   "cell_type": "code",
   "execution_count": 2,
   "metadata": {},
   "outputs": [
    {
     "data": {
      "text/html": [
       "<div>\n",
       "<style scoped>\n",
       "    .dataframe tbody tr th:only-of-type {\n",
       "        vertical-align: middle;\n",
       "    }\n",
       "\n",
       "    .dataframe tbody tr th {\n",
       "        vertical-align: top;\n",
       "    }\n",
       "\n",
       "    .dataframe thead th {\n",
       "        text-align: right;\n",
       "    }\n",
       "</style>\n",
       "<table border=\"1\" class=\"dataframe\">\n",
       "  <thead>\n",
       "    <tr style=\"text-align: right;\">\n",
       "      <th></th>\n",
       "      <th>Geschlecht</th>\n",
       "      <th>Koerpergroesse</th>\n",
       "      <th>Schuhgroesse</th>\n",
       "    </tr>\n",
       "  </thead>\n",
       "  <tbody>\n",
       "    <tr>\n",
       "      <th>0</th>\n",
       "      <td>Frau</td>\n",
       "      <td>160</td>\n",
       "      <td>40</td>\n",
       "    </tr>\n",
       "    <tr>\n",
       "      <th>1</th>\n",
       "      <td>Frau</td>\n",
       "      <td>171</td>\n",
       "      <td>39</td>\n",
       "    </tr>\n",
       "    <tr>\n",
       "      <th>2</th>\n",
       "      <td>Frau</td>\n",
       "      <td>174</td>\n",
       "      <td>39</td>\n",
       "    </tr>\n",
       "    <tr>\n",
       "      <th>3</th>\n",
       "      <td>Frau</td>\n",
       "      <td>176</td>\n",
       "      <td>40</td>\n",
       "    </tr>\n",
       "    <tr>\n",
       "      <th>4</th>\n",
       "      <td>Mann</td>\n",
       "      <td>195</td>\n",
       "      <td>46</td>\n",
       "    </tr>\n",
       "    <tr>\n",
       "      <th>...</th>\n",
       "      <td>...</td>\n",
       "      <td>...</td>\n",
       "      <td>...</td>\n",
       "    </tr>\n",
       "    <tr>\n",
       "      <th>95</th>\n",
       "      <td>Frau</td>\n",
       "      <td>170</td>\n",
       "      <td>39</td>\n",
       "    </tr>\n",
       "    <tr>\n",
       "      <th>96</th>\n",
       "      <td>Frau</td>\n",
       "      <td>183</td>\n",
       "      <td>39</td>\n",
       "    </tr>\n",
       "    <tr>\n",
       "      <th>97</th>\n",
       "      <td>Frau</td>\n",
       "      <td>173</td>\n",
       "      <td>40</td>\n",
       "    </tr>\n",
       "    <tr>\n",
       "      <th>98</th>\n",
       "      <td>Frau</td>\n",
       "      <td>160</td>\n",
       "      <td>37</td>\n",
       "    </tr>\n",
       "    <tr>\n",
       "      <th>99</th>\n",
       "      <td>Frau</td>\n",
       "      <td>168</td>\n",
       "      <td>39</td>\n",
       "    </tr>\n",
       "  </tbody>\n",
       "</table>\n",
       "<p>100 rows × 3 columns</p>\n",
       "</div>"
      ],
      "text/plain": [
       "   Geschlecht  Koerpergroesse  Schuhgroesse\n",
       "0        Frau             160            40\n",
       "1        Frau             171            39\n",
       "2        Frau             174            39\n",
       "3        Frau             176            40\n",
       "4        Mann             195            46\n",
       "..        ...             ...           ...\n",
       "95       Frau             170            39\n",
       "96       Frau             183            39\n",
       "97       Frau             173            40\n",
       "98       Frau             160            37\n",
       "99       Frau             168            39\n",
       "\n",
       "[100 rows x 3 columns]"
      ]
     },
     "execution_count": 2,
     "metadata": {},
     "output_type": "execute_result"
    }
   ],
   "source": [
    "# zunächst laden wir den Datensatz, dazu brauchen wird das Modul \"pandas\"\n",
    "# Pandas ist eine Bibliothek, die im maschinellen Lernen viel eingesetzt wird.\n",
    "# Du kannst hier weitere Informationen zu Pandas finden (leider nur auf Englisch):\n",
    "# https://pandas.pydata.org/\n",
    "# Hier gibt es ein Pandas Tutorial (leider auch nur auf Englisch):\n",
    "# https://www.tutorialspoint.com/python_pandas/python_pandas_introduction.htm\n",
    "import pandas as pd\n",
    "\n",
    "# die URL zu der Datei, die die Trainingsdaten im csv-Format enthält\n",
    "# https://de.wikipedia.org/wiki/CSV_(Dateiformat)\n",
    "url_training = \"http://caeze.bplaced.net/bwki/GroessenMaennerFrauenDatensatzBereinigtTraining.txt\"\n",
    "\n",
    "# zunächst importieren wir den Datensatz in ein sog. pandas-Dataframe (pandas-Datenrahmen)\n",
    "datensatz_training = pd.read_csv(url_training)\n",
    "\n",
    "# und zeigen ihn als Tabelle an\n",
    "datensatz_training"
   ]
  },
  {
   "cell_type": "code",
   "execution_count": 3,
   "metadata": {},
   "outputs": [
    {
     "data": {
      "text/plain": [
       "<matplotlib.collections.PathCollection at 0x7f06d2c1a880>"
      ]
     },
     "execution_count": 3,
     "metadata": {},
     "output_type": "execute_result"
    },
    {
     "data": {
      "image/png": "[encoded data removed]",
      "text/plain": [
       "<Figure size 432x288 with 1 Axes>"
      ]
     },
     "metadata": {
      "needs_background": "light"
     },
     "output_type": "display_data"
    }
   ],
   "source": [
    "# zum Zeichnen der Daten verwenden wir matplotlib, also laden dieses Modul\n",
    "import matplotlib.pyplot as plt\n",
    "\n",
    "# hier bestimmen wir die Farbe pro Datenpunkt, die wir im Scatterplot verwenden wollen\n",
    "# (abhängig davon, ob der Datenpunkt zu einer Frau oder zu einem Mann gehört)\n",
    "def farbe(zeile):\n",
    "    if zeile['Geschlecht'] == \"Frau\":\n",
    "        return \"red\"\n",
    "    return \"blue\"\n",
    "# die lambda-Funktion \"farbe()\" wird auf alle Zeilen angewandt und damit wird eine Liste\n",
    "# der zu verwendenden Farben erstellt\n",
    "farben_training = datensatz_training.apply(lambda zeile: farbe(zeile), axis=1)\n",
    "\n",
    "# mit diesen Farben zeichnen wir nun den Scatterplot\n",
    "plt.scatter(datensatz_training.Koerpergroesse, datensatz_training.Schuhgroesse, c = farben_training)"
   ]
  },
  {
   "cell_type": "markdown",
   "metadata": {},
   "source": [
    "Ersetze in der nächsten Zelle die ... durch die Antwort, die den Satz richtig vervollständigt."
   ]
  },
  {
   "cell_type": "markdown",
   "metadata": {},
   "source": [
    "In diesem Scatterplot kann man nun einige Informationen der Trainingsdaten direkt erkennen:\n",
    "\n",
    "a) Es gibt mehr Datenpunkte von **Frauen** (Frauen/Männern) als von **Männern** (Frauen/Männern).\n",
    "\n",
    "b) Frauen haben im Mittel **kleinere** (größere/kleinere) Körper- und **kleinere** (größere/kleinere) Schuhgrößen als Männer.\n",
    "\n",
    "c) In der Tendenz gilt: je größer jemand ist, desto **größere** (größere/kleinere) Schuhe braucht diese Person."
   ]
  },
  {
   "cell_type": "markdown",
   "metadata": {},
   "source": [
    "Die Aussage von c) nennt man positive Korrelation."
   ]
  },
  {
   "cell_type": "markdown",
   "metadata": {},
   "source": [
    "### Was sollen denn da die Nachbarn denken?\n",
    "\n",
    "Jetzt wollen wir das k-nächste Nachbarn Verfahren implementieren, um neue Datenpunkte den Geschlechtern zuzuordnen. Dazu gibt es einen weiteren Datensatz, den man Testdatensatz nennt. Du findest diesen Datesatz hier: http://caeze.bplaced.net/bwki/GroessenMaennerFrauenDatensatzBereinigtTest.txt.\n",
    "\n",
    "Beachte: der Testdatensatz ist gleich aufgebaut wie der Trainingsdatensatz, hat aber weniger Datenpunkte.\n",
    "\n",
    "Aber warum haben wir nun zwei Datensätze? Im maschinellen Lernen wird das so gehandhabt: man hat einen Satz an __Trainingsdaten__, auf denen das System eine Fähigkeit lernt. Diese Fähigkeit ist in dieser Aufgabe das Klassifizieren von Frauen und Männern. Man hat aber noch einen unbenutzten __Testdatensatz__, mit dem bestimmt werden kann, wie gut das System auf noch nie zuvor gesehenen Daten arbeitet. So kann man eine Aussage darüber treffen, ob das System sinnvolle Ergebnisse liefert.\n",
    "\n",
    "Dazu tun wir so, als ob wir in den Testdaten das Geschlecht nicht kennen würden, obwohl es ja in der Tabelle dabei steht. Wir lassen das k-nächste-Nachbarn Verfahren das Geschlecht bestimmen und vergleichen dann mit dem wahren Wert in der Tabelle, in wie weit das Verfahren das Geschlecht der Personen korrekt klassifiziert hat.\n",
    "\n",
    "Wichtig an dieser Stelle: man darf die Testdaten nur einmal am Ende der Entwicklung des Systems zur Bewertung verwenden. Wenn man anhand der Ergebnisse dieser Bewertung nun das System noch verbessern würde, so wären die Testdaten nur weitere Trainingsdaten gewesen und man müsste neue Daten für die Bewertung sammeln.\n",
    "\n",
    "Das Lernen ist beim k-nächste-Nachbarn Verfahren trivial: das System kann sofort klassifizieren, da es nicht erst Informationen aus den Daten extrahieren muss. Dennoch verwenden wir in dieser Aufgabe Trainings- und Testdaten, um diese Vorgehensweise zu veranschaulichen."
   ]
  },
  {
   "cell_type": "code",
   "execution_count": 4,
   "metadata": {},
   "outputs": [
    {
     "data": {
      "text/html": [
       "<div>\n",
       "<style scoped>\n",
       "    .dataframe tbody tr th:only-of-type {\n",
       "        vertical-align: middle;\n",
       "    }\n",
       "\n",
       "    .dataframe tbody tr th {\n",
       "        vertical-align: top;\n",
       "    }\n",
       "\n",
       "    .dataframe thead th {\n",
       "        text-align: right;\n",
       "    }\n",
       "</style>\n",
       "<table border=\"1\" class=\"dataframe\">\n",
       "  <thead>\n",
       "    <tr style=\"text-align: right;\">\n",
       "      <th></th>\n",
       "      <th>Geschlecht</th>\n",
       "      <th>Koerpergroesse</th>\n",
       "      <th>Schuhgroesse</th>\n",
       "    </tr>\n",
       "  </thead>\n",
       "  <tbody>\n",
       "    <tr>\n",
       "      <th>0</th>\n",
       "      <td>Frau</td>\n",
       "      <td>161</td>\n",
       "      <td>41</td>\n",
       "    </tr>\n",
       "    <tr>\n",
       "      <th>1</th>\n",
       "      <td>Mann</td>\n",
       "      <td>175</td>\n",
       "      <td>43</td>\n",
       "    </tr>\n",
       "    <tr>\n",
       "      <th>2</th>\n",
       "      <td>Frau</td>\n",
       "      <td>159</td>\n",
       "      <td>39</td>\n",
       "    </tr>\n",
       "    <tr>\n",
       "      <th>3</th>\n",
       "      <td>Frau</td>\n",
       "      <td>176</td>\n",
       "      <td>40</td>\n",
       "    </tr>\n",
       "    <tr>\n",
       "      <th>4</th>\n",
       "      <td>Mann</td>\n",
       "      <td>181</td>\n",
       "      <td>44</td>\n",
       "    </tr>\n",
       "    <tr>\n",
       "      <th>5</th>\n",
       "      <td>Mann</td>\n",
       "      <td>178</td>\n",
       "      <td>42</td>\n",
       "    </tr>\n",
       "    <tr>\n",
       "      <th>6</th>\n",
       "      <td>Frau</td>\n",
       "      <td>157</td>\n",
       "      <td>37</td>\n",
       "    </tr>\n",
       "    <tr>\n",
       "      <th>7</th>\n",
       "      <td>Frau</td>\n",
       "      <td>160</td>\n",
       "      <td>38</td>\n",
       "    </tr>\n",
       "    <tr>\n",
       "      <th>8</th>\n",
       "      <td>Mann</td>\n",
       "      <td>169</td>\n",
       "      <td>41</td>\n",
       "    </tr>\n",
       "    <tr>\n",
       "      <th>9</th>\n",
       "      <td>Mann</td>\n",
       "      <td>182</td>\n",
       "      <td>43</td>\n",
       "    </tr>\n",
       "  </tbody>\n",
       "</table>\n",
       "</div>"
      ],
      "text/plain": [
       "  Geschlecht  Koerpergroesse  Schuhgroesse\n",
       "0       Frau             161            41\n",
       "1       Mann             175            43\n",
       "2       Frau             159            39\n",
       "3       Frau             176            40\n",
       "4       Mann             181            44\n",
       "5       Mann             178            42\n",
       "6       Frau             157            37\n",
       "7       Frau             160            38\n",
       "8       Mann             169            41\n",
       "9       Mann             182            43"
      ]
     },
     "execution_count": 4,
     "metadata": {},
     "output_type": "execute_result"
    }
   ],
   "source": [
    "# die URL zu der Datei, die die Testdaten im csv-Format enthält\n",
    "url_test = \"http://caeze.bplaced.net/bwki/GroessenMaennerFrauenDatensatzBereinigtTest.txt\"\n",
    "\n",
    "# zunächst importieren wir den Datensatz in ein sog. pandas-Dataframe (pandas-Datenrahmen)\n",
    "datensatz_test = pd.read_csv(url_test)\n",
    "\n",
    "# und zeigen ihn als Tabelle an\n",
    "datensatz_test"
   ]
  },
  {
   "cell_type": "code",
   "execution_count": 5,
   "metadata": {},
   "outputs": [
    {
     "data": {
      "text/plain": [
       "<matplotlib.collections.PathCollection at 0x7f06d2b40c10>"
      ]
     },
     "execution_count": 5,
     "metadata": {},
     "output_type": "execute_result"
    },
    {
     "data": {
      "image/png": "[encoded data removed]",
      "text/plain": [
       "<Figure size 432x288 with 1 Axes>"
      ]
     },
     "metadata": {
      "needs_background": "light"
     },
     "output_type": "display_data"
    }
   ],
   "source": [
    "# wir fügen wieder die Farben hinzu\n",
    "farben_test = datensatz_test.apply(lambda zeile: farbe(zeile), axis=1)\n",
    "\n",
    "# mit diesen Farben zeichnen wir nun den Scatterplot\n",
    "plt.scatter(datensatz_test.Koerpergroesse, datensatz_test.Schuhgroesse, c = farben_test)"
   ]
  },
  {
   "cell_type": "markdown",
   "metadata": {},
   "source": [
    "Für das k-nächste-Nachbarn Verfahren musst du natürlich die nächsten Nachbarn ermitteln. Berechne dazu die Distanz vom gegebenen Testpunkt zu allen Trainingsdatenpunkten. Du kannst dazu die \"distanz\"-Funktion verwenden, die du oben implementiert hast.\n",
    "\n",
    "Dabei musst du dir auch merken, zu welchem der Trainingsdatenpunkte die Distanz jeweils gehört. Speichere diese Datenpaare (Trainingsdatenpunktnummer, Distanz zum Testpunkt) also in eine Liste. Sortiere dann diese Liste nach den Distanzwerten, woraufhin die räumlich nächsten Nachbarn zum Testpunkt vorne in der Liste sind. Gib diese Liste dann zurück.\n",
    "\n",
    "Wenn du AssertionErrors bekommst, ist deine Funktion noch nicht richtig."
   ]
  },
  {
   "cell_type": "code",
   "execution_count": 6,
   "metadata": {
    "collapsed": true
   },
   "outputs": [],
   "source": [
    "# in dieser Funktion werden die Distanzwerte eines Testpunkts zu allen Trainingspunkten bestimmt\n",
    "# und die Liste nach Distanzen sortiert zurückgegeben\n",
    "def erstelleSortierteListeAllerAbstände(testpunkt, trainingspunkte):\n",
    "    # Liste, die gefüllt werden soll\n",
    "    liste = []\n",
    "    \n",
    "    # i ist die Trainingsdatenpunktnummer\n",
    "    for i in range(len(trainingspunkte)):\n",
    "        liste.append((i, distanz(testpunkt, trainingspunkte[i])))\n",
    "    \n",
    "    # sortiere die Liste nach der Distanz und gib sie zurück\n",
    "    return sorted(liste, key=lambda distanz: distanz[1])\n",
    "\n",
    "# führe die Funktion auf einigen beliebig gewählten Punkten aus und überprüfe auf Korrektheit\n",
    "test_liste = erstelleSortierteListeAllerAbstände([1, 2], [[5, 7], [3, 8], [2, 3], [1, 2.1]])\n",
    "assert test_liste == [(3, 0.10000000000000009), (2, 1.4142135623730951), (1, 6.324555320336759), (0, 6.4031242374328485)]"
   ]
  },
  {
   "cell_type": "markdown",
   "metadata": {},
   "source": [
    "Implementiere nun das k-nächste-Nachbarn Klassifikationsverfahren. Iteriere über alle Testpunkte, d.h. gehe alle Testpunkte durch, und speichere für jeden davon das Geschlecht, das das Klassifikationsverfahren ermittelt.\n",
    "\n",
    "Wir wählen k = 5, wir wollen also die fünf nächsten Nachbarn zu jedem Testpunkt ermitteln. Das sind die fünf ersten Elemente der Liste, die dir die gerade erstellte Funktion zurückgibt. Finde über die Trainingsdatenpunktnummern heraus, zu welchem Geschlecht die Nachbarn jeweils gehören und wähle die Mehrheit des Geschlechts als das Geschlecht deines Testpunkts. Füge das gewählte Geschlecht in eine neue Spalte \"Geschlecht_vorhergesagt\" zum Testdatensatz (datensatz_test) hinzu.\n",
    "\n",
    "Wenn du AssertionErrors bekommst, ist deine Funktion noch nicht richtig."
   ]
  },
  {
   "cell_type": "code",
   "execution_count": 7,
   "metadata": {},
   "outputs": [
    {
     "data": {
      "text/html": [
       "<div>\n",
       "<style scoped>\n",
       "    .dataframe tbody tr th:only-of-type {\n",
       "        vertical-align: middle;\n",
       "    }\n",
       "\n",
       "    .dataframe tbody tr th {\n",
       "        vertical-align: top;\n",
       "    }\n",
       "\n",
       "    .dataframe thead th {\n",
       "        text-align: right;\n",
       "    }\n",
       "</style>\n",
       "<table border=\"1\" class=\"dataframe\">\n",
       "  <thead>\n",
       "    <tr style=\"text-align: right;\">\n",
       "      <th></th>\n",
       "      <th>Geschlecht</th>\n",
       "      <th>Koerpergroesse</th>\n",
       "      <th>Schuhgroesse</th>\n",
       "      <th>Geschlecht_vorhergesagt</th>\n",
       "    </tr>\n",
       "  </thead>\n",
       "  <tbody>\n",
       "    <tr>\n",
       "      <th>0</th>\n",
       "      <td>Frau</td>\n",
       "      <td>161</td>\n",
       "      <td>41</td>\n",
       "      <td>Frau</td>\n",
       "    </tr>\n",
       "    <tr>\n",
       "      <th>1</th>\n",
       "      <td>Mann</td>\n",
       "      <td>175</td>\n",
       "      <td>43</td>\n",
       "      <td>Mann</td>\n",
       "    </tr>\n",
       "    <tr>\n",
       "      <th>2</th>\n",
       "      <td>Frau</td>\n",
       "      <td>159</td>\n",
       "      <td>39</td>\n",
       "      <td>Frau</td>\n",
       "    </tr>\n",
       "    <tr>\n",
       "      <th>3</th>\n",
       "      <td>Frau</td>\n",
       "      <td>176</td>\n",
       "      <td>40</td>\n",
       "      <td>Frau</td>\n",
       "    </tr>\n",
       "    <tr>\n",
       "      <th>4</th>\n",
       "      <td>Mann</td>\n",
       "      <td>181</td>\n",
       "      <td>44</td>\n",
       "      <td>Mann</td>\n",
       "    </tr>\n",
       "    <tr>\n",
       "      <th>5</th>\n",
       "      <td>Mann</td>\n",
       "      <td>178</td>\n",
       "      <td>42</td>\n",
       "      <td>Mann</td>\n",
       "    </tr>\n",
       "    <tr>\n",
       "      <th>6</th>\n",
       "      <td>Frau</td>\n",
       "      <td>157</td>\n",
       "      <td>37</td>\n",
       "      <td>Frau</td>\n",
       "    </tr>\n",
       "    <tr>\n",
       "      <th>7</th>\n",
       "      <td>Frau</td>\n",
       "      <td>160</td>\n",
       "      <td>38</td>\n",
       "      <td>Frau</td>\n",
       "    </tr>\n",
       "    <tr>\n",
       "      <th>8</th>\n",
       "      <td>Mann</td>\n",
       "      <td>169</td>\n",
       "      <td>41</td>\n",
       "      <td>Frau</td>\n",
       "    </tr>\n",
       "    <tr>\n",
       "      <th>9</th>\n",
       "      <td>Mann</td>\n",
       "      <td>182</td>\n",
       "      <td>43</td>\n",
       "      <td>Mann</td>\n",
       "    </tr>\n",
       "  </tbody>\n",
       "</table>\n",
       "</div>"
      ],
      "text/plain": [
       "  Geschlecht  Koerpergroesse  Schuhgroesse Geschlecht_vorhergesagt\n",
       "0       Frau             161            41                    Frau\n",
       "1       Mann             175            43                    Mann\n",
       "2       Frau             159            39                    Frau\n",
       "3       Frau             176            40                    Frau\n",
       "4       Mann             181            44                    Mann\n",
       "5       Mann             178            42                    Mann\n",
       "6       Frau             157            37                    Frau\n",
       "7       Frau             160            38                    Frau\n",
       "8       Mann             169            41                    Frau\n",
       "9       Mann             182            43                    Mann"
      ]
     },
     "execution_count": 7,
     "metadata": {},
     "output_type": "execute_result"
    }
   ],
   "source": [
    "# in dieser Funktion wird das k-nächste-Nachbarn Klassifikationsverfahren durchgeführt\n",
    "def knn(k, trainingsdaten, testdaten):\n",
    "    # extrahiere die Koordinaten der Datenpunkte aus den pandas-Datenrahmen\n",
    "    trainingspunkte = list(zip(trainingsdaten.Koerpergroesse, trainingsdaten.Schuhgroesse))\n",
    "    testpunkte = list(zip(testdaten.Koerpergroesse, testdaten.Schuhgroesse))\n",
    "    \n",
    "    # lege eine Liste an, in die die Vorhersagen über das Geschlecht gespeichert werden\n",
    "    geschlechter_vorhergesagt = []\n",
    "    \n",
    "    # iteriere über alle Punkte im Testdatensatz\n",
    "    for testpunkt in testpunkte:\n",
    "        # bestimme alle Nachbarn zum aktuellen Testpunkt, sortiert nach Abstand\n",
    "        alle_nachbarn = erstelleSortierteListeAllerAbstände(testpunkt, trainingspunkte)\n",
    "        # nehme nur die ersten k Nachbarn\n",
    "        k_nachbarn = alle_nachbarn[0:k]\n",
    "        # finde die Nummern (Indices) der Nachbarn im Testdatensatz heraus\n",
    "        k_nachbarn_nummern = [nachbar[0] for nachbar in k_nachbarn]\n",
    "        # hole die Datenzeile zu den Nummern und daraus die Geschlechter\n",
    "        k_nachbarn_geschlechter = trainingsdaten.iloc[k_nachbarn_nummern].Geschlecht\n",
    "        # bestimme das Geschlecht, das in der Mehrheit ist (Tipp: verwende die .mode()-Funktion)\n",
    "        k_nachbarn_geschlecht_mehrheit = k_nachbarn_geschlechter.mode()\n",
    "        # füge das Geschlecht als Zeichenkette in die Liste der vorhergesagten Geschlechter ein\n",
    "        geschlechter_vorhergesagt.append(k_nachbarn_geschlecht_mehrheit.to_string(index=False).replace(\" \", \"\"))\n",
    "    \n",
    "    # gib die Vorhersagen zurück\n",
    "    return geschlechter_vorhergesagt\n",
    "\n",
    "# führe das k-nächste-Nachbarn Klassifikationsverfahren durch\n",
    "geschlechter_vorhergesagt = knn(5, datensatz_training, datensatz_test)\n",
    "\n",
    "# teste, ob das erwartete Ergebnis zurückgegeben wurde\n",
    "assert geschlechter_vorhergesagt == ['Frau', 'Mann', 'Frau', 'Frau', 'Mann', 'Mann', 'Frau', 'Frau', 'Frau', 'Mann']\n",
    "\n",
    "# füge die Vorhersage in den pandas-Datenrahmen ein und zeige ihn als Tabelle an\n",
    "datensatz_test[\"Geschlecht_vorhergesagt\"] = geschlechter_vorhergesagt\n",
    "datensatz_test"
   ]
  },
  {
   "cell_type": "markdown",
   "metadata": {},
   "source": [
    "Nun haben wir eine Vorhersage, die in fast allen Fällen richtig war. Nun können wir bestimmen, in welchen Fällen die Vorhersage falsch lag und dies in einen Scatterplot einzeichnen. Zudem können wir den Prozentsatz falscher Vorhersagen bestimmen."
   ]
  },
  {
   "cell_type": "code",
   "execution_count": 8,
   "metadata": {},
   "outputs": [
    {
     "name": "stdout",
     "output_type": "stream",
     "text": [
      "Prozentsatz falsch vorhergesagter Datenpunkte: 10%\n"
     ]
    },
    {
     "data": {
      "text/plain": [
       "<matplotlib.collections.PathCollection at 0x7f06d2abd7f0>"
      ]
     },
     "execution_count": 8,
     "metadata": {},
     "output_type": "execute_result"
    },
    {
     "data": {
      "image/png": "[encoded data removed]",
      "text/plain": [
       "<Figure size 432x288 with 1 Axes>"
      ]
     },
     "metadata": {
      "needs_background": "light"
     },
     "output_type": "display_data"
    }
   ],
   "source": [
    "# in dieser Funktion wird ermittelt, wie viele der vorhergesagten Geschlechter richtig waren\n",
    "def prozentsatzFalschVorhergesagt(datensatz):\n",
    "    falsch_vorhergesagt = datensatz.apply(lambda zeile: 1 if zeile.Geschlecht != zeile.Geschlecht_vorhergesagt else 0, axis=1)\n",
    "    prozentsatz_falscher_vorhersagen = sum(falsch_vorhergesagt) / datensatz.shape[0]\n",
    "    return round(prozentsatz_falscher_vorhersagen * 100)\n",
    "\n",
    "# ermittle, in wie vielen Fällen die Klassifikation nicht korrekt war\n",
    "prozentsatz_falsch_vorhergesagt = prozentsatzFalschVorhergesagt(datensatz_test)\n",
    "print(\"Prozentsatz falsch vorhergesagter Datenpunkte: \" + str(prozentsatz_falsch_vorhergesagt) + \"%\")\n",
    "\n",
    "# zeichne in einen Scatterplot in Pastelltönen die Trainingsdaten und in grün und schwarz\n",
    "# ob die Vorhersage richtig war (grün für richtig, schwarz für falsch)\n",
    "farbeVorhersageRichtig = datensatz_test.apply(lambda zeile: \"black\" if zeile.Geschlecht != zeile.Geschlecht_vorhergesagt else \"limegreen\", axis=1)\n",
    "plt.scatter(datensatz_training.Koerpergroesse, datensatz_training.Schuhgroesse, alpha = 0.2, c = farben_training)\n",
    "plt.scatter(datensatz_test.Koerpergroesse, datensatz_test.Schuhgroesse, c = farbeVorhersageRichtig)"
   ]
  },
  {
   "cell_type": "markdown",
   "metadata": {},
   "source": [
    "Wie du siehst, wird der überwiegende Teil der Testdatenpunkte richtig als Frauen oder Männer klassifiziert. Nur der schwarze Datenpunkt, der in einem Grenzbereich liegt und bei dem die Zuordnung schwierig ist, wurde fehlerhaft klassifiziert. Solche Missklassifikationen sind meist unvermeidlich, wenn es Klassenüberschneidungen in den Trainingsdaten gibt.\n",
    "\n",
    "Wir haben unseren k-nächste-Nachbarn-Klassifikator also validiert und könnten diesen nun für neue, bisher noch nicht betrachtete Daten verwenden.\n",
    "\n",
    "Anmerkung: auf eine Normalisierung der Achsen wurde in dieser Aufgabe verzichtet."
   ]
  },
  {
   "cell_type": "markdown",
   "metadata": {},
   "source": [
    "## Zusatzaufgabe"
   ]
  },
  {
   "cell_type": "markdown",
   "metadata": {},
   "source": [
    "Teste verschiedene Werte für k und bestimme (falls möglich) einen Wert, der noch besser funktioniert als k = 5."
   ]
  },
  {
   "cell_type": "code",
   "execution_count": 9,
   "metadata": {},
   "outputs": [
    {
     "name": "stdout",
     "output_type": "stream",
     "text": [
      "[(5, 10), (7, 10), (1, 20), (2, 20), (3, 20), (4, 20), (6, 20), (8, 20), (9, 20), (11, 20), (13, 20), (19, 20), (10, 30), (12, 30), (14, 30), (15, 30), (16, 30), (17, 30), (18, 30), (20, 30), (21, 30), (22, 30), (23, 30), (24, 30), (25, 30), (27, 40), (26, 50), (28, 50), (29, 50), (30, 50)]\n"
     ]
    }
   ],
   "source": [
    "ergebnisse = []\n",
    "\n",
    "# teste Werte für k zwischen 1 und 30\n",
    "for k in range(1,31):\n",
    "    datensatz_test[\"Geschlecht_vorhergesagt\"] = knn(k, datensatz_training, datensatz_test)\n",
    "    ergebnisse.append((k, prozentsatzFalschVorhergesagt(datensatz_test)))\n",
    "\n",
    "# sortiere die Ergebnisse anhand des Prozentsatzes der falsch vorhergesagten Datenpunkte\n",
    "ergebnisse = sorted(ergebnisse, key = lambda ergebnis: ergebnis[1])\n",
    "\n",
    "print(ergebnisse)"
   ]
  },
  {
   "cell_type": "markdown",
   "metadata": {},
   "source": [
    "## Fragen & Feedback:\n",
    "\n",
    "**Wenn ihr Fragen oder Anregungen zu der Aufgabe (oder Lösung) habt, dann tauscht euch gerne im [Chat](https://spectrum.chat/bwki/aufgabenarchiv/) darüber aus oder schreibt uns eine E-Mail (an info@bw-ki.de).**\n",
    "\n",
    "Wir freuen uns auch immer über **Feedback** (auch unter info@bw-ki.de):\n",
    "\n",
    "- War diese Aufgabe zu leicht, zu schwer oder genau richtig?\n",
    "- Wie lang hast du für diese Aufgabe ungefähr gebraucht?\n",
    "- Welche Art von Aufgaben wünschst du dir in Zukunft?"
   ]
  }
 ],
 "metadata": {
  "anaconda-cloud": {},
  "kernelspec": {
   "display_name": "Python 3",
   "language": "python",
   "name": "python3"
  },
  "language_info": {
   "codemirror_mode": {
    "name": "ipython",
    "version": 3
   },
   "file_extension": ".py",
   "mimetype": "text/x-python",
   "name": "python",
   "nbconvert_exporter": "python",
   "pygments_lexer": "ipython3",
   "version": "3.8.5"
  }
 },
 "nbformat": 4,
 "nbformat_minor": 1
}
